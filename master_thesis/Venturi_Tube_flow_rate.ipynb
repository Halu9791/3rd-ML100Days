{
 "cells": [
  {
   "cell_type": "markdown",
   "metadata": {},
   "source": [
    "### openpyxl (可讀寫excel表) : 專門處理Excel2007及以上版本產生的xlsx檔案，xls和xlsx之間轉換容易\n",
    "英文教學 : [Openpyxl tutorial](http://zetcode.com/python/openpyxl/)\n"
   ]
  },
  {
   "cell_type": "code",
   "execution_count": 9,
   "metadata": {},
   "outputs": [
    {
     "name": "stdout",
     "output_type": "stream",
     "text": [
      "['iso5167-4', 'simplified method']\n",
      "0.2\n",
      "768.7\n"
     ]
    }
   ],
   "source": [
    "import numpy as np\n",
    "import pandas as pd\n",
    "from openpyxl import load_workbook\n",
    "wb = load_workbook('data1.xlsx',data_only=True)\n",
    "print(wb.sheetnames) #查看xlsx有甚麼分頁 ['iso5167-4', 'simplified method']\n",
    "\n",
    "# 兩種選擇分頁方法\n",
    "iso_sheet = wb.worksheets[0]\n",
    "sim_sheet = wb.worksheets[1]\n",
    "#iso = wb['iso5167-4']\n",
    "\n",
    "print(iso_sheet['K2'].value)#768.7\n",
    "print(sim_sheet['K1'].value)#768.7"
   ]
  },
  {
   "cell_type": "code",
   "execution_count": 10,
   "metadata": {},
   "outputs": [],
   "source": [
    "#測試\n",
    "#Patm = iso_sheet['K1'].value\n",
    "#D    = iso_sheet['K4'].value\n",
    "#d    = iso_sheet['K5'].value\n",
    "\n",
    "# iso_sheet['K1']  #<Cell 'iso5167-4'.K1>\n",
    "\n",
    "#for cell in list(iso_sheet.columns)[11]:\n",
    "#    print(cell.value)\n",
    "\n",
    "#D = list(iso_sheet.cell)['K4']\n",
    "\n",
    "#for i in range(4,6):\n",
    "#    print(type(iso_sheet.cell(i,11).value))  #<class 'float'>"
   ]
  },
  {
   "cell_type": "code",
   "execution_count": 11,
   "metadata": {},
   "outputs": [
    {
     "name": "stdout",
     "output_type": "stream",
     "text": [
      "[768.7, 0.2, 0.14, 1.4, '1.5*10^-5', 1.8e-05, 28.8, 8.314, 1.5e-05, 23.3, 64, 0.7000000000000001, 0.28868055555555555, 296.45, 0.031415900000000004, 1.1975424418815575, 0.9997070309770733]\n"
     ]
    }
   ],
   "source": [
    "# 一次大量讀取cell資料的方法\n",
    "# hint: 如果xlsx的cell內是公式的話，想要讀取出值，必須在\n",
    "# 前面 wb = load_workbook('data1.xlsx',data_only=True)加上 data_only=True。\n",
    "parameter_list_number = []\n",
    "for row in iso_sheet.iter_cols(min_row=1, min_col=11, max_row=17, max_col=11):\n",
    "    for cell in row:\n",
    "        parameter_list_number.append(cell.value)\n",
    "        #print(cell.value, end=\" \")    \n",
    "print(parameter_list_number)"
   ]
  },
  {
   "cell_type": "code",
   "execution_count": 17,
   "metadata": {},
   "outputs": [
    {
     "name": "stdout",
     "output_type": "stream",
     "text": [
      "0.28868055555555555\n",
      "768.7\n"
     ]
    }
   ],
   "source": [
    "#以下有兩種辦法呼叫參數 list、dict\n",
    "'''\n",
    "方法一\n",
    "# 建立各參數的list，之後用x[]呼叫\n",
    "x = parameter_list_label = ['Patm','D','d','k','vair','uair','Mair','Ru','vair','T','W','b','R','K','AD','p','P2_P1']\n",
    "x = parameter_list_number #list\n",
    "# 因為list只能用index呼叫，所以下列印出對照表，方便引用參數。\n",
    "a={'np.arange(1,18)' : parameter_list_label} #兩個list組成dict\n",
    "b=pd.DataFrame(a, index=np.arange(1,18))\n",
    "print(b)\n",
    "'''\n",
    "#方法二 (以下都用dict方法)\n",
    "parameter_list_label = ['Patm','D','d','k','vair','uair','Mair','Ru','vair','T','W','b','R','K','AD','p','P2_P1']\n",
    "dic = dict(zip(parameter_list_label, parameter_list_number)) #dict字典\n",
    "print(dic[\"R\"])     #0.28868055555555555\n",
    "print(dic['Patm'])  #768.7"
   ]
  },
  {
   "cell_type": "code",
   "execution_count": 46,
   "metadata": {},
   "outputs": [
    {
     "name": "stdout",
     "output_type": "stream",
     "text": [
      "['p1', 'p2', 'p3', 'p4', 'p5', 'p6', 'p7', 'p8', 'p9']\n",
      "102.39990460526317\n"
     ]
    }
   ],
   "source": [
    "# 1\n",
    "# xlsx內輸入10筆壓差後，經過計算得到多個參數。\n",
    "p1_kpa = []\n",
    "for row in iso_sheet.iter_cols(min_row=2, min_col=5, max_row=11, max_col=5):\n",
    "    for cell in row:\n",
    "        p1_kpa.append(cell.value)\n",
    "#p1_kpa_label = 'p'+str(np.arange(1,10))\n",
    "print(p1_kpa_label)\n",
    "\n",
    "p1_kpa_label = []\n",
    "for i in np.arange(1,10):\n",
    "    p1_kpa_label.append('p'+repr(i)) # repr()將不同類型的變數串成字串。\n",
    "\n",
    "#將兩個list變成dict\n",
    "dict_p1_kpi = dict(zip(p1_kpa_label, p1_kpa))\n",
    "print(dict_p1_kpi['p1'])"
   ]
  },
  {
   "cell_type": "code",
   "execution_count": 40,
   "metadata": {},
   "outputs": [],
   "source": [
    "#1\n"
   ]
  },
  {
   "cell_type": "code",
   "execution_count": null,
   "metadata": {},
   "outputs": [],
   "source": []
  }
 ],
 "metadata": {
  "kernelspec": {
   "display_name": "Python 3",
   "language": "python",
   "name": "python3"
  },
  "language_info": {
   "codemirror_mode": {
    "name": "ipython",
    "version": 3
   },
   "file_extension": ".py",
   "mimetype": "text/x-python",
   "name": "python",
   "nbconvert_exporter": "python",
   "pygments_lexer": "ipython3",
   "version": "3.7.1"
  }
 },
 "nbformat": 4,
 "nbformat_minor": 2
}
