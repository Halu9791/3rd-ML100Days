{
 "cells": [
  {
   "cell_type": "markdown",
   "metadata": {},
   "source": [
    "# QT C++ OpenCV cmake編譯筆記"
   ]
  },
  {
   "cell_type": "markdown",
   "metadata": {},
   "source": [
    "## 版本、環境\n",
    "    Win10\n",
    "    OpenCV 4.12 (4.20無法與QT 5.14.1使用)\n",
    "    QT 5.14.1\n",
    "    cmake 3.8.2\n",
    "    編譯器:MinGW-64\n",
    "    其中MinGW64和QT可以直接於QT installation一同點選下載\n",
    "    \n",
    "hint: 經測試，OpenCV 4.12與QT5.14.1可以成功編譯，OpenCV4.20與QT5.14.1在cmake編譯時會發生以下報錯\n",
    "\n",
    "No such file or directory Tools\\mingw730_64\\bin\\windres.exe: preprocessing failed.\n",
    "make[2]: *** [modules/core/CMakeFiles/opencv_core.dir/vs_version.rc.obj] Error 1\n",
    "make[1]: *** [modules/core/CMakeFiles/opencv_core.dir/all] Error 2\n",
    "make: *** [all] Error 2"
   ]
  },
  {
   "cell_type": "markdown",
   "metadata": {},
   "source": [
    "## 下載網址\n",
    "\n",
    "1. [官方QT Downloads](http://download.qt.io/) : \n",
    "\n",
    "    (1)opensource安裝包下載。official_releases->qt->選擇版本\n",
    "    \n",
    "    (2)到官網直接下載線上下載器，任何版本或其他套件版本都可以在裡面選擇下載。\n",
    "2. [官方OpenCV](https://opencv.org/releases/) : \n",
    "\n",
    "    (1)VS編譯(QT必須由外掛來include) : Windows下載解壓縮產生build、source兩個資料夾，source用來cmake，可以直接由Visual Studio設定編譯器設定include、linker、dep使用。\n",
    "    \n",
    "    (2)cmake編譯(可以選擇加入QT) : GitHub直接clone下來就是source，用cmake作為編譯資源(source code)。"
   ]
  },
  {
   "cell_type": "markdown",
   "metadata": {},
   "source": [
    "## 教學資源\n",
    "1. [Win10 + QT5.12 + OpenCV4.0.1 + cmake CSDN](https://blog.csdn.net/weixin_42322013/article/details/88808230?fbclid=IwAR0mIo11AlKD1ORYDP3wRGxH9IPRNpX5j3Hu9QYJwZCO878ry-tOF8hlSFQ)\n",
    "2. [How to setup Qt and openCV on Windows](https://wiki.qt.io/How_to_setup_Qt_and_openCV_on_Windows)\n",
    "3. [How to setup Qt and openCV on Windows with MSVC2017](https://wiki.qt.io/How_to_setup_Qt_and_openCV_on_Windows_with_MSVC2017#CMake)\n",
    "4. [How to: build OpenCV x64 with Qt on Visual Studio 2015 Community Preview and Windows 10 Preview (build 10162)](https://gist.github.com/BartG95/1ce8ba1e9c25ec3698d1)\n",
    "5. https://blog.csdn.net/sinat_36264666/article/details/73200739\n",
    "6. https://blog.csdn.net/KID_yuan/article/details/86769144"
   ]
  },
  {
   "cell_type": "markdown",
   "metadata": {},
   "source": [
    "## 安裝步驟"
   ]
  },
  {
   "cell_type": "markdown",
   "metadata": {},
   "source": [
    "### QT 下載與安裝\n",
    "1. 套件選擇:\n",
    "\n",
    "        QT 5.14.1 -> MinGW7.3.0 64-bit\n",
    "        Tools -> Qt Creator\n",
    "        Tools -> MinGW7.3.064-bit\n",
    "2. 安裝地點C:/QT\n",
    "3. 將C:\\Qt\\Qt5.14.1\\Tools\\mingw730_64\\bin加入環境變數"
   ]
  },
  {
   "cell_type": "markdown",
   "metadata": {},
   "source": [
    "### cmake安裝\n",
    "add CMAKE to the system PATH for all users"
   ]
  },
  {
   "cell_type": "markdown",
   "metadata": {},
   "source": [
    "### OpenCV\n",
    "Win pack、GitHub二選一"
   ]
  },
  {
   "cell_type": "markdown",
   "metadata": {},
   "source": [
    "### CMAKE編譯\n",
    "1. 編譯來源與輸出\n",
    "\n",
    "        Where is the source code: 選擇自己下載opencv的source\n",
    "        Where to build the binaries: C:/opencv_build(依個人)\n",
    "2. 點選configure\n",
    "        \n",
    "        MinGW Makefiles\n",
    "        Specify native compilers->C: QT/Qt5.14.1/Tools/mingw730_64/bin/gcc.exe->C++: T/Qt5.14.1/Tools/mingw730_64/bin/g++.exe\n",
    "3. 再點選configure，done後，WITH_OPENGL、WITH_QT打勾，再一次configure\n",
    "4. 出現紅色的部分去Qt\\Qt5.12.1\\5.12.1\\mingw73_64\\lib\\cmake\\中尋找相應位置\n",
    "5. configure、generate"
   ]
  },
  {
   "cell_type": "markdown",
   "metadata": {},
   "source": [
    "### cmd->mingw32-make\n",
    "進入opencv_build文件位置開啟cmd，輸入mingw32-make開始編譯(需要一段時間)\n",
    "\n",
    "完成後，mingw32-make install"
   ]
  },
  {
   "cell_type": "markdown",
   "metadata": {},
   "source": [
    "### 開啟QT\n",
    "    QT-> New Project -> Qt Widgets Application -> choose\n",
    "    qmake\n",
    "    Desktop Qt 5.14.1 WinGW 64-bit\n",
    "    建立專案後，打開.pro檔後面加上\n",
    "    INCLUDEPATH += \n",
    "    C:/opencv-build/install/include\n",
    "    LIBS += C:\\opencv_build\\bin\\libopencv_*.a\n",
    "    \n",
    "    每個新專案都要加上這些"
   ]
  },
  {
   "cell_type": "markdown",
   "metadata": {},
   "source": [
    "### 在visual studio開啟QT，並使用OpenCV中的QT function\n",
    "1. 安裝QT(Open Source)和OpenCV(Win pack或open source都可)\n",
    "2. cmake-> 設定好source和build -> 編譯器visual studio 15 2017(vc15) -> x64 -> default\n",
    "3. configure\n",
    "4. WITH_QT、WITH_OPENGL、OPENCV_ENABLE_NONFREE打勾\n",
    "\n",
    "        WITH_IPP、ENABLE_PRECOMPILED_HEADERS、WITH_OPENCL_D3D11_NV、關於TEST的都取消\n",
    "5. 設置Qt5XXXXXX到Qt/5.14.1/msvc2017_64/lib/cmake/Qt5XXXXXX，相對應的資料夾名稱\n",
    "6. CMAKE_BUILD_TYPE : Debug或Release(沒設也沒出問題)\n",
    "7. 加入QT_QMAKE_EXECUTABLE，PATH : Qt/5.14.1/msvc2017_64/bin/qmake.exe\n",
    "8. configure\n",
    "9. 如都沒有紅底黑字，Generate。\n",
    "10. Open Project\n",
    "11. 平台設定Debug、x64，找到ALL_Build -> 右鍵 -> 建置，完成後INSTALL -> 建置。\n",
    "12. 平台設定Release、x64，步驟跟11一樣。\n",
    "13. 開新專案 -> QT GUI APPLICATION -> Base class:QWidget(超重要，我卡很久)\n",
    "14. 專案 -> 屬性 -> C/C++ -> 一般 -> 其他include目錄:\n",
    "\n",
    "        D:\\opencv_build_VS\\install\\include  (cmake編譯好的opencv庫的include)\n",
    "        C:\\Qt5.12.3\\5.12.3\\msvc2017_64\\include (Qt安裝好的include)\n",
    "15. 連結器 -> 一般 -> 其他程式庫目錄:\n",
    "\n",
    "        D:\\opencv_build_VS\\install\\x64\\vc15\\lib\n",
    "        C:\\Qt5.12.3\\5.12.3\\msvc2017_64\\lib\\cmake\n",
    "16. 連結器 -> 輸入 -> 其他相依性:\n",
    "\n",
    "        opencv_world412d.lib (cmake編譯有勾選的話會有)\n",
    "\n",
    "        opencv_calib3d412d.lib (不然就是根據需求自己一個個打上去)\n",
    "        opencv_core412d.lib\n",
    "        opencv_dnn412d.lib\n",
    "        opencv_features2d412d.lib\n",
    "        opencv_flann412d.lib\n",
    "        opencv_gapi412d.lib\n",
    "        opencv_highgui412d.lib\n",
    "        opencv_imgcodecs412d.lib\n",
    "        opencv_imgproc412d.lib\n",
    "        opencv_ml412d.lib\n",
    "        opencv_objdetect412d.lib\n",
    "        opencv_photo412d.lib\n",
    "        opencv_stitching412d.lib\n",
    "        opencv_video412d.lib\n",
    "        opencv_videoio412d.lib"
   ]
  },
  {
   "cell_type": "markdown",
   "metadata": {},
   "source": [
    "結論 : 建環境令人高血壓"
   ]
  }
 ],
 "metadata": {
  "kernelspec": {
   "display_name": "Python 3",
   "language": "python",
   "name": "python3"
  },
  "language_info": {
   "codemirror_mode": {
    "name": "ipython",
    "version": 3
   },
   "file_extension": ".py",
   "mimetype": "text/x-python",
   "name": "python",
   "nbconvert_exporter": "python",
   "pygments_lexer": "ipython3",
   "version": "3.7.4"
  },
  "toc": {
   "base_numbering": 1,
   "nav_menu": {},
   "number_sections": true,
   "sideBar": true,
   "skip_h1_title": false,
   "title_cell": "Table of Contents",
   "title_sidebar": "Contents",
   "toc_cell": false,
   "toc_position": {},
   "toc_section_display": true,
   "toc_window_display": true
  }
 },
 "nbformat": 4,
 "nbformat_minor": 2
}
