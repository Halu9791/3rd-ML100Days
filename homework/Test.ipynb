{
 "cells": [
  {
   "cell_type": "markdown",
   "metadata": {},
   "source": [
    "# Q1 : 解釋一下Python的三元運算子"
   ]
  },
  {
   "cell_type": "code",
   "execution_count": 1,
   "metadata": {},
   "outputs": [
    {
     "name": "stdout",
     "output_type": "stream",
     "text": [
      "2\n"
     ]
    }
   ],
   "source": [
    "a,b = 2,3\n",
    "min = a if a<b else b\n",
    "print(min)"
   ]
  },
  {
   "cell_type": "markdown",
   "metadata": {},
   "source": [
    "# Q2 : Python中的字典是?"
   ]
  },
  {
   "cell_type": "code",
   "execution_count": 2,
   "metadata": {},
   "outputs": [
    {
     "name": "stdout",
     "output_type": "stream",
     "text": [
      "<class 'dict'>\n",
      "3\n"
     ]
    }
   ],
   "source": [
    "roots = {25:5, 16:4, 9:3, 4:2, 1:1} #{鍵 : 值}\n",
    "print(type(roots))\n",
    "print(roots[9])\n",
    "#print(roots[3]) 錯誤"
   ]
  },
  {
   "cell_type": "markdown",
   "metadata": {},
   "source": [
    "# Q3 : 請解釋使用 * args和** kwargs的含意\n",
    "[Python-可變參數和關鍵字參數(*args **kw)](https://www.itread01.com/content/1530463219.html)"
   ]
  },
  {
   "cell_type": "code",
   "execution_count": 3,
   "metadata": {},
   "outputs": [],
   "source": [
    "# *args : 代入列表(list)或元組(tuple)。可變參數就是傳入的參數個數是可變的，可以是0個，1個，2個，……很多個。\n",
    "# 作用：就是可以一次給函數傳很多的參數"
   ]
  },
  {
   "cell_type": "code",
   "execution_count": 4,
   "metadata": {},
   "outputs": [],
   "source": [
    "# **kwargs : 關鍵字參數允許你傳入0個或任意個含參數名的參數，這些關鍵字參數在函數內部自動組裝為一個dict。在調用函數時，可以只傳入必選參數。\n",
    "# 作用：擴展函數的功能\n"
   ]
  },
  {
   "cell_type": "markdown",
   "metadata": {},
   "source": [
    "# Q4 :  四個數字:1,2,3,4，能組成多少個互不相同無重複的三位數?各是多少?"
   ]
  },
  {
   "cell_type": "code",
   "execution_count": 5,
   "metadata": {},
   "outputs": [
    {
     "name": "stdout",
     "output_type": "stream",
     "text": [
      "1 2 3\n",
      "1 2 4\n",
      "1 3 2\n",
      "1 3 4\n",
      "1 4 2\n",
      "1 4 3\n",
      "2 1 3\n",
      "2 1 4\n",
      "2 3 1\n",
      "2 3 4\n",
      "2 4 1\n",
      "2 4 3\n",
      "3 1 2\n",
      "3 1 4\n",
      "3 2 1\n",
      "3 2 4\n",
      "3 4 1\n",
      "3 4 2\n",
      "4 1 2\n",
      "4 1 3\n",
      "4 2 1\n",
      "4 2 3\n",
      "4 3 1\n",
      "4 3 2\n"
     ]
    }
   ],
   "source": [
    "#print(list(range(1,5)) #[1,2,3,4]\n",
    "for i in range(1,5):\n",
    "    for j in range(1,5):\n",
    "        for k in range(1,5):\n",
    "            if (i != k) and (i != j) and (j != k):\n",
    "                print(i,j,k)"
   ]
  },
  {
   "cell_type": "markdown",
   "metadata": {},
   "source": [
    "# Q5 : 一個整數，加上100等於完全平方數，再加168後也是一個完全平方數，請問該整數是多少?"
   ]
  },
  {
   "cell_type": "code",
   "execution_count": 6,
   "metadata": {},
   "outputs": [
    {
     "name": "stdout",
     "output_type": "stream",
     "text": [
      "-99.0\n",
      "21.0\n",
      "261.0\n",
      "1581.0\n"
     ]
    }
   ],
   "source": [
    "#x+100=n^2   x+100+168=n^2\n",
    "#m^2-n^2=(m+n)(m-n)=168\n",
    "# m+n=i  m-n=j\n",
    "#i,j都是偶數 m=(i+j)/2  n=(i-j)/2\n",
    "#i*j=168  j>=2 則 1 < i < 168/2+1\n",
    "for i in range(1,85):\n",
    "    if 168 % i == 0:\n",
    "        j = 168 / i;\n",
    "        if  i > j and (i + j) % 2 == 0 and (i - j) % 2 == 0 :\n",
    "            m = (i + j) / 2\n",
    "            n = (i - j) / 2\n",
    "            x = n * n - 100\n",
    "            print(x)"
   ]
  },
  {
   "cell_type": "markdown",
   "metadata": {},
   "source": [
    "# Q6 : 用*列印金字塔"
   ]
  },
  {
   "cell_type": "code",
   "execution_count": 7,
   "metadata": {},
   "outputs": [
    {
     "name": "stdout",
     "output_type": "stream",
     "text": [
      "*\n",
      "**\n",
      "***\n",
      "****\n",
      "*****\n"
     ]
    }
   ],
   "source": [
    "n = 5\n",
    "for i in range(1, n+1):\n",
    "    for j in range(i):\n",
    "        print('*',end='') # python3之後 end=''代表不換行。 python2.7 : print 'hello',\n",
    "    print()"
   ]
  },
  {
   "cell_type": "code",
   "execution_count": 8,
   "metadata": {},
   "outputs": [
    {
     "name": "stdout",
     "output_type": "stream",
     "text": [
      "   * \n",
      "  * * \n",
      " * * * \n",
      "* * * * \n"
     ]
    }
   ],
   "source": [
    "'''\n",
    "   *      3\n",
    "  * *     2\n",
    " * * *    1\n",
    "* * * *\n",
    "'''\n",
    "'''\n",
    "錯誤，range()沒有搞懂\n",
    "n = 4\n",
    "for i in range(n): #總共n層\n",
    "    for j in range(n-i-1):\n",
    "        print('',end='')\n",
    "    for k in range(i+1):\n",
    "        print('*',end='')\n",
    "    print() #換行\n",
    "'''\n",
    "for i in range(4):         # 總共有4層 [0,1,2,3]\n",
    "        for j in range(4 - i - 1): # 在第一個*號出現前，先印出空白\n",
    "                 print(\" \", end = \"\")\n",
    "        for k in range(i + 1):                # 印出該層所需要的*字數量\n",
    "                print(\"* \", end = \"\" )\n",
    "        print()                # 換行"
   ]
  },
  {
   "cell_type": "markdown",
   "metadata": {},
   "source": [
    "# Q7 : 請寫一支程式能夠輸入兩個數字，然後輸出這兩個數字的最大公因數。"
   ]
  },
  {
   "cell_type": "code",
   "execution_count": 9,
   "metadata": {},
   "outputs": [
    {
     "name": "stdout",
     "output_type": "stream",
     "text": [
      "最大公因數為1\n"
     ]
    }
   ],
   "source": [
    "#?????????????????????????????????????????????????\n",
    "n1 = 13\n",
    "n2 = 12\n",
    "#餘數等於0代表被整除。\n",
    "while(n1>0 and n2>0): #false就會跳出迴圈\n",
    "    if(n1>n2):\n",
    "        n1=n1%n2\n",
    "    else:\n",
    "        n2=n2%n1\n",
    "if(n1==0): #其中一個為0，則另一個數將會是這兩個數的最大公因數\n",
    "    print('最大公因數為'+str(n2))\n",
    "else:\n",
    "    print('最大公因數為'+str(n1))"
   ]
  },
  {
   "cell_type": "markdown",
   "metadata": {},
   "source": [
    "# Q8 : 讓使用者輸入一個正整數n，求出1! + 2! + 3! + … + n!之值並輸出。"
   ]
  },
  {
   "cell_type": "code",
   "execution_count": 10,
   "metadata": {},
   "outputs": [
    {
     "name": "stdout",
     "output_type": "stream",
     "text": [
      "輸入正整數:10\n"
     ]
    },
    {
     "ename": "KeyboardInterrupt",
     "evalue": "",
     "output_type": "error",
     "traceback": [
      "\u001b[1;31m---------------------------------------------------------------------------\u001b[0m",
      "\u001b[1;31mKeyboardInterrupt\u001b[0m                         Traceback (most recent call last)",
      "\u001b[1;32m~\\Anaconda3\\lib\\site-packages\\ipykernel\\kernelbase.py\u001b[0m in \u001b[0;36m_input_request\u001b[1;34m(self, prompt, ident, parent, password)\u001b[0m\n\u001b[0;32m    877\u001b[0m             \u001b[1;32mtry\u001b[0m\u001b[1;33m:\u001b[0m\u001b[1;33m\u001b[0m\u001b[1;33m\u001b[0m\u001b[0m\n\u001b[1;32m--> 878\u001b[1;33m                 \u001b[0mident\u001b[0m\u001b[1;33m,\u001b[0m \u001b[0mreply\u001b[0m \u001b[1;33m=\u001b[0m \u001b[0mself\u001b[0m\u001b[1;33m.\u001b[0m\u001b[0msession\u001b[0m\u001b[1;33m.\u001b[0m\u001b[0mrecv\u001b[0m\u001b[1;33m(\u001b[0m\u001b[0mself\u001b[0m\u001b[1;33m.\u001b[0m\u001b[0mstdin_socket\u001b[0m\u001b[1;33m,\u001b[0m \u001b[1;36m0\u001b[0m\u001b[1;33m)\u001b[0m\u001b[1;33m\u001b[0m\u001b[1;33m\u001b[0m\u001b[0m\n\u001b[0m\u001b[0;32m    879\u001b[0m             \u001b[1;32mexcept\u001b[0m \u001b[0mException\u001b[0m\u001b[1;33m:\u001b[0m\u001b[1;33m\u001b[0m\u001b[1;33m\u001b[0m\u001b[0m\n",
      "\u001b[1;32m~\\Anaconda3\\lib\\site-packages\\jupyter_client\\session.py\u001b[0m in \u001b[0;36mrecv\u001b[1;34m(self, socket, mode, content, copy)\u001b[0m\n\u001b[0;32m    802\u001b[0m         \u001b[1;32mtry\u001b[0m\u001b[1;33m:\u001b[0m\u001b[1;33m\u001b[0m\u001b[1;33m\u001b[0m\u001b[0m\n\u001b[1;32m--> 803\u001b[1;33m             \u001b[0mmsg_list\u001b[0m \u001b[1;33m=\u001b[0m \u001b[0msocket\u001b[0m\u001b[1;33m.\u001b[0m\u001b[0mrecv_multipart\u001b[0m\u001b[1;33m(\u001b[0m\u001b[0mmode\u001b[0m\u001b[1;33m,\u001b[0m \u001b[0mcopy\u001b[0m\u001b[1;33m=\u001b[0m\u001b[0mcopy\u001b[0m\u001b[1;33m)\u001b[0m\u001b[1;33m\u001b[0m\u001b[1;33m\u001b[0m\u001b[0m\n\u001b[0m\u001b[0;32m    804\u001b[0m         \u001b[1;32mexcept\u001b[0m \u001b[0mzmq\u001b[0m\u001b[1;33m.\u001b[0m\u001b[0mZMQError\u001b[0m \u001b[1;32mas\u001b[0m \u001b[0me\u001b[0m\u001b[1;33m:\u001b[0m\u001b[1;33m\u001b[0m\u001b[1;33m\u001b[0m\u001b[0m\n",
      "\u001b[1;32m~\\Anaconda3\\lib\\site-packages\\zmq\\sugar\\socket.py\u001b[0m in \u001b[0;36mrecv_multipart\u001b[1;34m(self, flags, copy, track)\u001b[0m\n\u001b[0;32m    466\u001b[0m         \"\"\"\n\u001b[1;32m--> 467\u001b[1;33m         \u001b[0mparts\u001b[0m \u001b[1;33m=\u001b[0m \u001b[1;33m[\u001b[0m\u001b[0mself\u001b[0m\u001b[1;33m.\u001b[0m\u001b[0mrecv\u001b[0m\u001b[1;33m(\u001b[0m\u001b[0mflags\u001b[0m\u001b[1;33m,\u001b[0m \u001b[0mcopy\u001b[0m\u001b[1;33m=\u001b[0m\u001b[0mcopy\u001b[0m\u001b[1;33m,\u001b[0m \u001b[0mtrack\u001b[0m\u001b[1;33m=\u001b[0m\u001b[0mtrack\u001b[0m\u001b[1;33m)\u001b[0m\u001b[1;33m]\u001b[0m\u001b[1;33m\u001b[0m\u001b[1;33m\u001b[0m\u001b[0m\n\u001b[0m\u001b[0;32m    468\u001b[0m         \u001b[1;31m# have first part already, only loop while more to receive\u001b[0m\u001b[1;33m\u001b[0m\u001b[1;33m\u001b[0m\u001b[1;33m\u001b[0m\u001b[0m\n",
      "\u001b[1;32mzmq/backend/cython/socket.pyx\u001b[0m in \u001b[0;36mzmq.backend.cython.socket.Socket.recv\u001b[1;34m()\u001b[0m\n",
      "\u001b[1;32mzmq/backend/cython/socket.pyx\u001b[0m in \u001b[0;36mzmq.backend.cython.socket.Socket.recv\u001b[1;34m()\u001b[0m\n",
      "\u001b[1;32mzmq/backend/cython/socket.pyx\u001b[0m in \u001b[0;36mzmq.backend.cython.socket._recv_copy\u001b[1;34m()\u001b[0m\n",
      "\u001b[1;32m~\\Anaconda3\\lib\\site-packages\\zmq\\backend\\cython\\checkrc.pxd\u001b[0m in \u001b[0;36mzmq.backend.cython.checkrc._check_rc\u001b[1;34m()\u001b[0m\n",
      "\u001b[1;31mKeyboardInterrupt\u001b[0m: ",
      "\nDuring handling of the above exception, another exception occurred:\n",
      "\u001b[1;31mKeyboardInterrupt\u001b[0m                         Traceback (most recent call last)",
      "\u001b[1;32m<ipython-input-10-b8a206c86663>\u001b[0m in \u001b[0;36m<module>\u001b[1;34m\u001b[0m\n\u001b[0;32m      1\u001b[0m \u001b[1;31m#n=5 ;  sum = 5!+4!+3!+2!+1! = 120+24+6+2+1 = 153\u001b[0m\u001b[1;33m\u001b[0m\u001b[1;33m\u001b[0m\u001b[1;33m\u001b[0m\u001b[0m\n\u001b[1;32m----> 2\u001b[1;33m \u001b[0mn\u001b[0m \u001b[1;33m=\u001b[0m \u001b[0mint\u001b[0m\u001b[1;33m(\u001b[0m\u001b[0minput\u001b[0m\u001b[1;33m(\u001b[0m\u001b[1;34m'輸入正整數:'\u001b[0m\u001b[1;33m)\u001b[0m\u001b[1;33m)\u001b[0m\u001b[1;33m\u001b[0m\u001b[1;33m\u001b[0m\u001b[0m\n\u001b[0m\u001b[0;32m      3\u001b[0m \u001b[0msum\u001b[0m \u001b[1;33m=\u001b[0m \u001b[1;36m0\u001b[0m \u001b[1;31m# 建立一個變數\u001b[0m\u001b[1;33m\u001b[0m\u001b[1;33m\u001b[0m\u001b[0m\n\u001b[0;32m      4\u001b[0m \u001b[1;32mfor\u001b[0m \u001b[0mi\u001b[0m \u001b[1;32min\u001b[0m \u001b[0mrange\u001b[0m\u001b[1;33m(\u001b[0m\u001b[1;36m1\u001b[0m\u001b[1;33m,\u001b[0m\u001b[0mn\u001b[0m\u001b[1;33m+\u001b[0m\u001b[1;36m1\u001b[0m\u001b[1;33m)\u001b[0m\u001b[1;33m:\u001b[0m \u001b[1;31m#1,2,3,... ,n-1\u001b[0m\u001b[1;33m\u001b[0m\u001b[1;33m\u001b[0m\u001b[0m\n\u001b[0;32m      5\u001b[0m     \u001b[0mfactorial\u001b[0m \u001b[1;33m=\u001b[0m \u001b[1;36m1\u001b[0m\u001b[1;33m\u001b[0m\u001b[1;33m\u001b[0m\u001b[0m\n",
      "\u001b[1;32m~\\Anaconda3\\lib\\site-packages\\ipykernel\\kernelbase.py\u001b[0m in \u001b[0;36mraw_input\u001b[1;34m(self, prompt)\u001b[0m\n\u001b[0;32m    851\u001b[0m             \u001b[0mself\u001b[0m\u001b[1;33m.\u001b[0m\u001b[0m_parent_ident\u001b[0m\u001b[1;33m,\u001b[0m\u001b[1;33m\u001b[0m\u001b[1;33m\u001b[0m\u001b[0m\n\u001b[0;32m    852\u001b[0m             \u001b[0mself\u001b[0m\u001b[1;33m.\u001b[0m\u001b[0m_parent_header\u001b[0m\u001b[1;33m,\u001b[0m\u001b[1;33m\u001b[0m\u001b[1;33m\u001b[0m\u001b[0m\n\u001b[1;32m--> 853\u001b[1;33m             \u001b[0mpassword\u001b[0m\u001b[1;33m=\u001b[0m\u001b[1;32mFalse\u001b[0m\u001b[1;33m,\u001b[0m\u001b[1;33m\u001b[0m\u001b[1;33m\u001b[0m\u001b[0m\n\u001b[0m\u001b[0;32m    854\u001b[0m         )\n\u001b[0;32m    855\u001b[0m \u001b[1;33m\u001b[0m\u001b[0m\n",
      "\u001b[1;32m~\\Anaconda3\\lib\\site-packages\\ipykernel\\kernelbase.py\u001b[0m in \u001b[0;36m_input_request\u001b[1;34m(self, prompt, ident, parent, password)\u001b[0m\n\u001b[0;32m    881\u001b[0m             \u001b[1;32mexcept\u001b[0m \u001b[0mKeyboardInterrupt\u001b[0m\u001b[1;33m:\u001b[0m\u001b[1;33m\u001b[0m\u001b[1;33m\u001b[0m\u001b[0m\n\u001b[0;32m    882\u001b[0m                 \u001b[1;31m# re-raise KeyboardInterrupt, to truncate traceback\u001b[0m\u001b[1;33m\u001b[0m\u001b[1;33m\u001b[0m\u001b[1;33m\u001b[0m\u001b[0m\n\u001b[1;32m--> 883\u001b[1;33m                 \u001b[1;32mraise\u001b[0m \u001b[0mKeyboardInterrupt\u001b[0m\u001b[1;33m\u001b[0m\u001b[1;33m\u001b[0m\u001b[0m\n\u001b[0m\u001b[0;32m    884\u001b[0m             \u001b[1;32melse\u001b[0m\u001b[1;33m:\u001b[0m\u001b[1;33m\u001b[0m\u001b[1;33m\u001b[0m\u001b[0m\n\u001b[0;32m    885\u001b[0m                 \u001b[1;32mbreak\u001b[0m\u001b[1;33m\u001b[0m\u001b[1;33m\u001b[0m\u001b[0m\n",
      "\u001b[1;31mKeyboardInterrupt\u001b[0m: "
     ]
    }
   ],
   "source": [
    "#n=5 ;  sum = 5!+4!+3!+2!+1! = 120+24+6+2+1 = 153\n",
    "n = int(input('輸入正整數:'))\n",
    "sum = 0 # 建立一個變數\n",
    "for i in range(1,n+1): #1,2,3,... ,n-1\n",
    "    factorial = 1\n",
    "    for j in range(1,i+1):\n",
    "        factorial *= (j)\n",
    "    sum += factorial\n",
    "print(sum)"
   ]
  },
  {
   "cell_type": "markdown",
   "metadata": {},
   "source": [
    "# Q9 : 判斷是否質數?"
   ]
  },
  {
   "cell_type": "code",
   "execution_count": null,
   "metadata": {},
   "outputs": [],
   "source": [
    "n = int(input('請輸入一個正整數 : '))\n",
    "def is_prime(n):\n",
    "    prime_list=[]\n",
    "    for i in range(2,n):  #2,3,4,5,n-1\n",
    "        if(n % i==0):     #餘數等於0，代表被整除。\n",
    "            return False\n",
    "        else:\n",
    "            prime_list.append(i)\n",
    "            return True\n",
    "print('%d 是否為質數? %r' %(n, is_prime(n)))\n",
    "#格式化輸出  \n",
    "# %r : 布林    %s : 字串  %d:整數  \n",
    "# %8.2f : 固定列印個字元，有少則從左邊補空白自元，小數點2位。\n",
    "# %5d : 固定列印5個字元，若少於5個數，會在數字左方填入空白字元，若大於5個數會全部列印。 "
   ]
  },
  {
   "cell_type": "markdown",
   "metadata": {},
   "source": [
    "# 10 : groupby agg 用法"
   ]
  },
  {
   "cell_type": "code",
   "execution_count": null,
   "metadata": {},
   "outputs": [],
   "source": [
    "import pandas as pd\n",
    "import numpy as np\n",
    "df = pd.DataFrame({'A': [1, 1, 2, 2],\n",
    "                   'B': [3, 3, 3, 4],\n",
    "                   'C': [2, 2, 2, 4],\n",
    "                   'D': [3, 3, 3, 4]})\n",
    "# size()計數\n",
    "df.groupby(['B']).size()"
   ]
  },
  {
   "cell_type": "code",
   "execution_count": null,
   "metadata": {},
   "outputs": [],
   "source": [
    "df"
   ]
  },
  {
   "cell_type": "code",
   "execution_count": null,
   "metadata": {},
   "outputs": [],
   "source": [
    "df.groupby(['A']).size()"
   ]
  },
  {
   "cell_type": "code",
   "execution_count": null,
   "metadata": {},
   "outputs": [],
   "source": [
    "df.groupby(['A'])['D'].mean()\n",
    "# (3+3)/2 = 3.0\n",
    "# (3+4)/2 = 3.5"
   ]
  },
  {
   "cell_type": "code",
   "execution_count": null,
   "metadata": {},
   "outputs": [],
   "source": [
    "df.groupby(['D'])['C'].size()"
   ]
  },
  {
   "cell_type": "code",
   "execution_count": null,
   "metadata": {},
   "outputs": [],
   "source": [
    "df.groupby(['D'])['C'].mean()\n",
    "# 根據欄位D，內容為3唯一組，內容為4為另外一組  \n",
    "# 3為一組 : (2+2+2)/3=2\n",
    "# 4為一組 : 4/1=4"
   ]
  },
  {
   "cell_type": "code",
   "execution_count": null,
   "metadata": {
    "scrolled": true
   },
   "outputs": [],
   "source": [
    "count_df = df.groupby(['D'])['C'].agg({'Ticket_Count':'mean'})\n",
    "count_df"
   ]
  },
  {
   "cell_type": "markdown",
   "metadata": {},
   "source": [
    "# map"
   ]
  },
  {
   "cell_type": "code",
   "execution_count": null,
   "metadata": {},
   "outputs": [],
   "source": [
    "listA = ['1', '2', '3']\n",
    "list(map(int, listA))"
   ]
  },
  {
   "cell_type": "code",
   "execution_count": null,
   "metadata": {},
   "outputs": [],
   "source": [
    "listA = [1, 2, 3]\n",
    "def square(x):\n",
    "    ans = x**2\n",
    "    return ans\n",
    "\n",
    "# 無法使用square(listA)列印出答案，要使用 map\n",
    "print( list(map(square, listA)) )\n",
    "# 也可用\n",
    "for i in map(square, listA):\n",
    "    print(i)"
   ]
  },
  {
   "cell_type": "code",
   "execution_count": null,
   "metadata": {},
   "outputs": [],
   "source": [
    "listA = [1, 2, 3]\n",
    "def square(x):\n",
    "    return x**2\n",
    "list(map(square, listA))"
   ]
  },
  {
   "cell_type": "code",
   "execution_count": null,
   "metadata": {},
   "outputs": [],
   "source": [
    "list(map(lambda x: x**2, listA))"
   ]
  },
  {
   "cell_type": "code",
   "execution_count": null,
   "metadata": {},
   "outputs": [],
   "source": [
    "list(map(lambda x: x**2, [1, 2, 3]))"
   ]
  },
  {
   "cell_type": "code",
   "execution_count": null,
   "metadata": {},
   "outputs": [],
   "source": [
    "list(map(lambda x, y: x+y, [1, 2, 3], [1, 2, 3]))"
   ]
  },
  {
   "cell_type": "markdown",
   "metadata": {},
   "source": [
    "# hash 雜湊值"
   ]
  },
  {
   "cell_type": "code",
   "execution_count": null,
   "metadata": {},
   "outputs": [],
   "source": [
    "a = 'abc'\n",
    "hash(a)"
   ]
  },
  {
   "cell_type": "code",
   "execution_count": null,
   "metadata": {},
   "outputs": [],
   "source": [
    "b = 12\n",
    "hash(b)"
   ]
  },
  {
   "cell_type": "code",
   "execution_count": null,
   "metadata": {},
   "outputs": [],
   "source": []
  },
  {
   "cell_type": "code",
   "execution_count": null,
   "metadata": {},
   "outputs": [],
   "source": []
  },
  {
   "cell_type": "code",
   "execution_count": null,
   "metadata": {},
   "outputs": [],
   "source": []
  },
  {
   "cell_type": "code",
   "execution_count": null,
   "metadata": {},
   "outputs": [],
   "source": [
    "with open ('123.jpg', 'rb') as f:\n",
    "    image = f.read()"
   ]
  },
  {
   "cell_type": "code",
   "execution_count": null,
   "metadata": {},
   "outputs": [],
   "source": [
    "image"
   ]
  },
  {
   "cell_type": "code",
   "execution_count": null,
   "metadata": {},
   "outputs": [],
   "source": [
    "repr(image)"
   ]
  },
  {
   "cell_type": "code",
   "execution_count": null,
   "metadata": {},
   "outputs": [],
   "source": []
  },
  {
   "cell_type": "code",
   "execution_count": null,
   "metadata": {},
   "outputs": [],
   "source": [
    "import re\n",
    "image = repr(image)\n",
    "image = image.replace('\\\\', ',0')"
   ]
  },
  {
   "cell_type": "code",
   "execution_count": null,
   "metadata": {},
   "outputs": [],
   "source": [
    "image"
   ]
  },
  {
   "cell_type": "code",
   "execution_count": null,
   "metadata": {},
   "outputs": [],
   "source": [
    "int('0xdf', 16)"
   ]
  },
  {
   "cell_type": "code",
   "execution_count": null,
   "metadata": {},
   "outputs": [],
   "source": [
    "str(image, encoding=\"utf-8\")"
   ]
  },
  {
   "cell_type": "code",
   "execution_count": null,
   "metadata": {},
   "outputs": [],
   "source": [
    "# str(image, encoding=\"utf-8\")\n",
    "repr(image)\n",
    "a=bytes.decode(repr(image))"
   ]
  },
  {
   "cell_type": "code",
   "execution_count": null,
   "metadata": {},
   "outputs": [],
   "source": [
    "int(a,16)"
   ]
  },
  {
   "cell_type": "code",
   "execution_count": null,
   "metadata": {},
   "outputs": [],
   "source": [
    "image.decode(\"utf-16\")"
   ]
  },
  {
   "cell_type": "code",
   "execution_count": null,
   "metadata": {},
   "outputs": [],
   "source": [
    "type(image)"
   ]
  },
  {
   "cell_type": "code",
   "execution_count": null,
   "metadata": {},
   "outputs": [],
   "source": [
    "int(image, 16)"
   ]
  },
  {
   "cell_type": "code",
   "execution_count": null,
   "metadata": {},
   "outputs": [],
   "source": [
    "import re\n",
    "image_sub = re.sub('b\\\\\\\\','0',image)"
   ]
  },
  {
   "cell_type": "code",
   "execution_count": null,
   "metadata": {},
   "outputs": [],
   "source": [
    "import codecs\n",
    "a='\\xff\\xd8\\xff\\xe0\\x00\\x10JFIF\\x00\\x01\\x01\\x01\\x00`\\x00`\\x00\\x00\\xff\\xdb\\x00C\\x00\\x02\\x01\\x01\\x02\\x01\\x01\\x02\\x02\\x02\\x02\\x02\\x02\\x02\\x02\\x03\\x05\\x03\\x03\\x03\\x03\\x03\\x06\\x04\\x04\\x03\\x05\\x07\\x06\\x07\\x07\\x07\\x06\\x07\\x07\\x08\\t\\x0b\\t\\x08\\x08\\n\\x08\\x07\\x07\\n\\r\\n\\n\\x0b\\x0c\\x0c\\x0c\\x0c\\x07\\t\\x0e\\x0f\\r\\x0c\\x0e\\x0b\\x0c\\x0c\\x0c\\xff\\xdb\\x00C\\x01\\x02\\x02\\x02\\x03\\x03\\x03\\x06\\x03\\x03\\x06\\x0c\\x08\\x07\\x08\\x0c\\x0c\\x0c\\x0c\\x0c\\x0c\\x0c\\x0c\\x0c\\x0c\\x0c\\x0c\\x0c\\x0c\\x0c\\x0c\\x0c\\x0c\\x0c\\x0c\\x0c\\x0c\\x0c\\x0c\\x0c\\x0c\\x0c\\x0c\\x0c\\x0c\\x0c\\x0c\\x0c\\x0c\\x0c\\x0c\\x0c\\x0c\\x0c\\x0c\\x0c\\x0c\\x0c\\x0c\\x0c\\x0c\\x0c\\x0c\\x0c\\x0c\\xff\\xc0\\x00\\x11\\x08\\x00J\\x00M\\x03\\x01\"\\x00\\x02\\x11\\x01\\x03\\x11\\x01\\xff\\xc4\\x00\\x1f\\x00\\x00\\x01\\x05\\x01\\x01\\x01\\x01\\x01\\x01\\x00\\x00\\x00\\x00\\x00\\x00\\x00\\x00\\x01\\x02\\x03\\x04\\x05\\x06\\x07\\x08\\t\\n\\x0b\\xff\\xc4\\x00\\xb5\\x10\\x00\\x02\\x01\\x03\\x03\\x02\\x04\\x03\\x05\\x05\\x04\\x04\\x00\\x00\\x01}\\x01\\x02\\x03\\x00\\x04\\x11\\x05\\x12!1A\\x06\\x13Qa\\x07\"q\\x142\\x81\\x91\\xa1\\x08#B\\xb1\\xc1\\x15R\\xd1\\xf0$3br\\x82\\t\\n\\x16\\x17\\x18\\x19\\x1a%&\\'()*456789:CDEFGHIJSTUVWXYZcdefghijstuvwxyz\\x83\\x84\\x85\\x86\\x87\\x88\\x89\\x8a\\x92\\x93\\x94\\x95\\x96\\x97\\x98\\x99\\x9a\\xa2\\xa3\\xa4\\xa5\\xa6\\xa7\\xa8\\xa9\\xaa\\xb2\\xb3\\xb4\\xb5\\xb6\\xb7\\xb8\\xb9\\xba\\xc2\\xc3\\xc4\\xc5\\xc6\\xc7\\xc8\\xc9\\xca\\xd2\\xd3\\xd4\\xd5\\xd6\\xd7\\xd8\\xd9\\xda\\xe1\\xe2\\xe3\\xe4\\xe5\\xe6\\xe7\\xe8\\xe9\\xea\\xf1\\xf2\\xf3\\xf4\\xf5\\xf6\\xf7\\xf8\\xf9\\xfa\\xff\\xc4\\x00\\x1f\\x01\\x00\\x03\\x01\\x01\\x01\\x01\\x01\\x01\\x01\\x01\\x01\\x00\\x00\\x00\\x00\\x00\\x00\\x01\\x02\\x03\\x04\\x05\\x06\\x07\\x08\\t\\n\\x0b\\xff\\xc4\\x00\\xb5\\x11\\x00\\x02\\x01\\x02\\x04\\x04\\x03\\x04\\x07\\x05\\x04\\x04\\x00\\x01\\x02w\\x00\\x01\\x02\\x03\\x11\\x04\\x05!1\\x06\\x12AQ\\x07aq\\x13\"2\\x81\\x08\\x14B\\x91\\xa1\\xb1\\xc1\\t#3R\\xf0\\x15br\\xd1\\n\\x16$4\\xe1%\\xf1\\x17\\x18\\x19\\x1a&\\'()*56789:CDEFGHIJSTUVWXYZcdefghijstuvwxyz\\x82\\x83\\x84\\x85\\x86\\x87\\x88\\x89\\x8a\\x92\\x93\\x94\\x95\\x96\\x97\\x98\\x99\\x9a\\xa2\\xa3\\xa4\\xa5\\xa6\\xa7\\xa8\\xa9\\xaa\\xb2\\xb3\\xb4\\xb5\\xb6\\xb7\\xb8\\xb9\\xba\\xc2\\xc3\\xc4\\xc5\\xc6\\xc7\\xc8\\xc9\\xca\\xd2\\xd3\\xd4\\xd5\\xd6\\xd7\\xd8\\xd9\\xda\\xe2\\xe3\\xe4\\xe5\\xe6\\xe7\\xe8\\xe9\\xea\\xf2\\xf3\\xf4\\xf5\\xf6\\xf7\\xf8\\xf9\\xfa\\xff\\xda\\x00\\x0c\\x03\\x01\\x00\\x02\\x11\\x03\\x11\\x00?\\x00\\xfd\\xfc\\xa2\\x8a\\xf8\\'\\xfe\"%\\xf8)\\xff\\x00B\\xbf\\xc5/\\xfc\\x16\\xd8\\x7f\\xf2erb\\xb1\\xf8|5\\xbd\\xbc\\xd4o\\xb5\\xcf\\xa7\\xe1\\xce\\x0c\\xce\\xf3\\xff\\x00i\\xfd\\x8d\\x86\\x95ognn^\\x9c\\xd7\\xb5\\xfdy_\\xdc}\\xedE|Q\\xf0\\xab\\xfe\\x0b\\xc1\\xf0\\x8b\\xe2\\xff\\x00\\xc5\\x0f\\r\\xf8KM\\xf0\\xe7\\xc4\\x885\\x1f\\x14j\\xb6\\xbaE\\xac\\x97:}\\x92\\xc1\\x1c\\xb7\\x12\\xacH\\xceV\\xed\\x98(g\\x19!I\\xc6p\\x0fJ\\xfb^\\x9e\\x17\\x1bC\\x12\\x9c\\xa8II.\\xc60E\\xc2Y\\xc6CR\\x14s\\x8c<\\xa8\\xcaj\\xe9K\\xaaZ0(\\xa2\\x8a\\xea>t(\\xa2\\x8a\\x00(\\xa2\\x8a\\x00+\\xf0\\x9f\\xfe\\x08\\xc7\\xfb1x\\x1b\\xf6\\xb0\\xfd\\xa8u\\xef\\x0e\\xf8\\xff\\x00D\\xfe\\xdf\\xd1\\xac\\xbc-q\\xa9Co\\xf6\\xcb\\x8b]\\x97\\x0bwg\\x1a\\xbe\\xe8\\x1d\\x18\\xe1%\\x90`\\x9c|\\xdd2\\x06?v+\\xf1\\x97\\xfe\\r\\xda\\xff\\x00\\x93\\xd6\\xf1G\\xfd\\x89\\x17\\x7f\\xfa_\\xa7\\xd7\\xca\\xe7\\xb4\\xe3S\\x1d\\x84\\x84\\xd5\\xd3r\\xd1\\xff\\x00\\xdb\\xa7\\xf4g\\x83\\xb8\\xdcN\\x0f\\x83\\xf8\\x9b\\x13\\x84\\xa9*u#N\\x83R\\x8bq\\x92w\\xab\\xaaj\\xcd?C\\x96\\xf8\\xb1\\xf0[\\xc3?\\xb3\\xc7\\xfc\\x16\\xeb\\xc2\\xde\\x0f\\xf0~\\x9b\\xfd\\x91\\xe1\\xcd#\\xc6\\xfe\\x16\\xfb%\\xa7\\xda%\\xb8\\xf2|\\xd1a3\\xfc\\xf2\\xb39\\xcc\\x929\\xe5\\x8e3\\x81\\xc0\\x02\\xbd\\x13\\xfe\\x0e\\xb5\\xff\\x00\\x82\\xa3\\xfcv\\xff\\x00\\x82k\\xff\\x00\\xc2\\x86\\xff\\x00\\x85+\\xe3\\x9f\\xf8B\\xff\\x00\\xe14\\xff\\x00\\x84\\x87\\xfbg\\xfe$\\xba~\\xa3\\xf6\\xcf\\xb2\\xff\\x00e\\xf9\\x1f\\xf1\\xf7\\x04\\xbb6\\xfd\\xa2o\\xb9\\xb7;\\xf9\\xce\\x061?l\\x1f\\xf9X\\x17I\\xff\\x00\\xb1\\xdf\\xc2_\\xfa\\'M\\xaf\\x1b\\xff\\x00\\x83\\xe7?\\xe6\\xd7\\x7f\\xeek\\xff\\x00\\xdc-W\\x0eF1\\xab\\x8a\\x8cU\\x92\\xa8\\xff\\x00S?\\x1d\\xb15\\xb1\\x19w\\x0fb1\\x12s\\x9c\\xf0t\\xdc\\xa4\\xdbm\\xb7\\x18\\xb6\\xdbz\\xb6\\xde\\xad\\xbd[>p\\xf0\\x9f\\xfc\\x15c\\xfe\\n\\xfb\\xe3\\xdf\\n\\xe9\\xba\\xee\\x85\\xa7\\xfco\\xd6\\xb4Mj\\xd2+\\xfd?P\\xb0\\xf8#gsk\\x7fo*\\x07\\x8ah\\xa5M(\\xa4\\x91\\xba2\\xb2\\xb2\\x92\\x18\\x10A \\xd6\\x7f\\xc5/\\xf8,\\'\\xfc\\x15\\xa3\\xe0w\\x81/\\xbcS\\xe3V\\xf8\\xbf\\xe0\\xff\\x00\\x0c\\xe9~_\\xdb5}o\\xe0\\xd5\\x86\\x9fai\\xe6H\\xb1G\\xe6O.\\x96\\xb1\\xa6\\xe9\\x1d\\x10n#,\\xea\\x07$\\n\\xfe\\x87\\x7f\\xe0\\x93\\xbf\\xf2\\x8b/\\xd9\\xa7\\xfe\\xc9W\\x85\\xff\\x00\\xf4\\xd1k^\\x01\\xff\\x00\\x07G\\x7f\\xca\\n>9\\xff\\x00\\xdc\\x03\\xff\\x00R\\r2\\xbe\\xa0\\xfew9\\xff\\x00\\xf85\\xff\\x00\\xf6\\xf5\\xf8\\xb1\\xff\\x00\\x05\\x11\\xfd\\x81|]\\xe3_\\x8c^+\\xff\\x00\\x84\\xc3\\xc4\\xda_\\xc4\\x0b\\xcd\\x12\\xd6\\xf3\\xfb2\\xcfO\\xf2\\xac\\xe3\\xd3\\xb4\\xd9\\x92/.\\xd6(\\xa38\\x92\\xe2f\\xdcT\\xb7\\xcf\\x82p\\x00\\x1f\\xa3\\xf5\\xf9\\x01\\xff\\x00\\x06T\\xff\\x00\\xca,\\xbc}\\xff\\x00eWQ\\xff\\x00\\xd3F\\x8f_\\xaf\\xf4\\x00QE\\x14\\x00W\\xe3/\\xfc\\x1b\\xb5\\xff\\x00\\'\\xad\\xe2\\x8f\\xfb\\x12.\\xff\\x00\\xf4\\xbfO\\xaf\\xd9\\xaa\\xfce\\xff\\x00\\x83v\\xbf\\xe4\\xf5\\xbcQ\\xff\\x00bE\\xdf\\xfe\\x97\\xe9\\xf5\\xf3\\x19\\xd7\\xfc\\x8c0~\\xb2\\xff\\x00\\xdbO\\xe8/\\n\\x7f\\xe4\\x88\\xe2\\x8f\\xfa\\xf7C\\xf3\\xaa\\x1f\\xb6\\x0f\\xfc\\xac\\x0b\\xa4\\xff\\x00\\xd8\\xef\\xe1/\\xfd\\x13\\xa6\\xd7\\x8d\\xff\\x00\\xc1\\xf3\\x9f\\xf3k\\xbf\\xf75\\xff\\x00\\xee\\x16\\xbd\\x93\\xf6\\xc1\\xff\\x00\\x95\\x81t\\x9f\\xfb\\x1d\\xfc%\\xff\\x00\\xa2t\\xda\\xf1\\xbf\\xf8>s\\xfemw\\xfe\\xe6\\xbf\\xfd\\xc2\\xd3\\xe1\\xff\\x00\\xe3\\xe2\\xbf\\xeb\\xe3\\xfc\\xd8x\\xdb\\xff\\x00\"\\x8e\\x1b\\xff\\x00\\xb0*\\x7f\\xfaL\\x0f\\xd7\\xef\\xf8$\\xef\\xfc\\xa2\\xcb\\xf6i\\xff\\x00\\xb2U\\xe1\\x7f\\xfd4Z\\xd7\\x80\\x7f\\xc1\\xd1\\xdf\\xf2\\x82\\x8f\\x8e\\x7f\\xf7\\x00\\xff\\x00\\xd4\\x83L\\xad\\x0f\\xf8&W\\xfc\\x14\\xdb\\xf6n\\xf0\\x17\\xfc\\x13o\\xf6|\\xd0\\xb5\\xdf\\xda\\x0f\\xe0\\x86\\x8b\\xad\\xe8\\xbf\\r|9a\\xa8i\\xf7\\xfe:\\xd2\\xed\\xae\\xac.\"\\xd2\\xed\\x92Xe\\x89\\xe7\\x0f\\x1c\\x88\\xea\\xca\\xca\\xc0\\x15 \\x82\\x01\\x15\\xe1\\xff\\x00\\xf0q\\xe7\\xfc\\x14\\'\\xe0\\x17\\xc7\\x1f\\xf8#\\x1f\\xc6O\\x0bx+\\xe3\\x87\\xc2\\x0f\\x18x\\x9bT\\xfe\\xc4\\xfb\\x1e\\x91\\xa2x\\xcbN\\xd4/\\xee\\xfc\\xbdsO\\x96O.\\x08\\xa6i\\x1flh\\xeev\\x83\\x85F\\'\\x80M}1\\xfc\\xfas\\xff\\x00\\xf0eO\\xfc\\xa2\\xcb\\xc7\\xdf\\xf6Uu\\x1f\\xfd4h\\xf5\\xfa\\xff\\x00_\\x90\\x1f\\xf0eO\\xfc\\xa2\\xcb\\xc7\\xdf\\xf6Uu\\x1f\\xfd4h\\xf5\\xfa\\xff\\x00@\\x05\\x14Q@\\x05~2\\xff\\x00\\xc1\\xbb_\\xf2z\\xde(\\xff\\x00\\xb1\"\\xef\\xff\\x00K\\xf4\\xfa\\xfd\\x9a\\xaf\\xc6_\\xf8\\x87k\\xe3_\\xfd\\r\\x1f\\x0b\\x7f\\xf0e\\x7f\\xff\\x00\\xc8u\\xf3\\x19\\xf5,G\\xd60\\xf5\\xe8Ss\\xe4rm/\\x91\\xfd\\x05\\xe0\\xcea\\x92\\x7fbgy6s\\x8d\\x8e\\x17\\xebQ\\xa3\\x18\\xcaJ\\xfb{[\\xb4\\xae\\xafk\\xae\\xabp\\xfd\\xb0\\x7f\\xe5`]\\'\\xfe\\xc7\\x7f\\t\\x7f\\xe8\\x9d6\\xbe\\x9b\\xff\\x00\\x82\\xe7\\x7f\\xc1\\x0c\\x7f\\xe1\\xf4\\x7f\\xf0\\xab\\xbf\\xe2\\xe8\\xff\\x00\\xc2\\xb6\\xff\\x00\\x85m\\xfd\\xad\\xff\\x002\\xdf\\xf6\\xc7\\xf6\\x8f\\xdb\\xbe\\xc5\\xff\\x00OV\\xfe^\\xcf\\xb1\\xff\\x00\\xb5\\xbb\\xcc\\xfe\\x1d\\xbc\\xf8\\xbf\\xec\\xe3\\xff\\x00\\x04\\x1f\\xf8\\xbd\\xf0\\x83\\xf6\\x86\\xf0\\x1f\\x8bu/\\x11\\xfc8\\x9fN\\xf0\\xbf\\x88\\xb4\\xfd^\\xea;mB\\xf5\\xa7\\x92+{\\x98\\xe5u@\\xd6\\x8a\\xa5\\xca\\xa1\\xc0,\\x06q\\x92:\\xd7\\xeb=_\\x0fQ\\xaf\\x17^\\xa5x89\\xca\\xf6~g?\\x8d\\xf9\\xaeO\\x88\\xa7\\x94\\xe02|0q1\\xc2\\xe1\\xe3I\\xca*\\xd7q\\xb4omm{^\\xd7v\\xee\\xcf\\xc0\\x1f\\xf8\\x81\\x8f\\xfe\\xae\\x8b\\xff\\x001\\xbf\\xff\\x00}(\\xff\\x00\\x88\\x18\\xff\\x00\\xea\\xe8\\xbf\\xf3\\x1b\\xff\\x00\\xf7\\xd2\\xbf\\x7f\\xa8\\xaf\\xa4?\\x05>@\\xff\\x00\\x82*\\x7f\\xc1)\\x7f\\xe1\\xcf\\x9f\\xb2\\xc6\\xbf\\xf0\\xd3\\xfe\\x13\\xdf\\xf8X\\x9f\\xdb\\x9e+\\xb8\\xf1?\\xf6\\x97\\xf6\\'\\xf6G\\x91\\xe6\\xdaY\\xdby\\x1eW\\xda\\'\\xdd\\x8f\\xb2n\\xdf\\xbcg\\xcc\\xc6\\xd1\\xb7\\'\\xeb\\xfa(\\xa0\\x02\\x8a(\\xa0\\x02\\x8a(\\xa0\\x02\\x8a(\\xa0\\x02\\x8a(\\xa0\\x02\\x8a(\\xa0\\x02\\x8a(\\xa0\\x0f\\xff\\xd9'\n",
    "str(image)\n",
    "#codecs.decode(a, \"hex\")\n",
    "int(a,16)"
   ]
  },
  {
   "cell_type": "code",
   "execution_count": null,
   "metadata": {},
   "outputs": [],
   "source": [
    "type(image)"
   ]
  },
  {
   "cell_type": "code",
   "execution_count": null,
   "metadata": {},
   "outputs": [],
   "source": []
  },
  {
   "cell_type": "code",
   "execution_count": null,
   "metadata": {},
   "outputs": [],
   "source": []
  },
  {
   "cell_type": "code",
   "execution_count": null,
   "metadata": {},
   "outputs": [],
   "source": [
    "f = open('123.jpg', 'rb')\n",
    "jpgdata = f.read()\n",
    "f.close()"
   ]
  },
  {
   "cell_type": "code",
   "execution_count": null,
   "metadata": {},
   "outputs": [],
   "source": [
    "jpgdata"
   ]
  },
  {
   "cell_type": "code",
   "execution_count": null,
   "metadata": {},
   "outputs": [],
   "source": [
    "with open('123.jpg', 'r', encoding=\"big5\") as f:\n",
    "    jpgdata = f.read()"
   ]
  },
  {
   "cell_type": "code",
   "execution_count": null,
   "metadata": {},
   "outputs": [],
   "source": []
  },
  {
   "cell_type": "code",
   "execution_count": null,
   "metadata": {},
   "outputs": [],
   "source": []
  },
  {
   "cell_type": "code",
   "execution_count": null,
   "metadata": {},
   "outputs": [],
   "source": [
    "from PIL import Image\n",
    "img = Image.open('123.jpg')\n",
    "img.show()"
   ]
  },
  {
   "cell_type": "code",
   "execution_count": null,
   "metadata": {},
   "outputs": [],
   "source": [
    "import matplotlib.pyplot as plt\n",
    "import matplotlib.image as mpimg\n",
    "\n",
    "img=mpimg.imread('123.jpg')"
   ]
  },
  {
   "cell_type": "code",
   "execution_count": null,
   "metadata": {},
   "outputs": [],
   "source": [
    "img"
   ]
  },
  {
   "cell_type": "code",
   "execution_count": null,
   "metadata": {},
   "outputs": [],
   "source": [
    "imgplot = plt.imshow(img)"
   ]
  },
  {
   "cell_type": "code",
   "execution_count": null,
   "metadata": {},
   "outputs": [],
   "source": [
    "aaa =  [[(12,14,15),(23,45,56),(45,56,78),(93,45,67)],\n",
    "       [(12,14,15),(23,45,56),(45,56,78),(93,45,67)],\n",
    "       [(12,14,15),(23,45,56),(45,56,78),(93,45,67)]]\n",
    "from matplotlib.pyplot import imshow\n",
    "import matplotlib.pyplot as plt\n",
    "imshow(aaa, interpolation=\"nearest\")  \n",
    "plt.show()"
   ]
  },
  {
   "cell_type": "code",
   "execution_count": null,
   "metadata": {},
   "outputs": [],
   "source": [
    "a=1\n",
    "if not a==2:\n",
    "    print(\"123\")\n",
    "else:\n",
    "    print(\"321\")"
   ]
  },
  {
   "cell_type": "markdown",
   "metadata": {},
   "source": [
    "# opencv、PIL、 scikit-image\n",
    "[OpenCV，PIL，Skimage](https://zhuanlan.zhihu.com/p/52344534)\n",
    "影像處理用套件"
   ]
  },
  {
   "cell_type": "markdown",
   "metadata": {},
   "source": [
    "# 數位影像處理"
   ]
  },
  {
   "cell_type": "code",
   "execution_count": null,
   "metadata": {},
   "outputs": [],
   "source": []
  },
  {
   "cell_type": "markdown",
   "metadata": {},
   "source": [
    "# PIL.Image"
   ]
  },
  {
   "cell_type": "raw",
   "metadata": {},
   "source": [
    "去噪點 步驟: 原文網址：https://kknews.cc/code/ppp3a58.html\n",
    "http://www.justdopython.com/2019/10/22/python-image-pillow-clear-norisy-089/\n",
    "https://zhuanlan.zhihu.com/p/62737338\n",
    "https://pillow.readthedocs.io/en/3.1.x/reference/ImageFilter.html\n",
    "1. 灰階化\n",
    "2. 二值化 :將灰度圖像轉換成由黑白二色組成的圖像。思路就是確定一個閾值，大於閾值的像素表示為白色，小於閾值的像素表示為黑色，以此將圖片的像素（灰度值）劃分為兩部分：0和1，例如0代表黑色，1代表白色，然後我們就可以用一串0和1組成的數字來表示一張圖片。\n",
    "3. "
   ]
  },
  {
   "cell_type": "code",
   "execution_count": null,
   "metadata": {},
   "outputs": [],
   "source": [
    "# Image提供圖片處理功能，ImageDraw模組提供了影象物件的簡單2D繪製。\n",
    "from PIL import Image, ImageDraw\n",
    "import numpy as np\n",
    "image = Image.open('123.jpg')"
   ]
  },
  {
   "cell_type": "code",
   "execution_count": null,
   "metadata": {},
   "outputs": [],
   "source": [
    "# 1.為了去噪點，轉灰階圖\n",
    "def gray_processing(input_image):\n",
    "    input_image = input_image.convert('L')\n",
    "    return input_image\n",
    "\n",
    "gray_img = gray_processing(image)\n",
    "gray_img"
   ]
  },
  {
   "cell_type": "code",
   "execution_count": null,
   "metadata": {},
   "outputs": [],
   "source": [
    "gray_img.size"
   ]
  },
  {
   "cell_type": "code",
   "execution_count": null,
   "metadata": {},
   "outputs": [],
   "source": [
    "# 2.二值化\n",
    "def binarizing(gray_img, threshold):\n",
    "    pixdata = gray_img.load()\n",
    "    w, h = gray_img.size #顯示矩陣大小\n",
    "    for x in range(w):\n",
    "        for y in range(h):\n",
    "            if pixdata[x, y] < threshold:\n",
    "                pixdata[x, y] = 0\n",
    "            else:\n",
    "                pixdata[x, y] = 255\n",
    "    return gray_img"
   ]
  },
  {
   "cell_type": "code",
   "execution_count": null,
   "metadata": {},
   "outputs": [],
   "source": []
  },
  {
   "cell_type": "markdown",
   "metadata": {},
   "source": [
    "#  if __name__ == '__main__':"
   ]
  },
  {
   "cell_type": "code",
   "execution_count": 1,
   "metadata": {},
   "outputs": [
    {
     "name": "stdout",
     "output_type": "stream",
     "text": [
      "直接執行\n"
     ]
    }
   ],
   "source": [
    "if __name__ == '__main__':\n",
    "    print(\"直接執行\")"
   ]
  },
  {
   "cell_type": "markdown",
   "metadata": {},
   "source": [
    "# 物件導向 class def"
   ]
  },
  {
   "cell_type": "code",
   "execution_count": 12,
   "metadata": {},
   "outputs": [],
   "source": [
    "class Animal():\n",
    "    def __init__(self, name):\n",
    "        self.name =name\n",
    "    def who(self):\n",
    "        return self.name"
   ]
  },
  {
   "cell_type": "code",
   "execution_count": 19,
   "metadata": {},
   "outputs": [
    {
     "data": {
      "text/plain": [
       "'dog'"
      ]
     },
     "execution_count": 19,
     "metadata": {},
     "output_type": "execute_result"
    }
   ],
   "source": [
    "a = Animal('dog')\n",
    "a.who()"
   ]
  },
  {
   "cell_type": "code",
   "execution_count": 21,
   "metadata": {},
   "outputs": [
    {
     "name": "stdout",
     "output_type": "stream",
     "text": [
      "dog\n"
     ]
    }
   ],
   "source": [
    "print(Animal('dog').who())"
   ]
  },
  {
   "cell_type": "markdown",
   "metadata": {},
   "source": [
    "\n"
   ]
  },
  {
   "cell_type": "code",
   "execution_count": 22,
   "metadata": {},
   "outputs": [],
   "source": [
    "class Animal():\n",
    "    def __init__(self, name):\n",
    "        self.name =name"
   ]
  },
  {
   "cell_type": "code",
   "execution_count": 24,
   "metadata": {},
   "outputs": [
    {
     "data": {
      "text/plain": [
       "'dog'"
      ]
     },
     "execution_count": 24,
     "metadata": {},
     "output_type": "execute_result"
    }
   ],
   "source": [
    "Animal('dog').name"
   ]
  },
  {
   "cell_type": "markdown",
   "metadata": {},
   "source": [
    "[pyton 底線用途](https://aji.tw/python%E4%BD%A0%E5%88%B0%E5%BA%95%E6%98%AF%E5%9C%A8__%E5%BA%95%E7%B7%9A__%E4%BB%80%E9%BA%BC%E5%95%A6/)"
   ]
  },
  {
   "cell_type": "raw",
   "metadata": {},
   "source": [
    "1. foo_\n",
    "這種命名方式，主要是避免與 Python 的 built-in keywords 或 built-in functions取了一樣的名稱。(也就是避免自己設定的參數和python內建的重疊產生衝突)"
   ]
  },
  {
   "cell_type": "raw",
   "metadata": {},
   "source": [
    "2. _foo\n",
    "通常使用這種命名法\n",
    "可能有幾種原因： a. 你不希望它被直接訪問\n",
    "                b. 它可能只是個測試中的 function\n",
    "                c. 不希望它被直接 import\n",
    "以下是針對這種命名方式做一些說明：\n",
    "\n",
    "並不是Private variable\n",
    "很多人會以為\n",
    "這就是所謂的 private variable\n",
    "但其實這種東西並不存在Python裡面\n",
    "它只是一種命名習慣而已\n",
    "官方文件有提到這一點"
   ]
  },
  {
   "cell_type": "code",
   "execution_count": 47,
   "metadata": {},
   "outputs": [],
   "source": [
    "class Mapping:\n",
    "    def __init__(self, iterable):\n",
    "        self.item_list = []\n",
    "        self.__upgrade(iterable)\n",
    "    def update(self, iterable):\n",
    "        for item in iterable:\n",
    "            self.items_list.append(item)\n",
    "    __update = update\n",
    "class MappingSubclass(Mapping):\n",
    "    def update(self, keys, values):\n",
    "        for item in zip(keys, values):\n",
    "            self.items_list.append(item)"
   ]
  },
  {
   "cell_type": "code",
   "execution_count": 37,
   "metadata": {},
   "outputs": [
    {
     "data": {
      "text/plain": [
       "{'Sex': 'female'}"
      ]
     },
     "execution_count": 37,
     "metadata": {},
     "output_type": "execute_result"
    }
   ],
   "source": [
    "b = {'Sex': 'female' }\n",
    "item_list = {}\n",
    "item_list.update(b)\n",
    "item_list"
   ]
  },
  {
   "cell_type": "code",
   "execution_count": null,
   "metadata": {},
   "outputs": [],
   "source": []
  },
  {
   "cell_type": "markdown",
   "metadata": {},
   "source": [
    "## 建構子 def __init__(self, 其他參數):"
   ]
  },
  {
   "cell_type": "raw",
   "metadata": {},
   "source": [
    "建構子語法如下\n",
    "def __init__(self, 其他參數):\n",
    "就算是在建構子裡面self也是必須傳入的參數\n",
    "\n",
    "值得一提的是Python不支援多建構子(multi constructor)，但是可以透過預設值的方式來達成\n",
    "def __init__(self, para1=”para1預設值”, para2=”para2預設值2″):\n",
    "如此一來，就可以有3種宣告方式！"
   ]
  },
  {
   "cell_type": "code",
   "execution_count": 1,
   "metadata": {},
   "outputs": [],
   "source": [
    "class FirstClass:\n",
    "    \"\"\"My first class in python.\"\"\"\n",
    "    str1 = \"Apple\"\n",
    "    str2 = \"IBM\"\n",
    "    def __init__(self, str1=\"參數1\", str2=\"參數2\"):\n",
    "        self.str1 = str1\n",
    "        self.str2 = str2\n",
    "    def fun(self):\n",
    "        return \"Hello world.\""
   ]
  },
  {
   "cell_type": "code",
   "execution_count": 3,
   "metadata": {},
   "outputs": [
    {
     "data": {
      "text/plain": [
       "'Hello world.'"
      ]
     },
     "execution_count": 3,
     "metadata": {},
     "output_type": "execute_result"
    }
   ],
   "source": [
    "a = FirstClass()\n",
    "a.fun()"
   ]
  },
  {
   "cell_type": "code",
   "execution_count": 2,
   "metadata": {},
   "outputs": [
    {
     "name": "stdout",
     "output_type": "stream",
     "text": [
      "參數1\n",
      "參數2\n",
      "Hello world.\n",
      "===分隔線===\n",
      "我是參數1\n",
      "參數2\n",
      "===分隔線===\n",
      "我是參數1\n",
      "我是參數2\n"
     ]
    }
   ],
   "source": [
    "# 實作一個物件給FirstClass這個類別\n",
    "my_obj = FirstClass()\n",
    "print(my_obj.str1)\n",
    "print(my_obj.str2)\n",
    "print(my_obj.fun())\n",
    "print(\"===分隔線===\")\n",
    "my_obj2 = FirstClass(\"我是參數1\")\n",
    "print(my_obj2.str1)\n",
    "print(my_obj2.str2)\n",
    "print(\"===分隔線===\")\n",
    "my_obj3 = FirstClass(\"我是參數1\", \"我是參數2\")\n",
    "print(my_obj3.str1)\n",
    "print(my_obj3.str2)"
   ]
  },
  {
   "cell_type": "markdown",
   "metadata": {},
   "source": [
    "## 單一繼承"
   ]
  },
  {
   "cell_type": "raw",
   "metadata": {},
   "source": [
    "繼承父類別要記得實作父類別的建構子，像是下列第16行那樣！"
   ]
  },
  {
   "cell_type": "code",
   "execution_count": 73,
   "metadata": {},
   "outputs": [],
   "source": [
    "class Car:\n",
    "    #wheels_number = 4\n",
    "    #car_doors = 4\n",
    "    #passengers = 4\n",
    "    def __init__(self, wheels_number=4, car_doors=4, passengers=4):\n",
    "        self.wheels_number = wheels_number\n",
    "        self.car_doors = car_doors\n",
    "        self.passengers = passengers\n",
    "        \n",
    "#SUV也是一種車子，所以繼承Car\n",
    "class SUV(Car):\n",
    "    brand_name = \"\" #品牌名稱\n",
    "    air_bag = 2     #安全氣囊數\n",
    "    sunroof = True         # 是否擁有天窗\n",
    "    def __init__(self, wheels_number, car_doors, passengers, brand_name=\"\", air_bag=2, sunroof=False):\n",
    "        super().__init__(wheels_number, car_doors, passengers)\n",
    "        self.brand_name = brand_name\n",
    "        self.air_bag = air_bag\n",
    "        self.sunroof = sunroof\n",
    "    def getDetails(self):\n",
    "        print(\"==== Details ====\")\n",
    "        print(\"Brand:\", self.brand_name)\n",
    "        print(\"Wheels number:\", self.wheels_number) # 可直接呼叫父類別的變數(屬性)\n",
    "        print(\"Doors number:\", self.car_doors)      # 可直接呼叫父類別的變數(屬性)\n",
    "        print(\"Air-bags number:\", self.air_bag)\n",
    "        print(\"Sunroof:\", self.sunroof)\n",
    "        print(\"=================\")"
   ]
  },
  {
   "cell_type": "code",
   "execution_count": 77,
   "metadata": {},
   "outputs": [
    {
     "name": "stdout",
     "output_type": "stream",
     "text": [
      "==== Details ====\n",
      "Brand: Toyota RAV\n",
      "Wheels number: 4\n",
      "Doors number: 5\n",
      "Air-bags number: 4\n",
      "Sunroof: True\n",
      "=================\n"
     ]
    }
   ],
   "source": [
    "# 宣告一台Toyota RAV的休旅車(SUV)\n",
    "toyota_rav = SUV(4, 5, 5, \"Toyota RAV\", 4, True)\n",
    "toyota_rav.getDetails()"
   ]
  },
  {
   "cell_type": "code",
   "execution_count": 78,
   "metadata": {},
   "outputs": [
    {
     "name": "stdout",
     "output_type": "stream",
     "text": [
      "==== Details ====\n",
      "Brand: BMW X5\n",
      "Wheels number: 4\n",
      "Doors number: 5\n",
      "Air-bags number: 6\n",
      "Sunroof: True\n",
      "=================\n"
     ]
    }
   ],
   "source": [
    "# 宣告一台BMW X5的休旅車\n",
    "bmw_x5 = SUV(4, 5, 5, \"BMW X5\", 6, True)\n",
    "bmw_x5.getDetails()"
   ]
  },
  {
   "cell_type": "markdown",
   "metadata": {},
   "source": [
    "## 多個繼承"
   ]
  },
  {
   "cell_type": "raw",
   "metadata": {},
   "source": [
    "定義兩種繼承Car的類別(SUV, Bus)，同時也直接覆載(overwrite)父類別已經定義的方法！\n",
    "撰寫方法如下，直接在子類別中覆載覆類別的方法即可！"
   ]
  },
  {
   "cell_type": "code",
   "execution_count": 3,
   "metadata": {},
   "outputs": [],
   "source": [
    "class Car: \n",
    "    # wheels_number:輪胎數量, car_doors:車門數量, passengers:乘客數量\n",
    "    def __init__(self, wheels_number=4, car_doors=4, passengers=4):\n",
    "        self.wheels_number = wheels_number\n",
    "        self.car_doors = car_doors\n",
    "        self.passengers = passengers\n",
    "    def drive(self):\n",
    "        print(\"Drive a car.\")\n",
    "        \n",
    "# SUV也是一種車子，所以繼承Car\n",
    "class SUV(Car):\n",
    "    # brand_name:品牌名稱, air_bag:安全氣囊數, sunroof:是否擁有天窗\n",
    "    def __init__(self, wheels_number, car_doors, passengers, brand_name=\"\", air_bag=2, sunroof=False):\n",
    "        super().__init__(wheels_number, car_doors, passengers)\n",
    "        self.brand_name = brand_name\n",
    "        self.air_bag = air_bag\n",
    "        self.sunroof = sunroof\n",
    "        \n",
    "    # 回傳自己的安全氣囊數是否大於其他人的安全氣囊數的真假值\n",
    "    def __gt__(self, other):\n",
    "        return self.air_bag > other.air_bag        \n",
    "        '''\n",
    "        沒有__gt__的話，無法執行下列程式\n",
    "        print(bmw_x5 > toyota_rav)\n",
    "        >>> True\n",
    "        '''\n",
    "        \n",
    "    # 覆寫副類別的drive\n",
    "    def drive(self):\n",
    "        print(\"Drive this {0} to my vacation.\".format(self.brand_name))\n",
    "    def getDetails(self):\n",
    "        print(\"==== Details ====\")\n",
    "        print(\"Brand:\", self.brand_name)\n",
    "        print(\"Wheels number:\", self.wheels_number)    # 可直接呼叫父類別的變數(屬性)\n",
    "        print(\"Doors number:\", self.car_doors)         # 可直接呼叫父類別的變數(屬性)\n",
    "        print(\"Air-bags number:\", self.air_bag)\n",
    "        print(\"Sunroof:\", self.sunroof)\n",
    "        print(\"=================\")\n",
    "        \n",
    "# Bus也是一種車子，所以繼承Car\n",
    "class Bus(Car):\n",
    "    # brand_name:品牌名稱, air_bag:安全氣囊數, sunroof:是否擁有天窗\n",
    "    def __init__(self, wheels_number, car_doors, passengers, brand_name=\"\", air_bag=0):\n",
    "        super().__init__(wheels_number, car_doors, passengers)\n",
    "        self.brand_name = brand_name\n",
    "        self.air_bag = air_bag\n",
    "    # # 覆寫副類別的drive\n",
    "    def drive(self):\n",
    "        print(\"Take this {0} to my vacation.\".format(self.brand_name))\n",
    "    def getDetails(self):\n",
    "        print(\"==== Details ====\")\n",
    "        print(\"Brand:\", self.brand_name)\n",
    "        print(\"Wheels number:\", self.wheels_number)  # 可直接呼叫父類別的變數(屬性)\n",
    "        print(\"Doors number:\", self.car_doors)  # 可直接呼叫父類別的變數(屬性)\n",
    "        print(\"Air-bags number:\", self.air_bag)\n",
    "        print(\"=================\")\n",
    "\n",
    "def letsDrive(cars):\n",
    "    for car in cars:\n",
    "        car.drive()"
   ]
  },
  {
   "cell_type": "code",
   "execution_count": 4,
   "metadata": {},
   "outputs": [
    {
     "name": "stdout",
     "output_type": "stream",
     "text": [
      "Drive this Toyota RAV to my vacation.\n",
      "None\n",
      "===分隔線===\n",
      "==== Details ====\n",
      "Brand: Toyota RAV\n",
      "Wheels number: 4\n",
      "Doors number: 5\n",
      "Air-bags number: 4\n",
      "Sunroof: True\n",
      "=================\n",
      "None\n"
     ]
    }
   ],
   "source": [
    "# 宣告一台Toyota RAV的休旅車(SUV)\n",
    "toyota_rav = SUV(4, 5, 5, \"Toyota RAV\", 4, True)\n",
    "print( toyota_rav.drive() )\n",
    "print(\"===分隔線===\")\n",
    "print( toyota_rav.getDetails() )"
   ]
  },
  {
   "cell_type": "code",
   "execution_count": null,
   "metadata": {},
   "outputs": [],
   "source": [
    "print(toyota_rav.a)"
   ]
  },
  {
   "cell_type": "code",
   "execution_count": 8,
   "metadata": {},
   "outputs": [
    {
     "name": "stdout",
     "output_type": "stream",
     "text": [
      "==== Details ====\n",
      "Brand: BMW X5\n",
      "Wheels number: 4\n",
      "Doors number: 5\n",
      "Air-bags number: 6\n",
      "Sunroof: True\n",
      "=================\n",
      "None\n"
     ]
    }
   ],
   "source": [
    "# 宣告一台BMW X5的休旅車\n",
    "bmw_x5 = SUV(4, 5, 5, \"BMW X5\", 6, True)\n",
    "print( bmw_x5.getDetails() )"
   ]
  },
  {
   "cell_type": "code",
   "execution_count": 9,
   "metadata": {},
   "outputs": [
    {
     "name": "stdout",
     "output_type": "stream",
     "text": [
      "==== Details ====\n",
      "Brand: Volvo Bus\n",
      "Wheels number: 4\n",
      "Doors number: 3\n",
      "Air-bags number: 0\n",
      "=================\n"
     ]
    }
   ],
   "source": [
    "# 宣告一台Volvo Bus的巴士\n",
    "volvo_bus = Bus(4, 3, 50, \"Volvo Bus\", 0)\n",
    "volvo_bus.getDetails()"
   ]
  },
  {
   "cell_type": "code",
   "execution_count": 10,
   "metadata": {},
   "outputs": [
    {
     "name": "stdout",
     "output_type": "stream",
     "text": [
      "Drive this Toyota RAV to my vacation.\n",
      "Drive this BMW X5 to my vacation.\n",
      "Take this Volvo Bus to my vacation.\n"
     ]
    }
   ],
   "source": [
    "def letsDrive(cars):\n",
    "    for car in cars:\n",
    "        car.drive()\n",
    "        \n",
    "letsDrive([toyota_rav, bmw_x5, volvo_bus])"
   ]
  },
  {
   "cell_type": "code",
   "execution_count": 12,
   "metadata": {},
   "outputs": [
    {
     "name": "stdout",
     "output_type": "stream",
     "text": [
      "True\n"
     ]
    }
   ],
   "source": [
    "toyota_rav = SUV(4, 5, 5, \"Toyota RAV\", 4, True)\n",
    "bmw_x5 = SUV(4, 5, 5, \"BMW X5\", 6, True)\n",
    "print(bmw_x5 > toyota_rav)"
   ]
  },
  {
   "cell_type": "markdown",
   "metadata": {},
   "source": [
    "## 物件導向_封裝"
   ]
  },
  {
   "cell_type": "raw",
   "metadata": {},
   "source": [
    "物件導向程式設計 (object-oriented programming) 有三大基本特性 : \n",
    "1.封裝 (encapsulation) \n",
    "2.繼承 (inheritance)\n",
    "3.多型 (polymorphism)"
   ]
  },
  {
   "cell_type": "code",
   "execution_count": 90,
   "metadata": {},
   "outputs": [],
   "source": [
    "class Demo:\n",
    "  def set_att(self, a=22, b=33):\n",
    "    self.a = a\n",
    "    self.b = b\n",
    "    \n",
    "  def do_something(self):\n",
    "    return self.a + self.b"
   ]
  },
  {
   "cell_type": "code",
   "execution_count": 91,
   "metadata": {},
   "outputs": [
    {
     "name": "stdout",
     "output_type": "stream",
     "text": [
      "a.a :  22\n",
      "a.do_something() :  55\n"
     ]
    }
   ],
   "source": [
    "a = Demo()\n",
    "a.set_att()\n",
    "print(\"a.a : \",a.a)\n",
    "print(\"a.do_something() : \", a.do_something())"
   ]
  },
  {
   "cell_type": "code",
   "execution_count": 92,
   "metadata": {},
   "outputs": [
    {
     "data": {
      "text/plain": [
       "38"
      ]
     },
     "execution_count": 92,
     "metadata": {},
     "output_type": "execute_result"
    }
   ],
   "source": [
    "a.a = 5\n",
    "# 由於 a 的值重新被設定為 5 ，導致第二次呼叫 do_something() 的結果變成 38 。\n",
    "a.do_something()"
   ]
  },
  {
   "cell_type": "raw",
   "metadata": {},
   "source": [
    "從上面程式可以發現，因為外部程式修改屬性，可能會導致奇怪的結果產生。\n",
    "屬性值本來是依物件的需求而設定，像是一個描述車子的 Car 類別， Car 類別有長、寬等屬性，長、寬在 Car 類別中都設定成合理的數字，若無對外部程式防堵修改屬性值，那有可能長、寬被修改成不合理的數字，那就會造成奇怪的執行結果了。\n",
    "\n",
    "為了防止\"屬性\"被外部程式更改，所以需要\"封裝\"，python的封裝方法就是在屬性前面加上兩個底線__"
   ]
  },
  {
   "cell_type": "code",
   "execution_count": 1,
   "metadata": {},
   "outputs": [],
   "source": [
    "class Demo1:\n",
    "  def set_att(self, a=22, b=33):\n",
    "    self.__a = a\n",
    "    self.__b = b\n",
    "    \n",
    "  def do_something(self):\n",
    "    return self.__a + self.__b"
   ]
  },
  {
   "cell_type": "code",
   "execution_count": 2,
   "metadata": {},
   "outputs": [],
   "source": [
    "b = Demo1()\n",
    "b.set_att()"
   ]
  },
  {
   "cell_type": "code",
   "execution_count": 3,
   "metadata": {},
   "outputs": [
    {
     "name": "stdout",
     "output_type": "stream",
     "text": [
      "b.do_something() :  55\n"
     ]
    }
   ],
   "source": [
    "print(\"b.do_something() : \", b.do_something())"
   ]
  },
  {
   "cell_type": "code",
   "execution_count": 4,
   "metadata": {},
   "outputs": [],
   "source": [
    "b.a = 5"
   ]
  },
  {
   "cell_type": "code",
   "execution_count": 5,
   "metadata": {},
   "outputs": [
    {
     "name": "stdout",
     "output_type": "stream",
     "text": [
      "b.a :  5\n",
      "b.do_something() 55\n"
     ]
    }
   ],
   "source": [
    "print(\"b.a : \", b.a)\n",
    "print(\"b.do_something()\", b.do_something())"
   ]
  },
  {
   "cell_type": "code",
   "execution_count": 6,
   "metadata": {},
   "outputs": [],
   "source": [
    "b.__a = 10"
   ]
  },
  {
   "cell_type": "code",
   "execution_count": 7,
   "metadata": {},
   "outputs": [
    {
     "name": "stdout",
     "output_type": "stream",
     "text": [
      "b.__a :  10\n",
      "b.do_something() 55\n"
     ]
    }
   ],
   "source": [
    "print(\"b.__a : \", b.__a)\n",
    "print(\"b.do_something()\", b.do_something())"
   ]
  },
  {
   "cell_type": "code",
   "execution_count": 8,
   "metadata": {},
   "outputs": [
    {
     "data": {
      "text/plain": [
       "5"
      ]
     },
     "execution_count": 8,
     "metadata": {},
     "output_type": "execute_result"
    }
   ],
   "source": [
    "b.a"
   ]
  },
  {
   "cell_type": "code",
   "execution_count": 9,
   "metadata": {},
   "outputs": [
    {
     "data": {
      "text/plain": [
       "10"
      ]
     },
     "execution_count": 9,
     "metadata": {},
     "output_type": "execute_result"
    }
   ],
   "source": [
    "b.__a"
   ]
  },
  {
   "cell_type": "code",
   "execution_count": 10,
   "metadata": {},
   "outputs": [],
   "source": [
    "b.a = b.__a"
   ]
  },
  {
   "cell_type": "code",
   "execution_count": 11,
   "metadata": {},
   "outputs": [
    {
     "data": {
      "text/plain": [
       "10"
      ]
     },
     "execution_count": 11,
     "metadata": {},
     "output_type": "execute_result"
    }
   ],
   "source": [
    "b.a"
   ]
  },
  {
   "cell_type": "code",
   "execution_count": 12,
   "metadata": {},
   "outputs": [
    {
     "data": {
      "text/plain": [
       "10"
      ]
     },
     "execution_count": 12,
     "metadata": {},
     "output_type": "execute_result"
    }
   ],
   "source": [
    "b.__a"
   ]
  },
  {
   "cell_type": "code",
   "execution_count": 8,
   "metadata": {},
   "outputs": [],
   "source": [
    "class Car: \n",
    "    # wheels_number:輪胎數量, car_doors:車門數量, passengers:乘客數量\n",
    "    def __init__(self, wheels_number=4, car_doors=4, passengers=4):\n",
    "        self.a = 123\n",
    "        self.wheels_number = wheels_number\n",
    "        self.car_doors = car_doors\n",
    "        self.passengers = passengers\n",
    "    def drive(self):\n",
    "        print(\"Drive a car.\")\n",
    "        \n",
    "# SUV也是一種車子，所以繼承Car\n",
    "class SUV(Car):\n",
    "    # brand_name:品牌名稱, air_bag:安全氣囊數, sunroof:是否擁有天窗\n",
    "    def __init__(self, wheels_number, car_doors, passengers, brand_name=\"\", air_bag=2, sunroof=False):\n",
    "        super().__init__(wheels_number, car_doors, passengers)\n",
    "        self.brand_name = brand_name\n",
    "        self.air_bag = air_bag\n",
    "        self.sunroof = sunroof\n",
    "        \n",
    "    # 回傳自己的安全氣囊數是否大於其他人的安全氣囊數的真假值\n",
    "    def __gt__(self, other):\n",
    "        return self.air_bag > other.air_bag        \n",
    "        '''\n",
    "        沒有__gt__的話，無法執行下列程式\n",
    "        print(bmw_x5 > toyota_rav)\n",
    "        >>> True\n",
    "        '''\n",
    "        \n",
    "    # 覆寫副類別的drive\n",
    "    def drive(self):\n",
    "        print(\"Drive this {0} to my vacation.\".format(self.brand_name))\n",
    "    def getDetails(self):\n",
    "        print(\"==== Details ====\")\n",
    "        print(\"Brand:\", self.brand_name)\n",
    "        print(\"Wheels number:\", self.wheels_number)    # 可直接呼叫父類別的變數(屬性)\n",
    "        print(\"Doors number:\", self.car_doors)         # 可直接呼叫父類別的變數(屬性)\n",
    "        print(\"Air-bags number:\", self.air_bag)\n",
    "        print(\"Sunroof:\", self.sunroof)\n",
    "        print(\"=================\")"
   ]
  },
  {
   "cell_type": "code",
   "execution_count": 9,
   "metadata": {},
   "outputs": [
    {
     "name": "stdout",
     "output_type": "stream",
     "text": [
      "Drive this Toyota RAV to my vacation.\n",
      "None\n",
      "===分隔線===\n",
      "==== Details ====\n",
      "Brand: Toyota RAV\n",
      "Wheels number: 4\n",
      "Doors number: 5\n",
      "Air-bags number: 4\n",
      "Sunroof: True\n",
      "=================\n",
      "None\n"
     ]
    }
   ],
   "source": [
    "# 宣告一台Toyota RAV的休旅車(SUV)\n",
    "toyota_rav = SUV(4, 5, 5, \"Toyota RAV\", 4, True)\n",
    "print( toyota_rav.drive() )\n",
    "print(\"===分隔線===\")\n",
    "print( toyota_rav.getDetails() )"
   ]
  },
  {
   "cell_type": "code",
   "execution_count": 10,
   "metadata": {},
   "outputs": [
    {
     "name": "stdout",
     "output_type": "stream",
     "text": [
      "123\n"
     ]
    }
   ],
   "source": [
    "print(toyota_rav.a)"
   ]
  },
  {
   "cell_type": "code",
   "execution_count": null,
   "metadata": {},
   "outputs": [],
   "source": []
  }
 ],
 "metadata": {
  "kernelspec": {
   "display_name": "Python 3",
   "language": "python",
   "name": "python3"
  },
  "language_info": {
   "codemirror_mode": {
    "name": "ipython",
    "version": 3
   },
   "file_extension": ".py",
   "mimetype": "text/x-python",
   "name": "python",
   "nbconvert_exporter": "python",
   "pygments_lexer": "ipython3",
   "version": "3.7.1"
  },
  "toc": {
   "base_numbering": 1,
   "nav_menu": {},
   "number_sections": true,
   "sideBar": true,
   "skip_h1_title": false,
   "title_cell": "Table of Contents",
   "title_sidebar": "Contents",
   "toc_cell": false,
   "toc_position": {
    "height": "calc(100% - 180px)",
    "left": "10px",
    "top": "150px",
    "width": "200.885px"
   },
   "toc_section_display": true,
   "toc_window_display": true
  }
 },
 "nbformat": 4,
 "nbformat_minor": 2
}
