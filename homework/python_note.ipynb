{
 "cells": [
  {
   "cell_type": "markdown",
   "metadata": {},
   "source": [
    "# 百日馬拉松-學習精華"
   ]
  },
  {
   "cell_type": "markdown",
   "metadata": {},
   "source": [
    "#### 請寫一個函式用來計算 Mean Square Error(均方誤差):「誤差」的平方的期望值。\n",
    "$ MSE = \\frac{1}{n}\\sum_{i=1}^{n}{(Y_i - \\hat{Y}_i)^2} $\n",
    "  Hint: [如何取平方](https://googoodesign.gitbooks.io/-ezpython/unit-1.html)"
   ]
  },
  {
   "cell_type": "code",
   "execution_count": 1,
   "metadata": {},
   "outputs": [],
   "source": [
    "import numpy as np\n",
    "import matplotlib.pyplot as plt\n",
    "# 定義 mean_squared_error 這個函數, 計算並傳回 MSE\n",
    "def mean_squared_error(y, yp):\n",
    "    \"\"\"\n",
    "    計算 MSE\n",
    "    Args:\n",
    "        - y: 實際值\n",
    "        - yp: 預測值\n",
    "    Return:\n",
    "        - mse: MSE\n",
    "    \"\"\"\n",
    "    # 主要是下面這一行\n",
    "    mse = sum((y - yp)**2) / len(y)\n",
    "    return mse"
   ]
  },
  {
   "cell_type": "markdown",
   "metadata": {},
   "source": [
    "#### mean absolute error(MAE)(平均絕對誤差): 是絕對誤差的平均值（絕對值後所求的平均值）or能更好地反映預測值誤差的實際情況（幫助測量）,又被稱為 L1 損失 或 L1 範數損失。\n",
    "[什麼是平均絕對誤差 Mean Absolute Error, MAE？](https://staruphackers.com/%E4%BB%80%E9%BA%BC%E6%98%AF%E5%B9%B3%E5%9D%87%E7%B5%95%E5%B0%8D%E8%AA%A4%E5%B7%AE-mean-absolute-error-mae%EF%BC%9F/)\n",
    "![Image of Yaktocat](https://staruphackers.com/wp-content/uploads/2019/04/image-4-300x57.png?is-pending-load=1)"
   ]
  },
  {
   "cell_type": "code",
   "execution_count": null,
   "metadata": {},
   "outputs": [],
   "source": [
    "import numpy as np\n",
    "import matplotlib.pyplot as plt\n",
    "def mean_absolute_error(y, yp):\n",
    "    \"\"\"\n",
    "    計算 MAE\n",
    "    Args:\n",
    "        - y: 實際值\n",
    "        - yp: 預測值\n",
    "    Return:\n",
    "        - mae: MAE\n",
    "    \"\"\"\n",
    "    mae = MAE = sum(abs(y - yp)) / len(y)\n",
    "    return mae"
   ]
  },
  {
   "cell_type": "markdown",
   "metadata": {},
   "source": [
    "### Day004"
   ]
  },
  {
   "cell_type": "code",
   "execution_count": 1,
   "metadata": {},
   "outputs": [
    {
     "name": "stdout",
     "output_type": "stream",
     "text": [
      "Path of read in data: ./Data/application_train.csv\n",
      "<class 'pandas.core.frame.DataFrame'>\n"
     ]
    }
   ],
   "source": [
    "#從本地資料夾匯入資料\n",
    "import os\n",
    "import numpy as np\n",
    "import pandas as pd\n",
    "# 設定 data_path\n",
    "dir_data = './Data/'\n",
    "f_app = os.path.join(dir_data, 'application_train.csv')\n",
    "print('Path of read in data: %s' % (f_app))\n",
    "app_train = pd.read_csv(f_app) #app_train資料型別是DataFrame\n",
    "print(type(app_train))"
   ]
  },
  {
   "cell_type": "markdown",
   "metadata": {},
   "source": [
    "### Day005  如何新建一個 dataframe? 如何讀取其他資料? (非 csv 的資料)"
   ]
  },
  {
   "cell_type": "code",
   "execution_count": 1,
   "metadata": {},
   "outputs": [
    {
     "name": "stdout",
     "output_type": "stream",
     "text": [
      "200\n",
      "OK\n",
      "784594\n"
     ]
    },
    {
     "data": {
      "text/plain": [
       "'n00015388_157\\thttp://farm1.static.flickr.com/145/430300483_21e993670c.jpg\\nn00015388_238\\thttp://farm2'"
      ]
     },
     "execution_count": 1,
     "metadata": {},
     "output_type": "execute_result"
    }
   ],
   "source": [
    "#將網路上的資料抓進python使用\n",
    "import re\n",
    "import requests\n",
    "target_url = \"https://raw.githubusercontent.com/vashineyu/slides_and_others/master/tutorial/examples/imagenet_urls_examples.txt\"\n",
    "response = requests.get(target_url)\n",
    "\n",
    "#伺服器回應的狀態碼\n",
    "print(response.status_code) #回應200代表正常\n",
    "# 檢查狀態碼是否 OK\n",
    "try:    \n",
    "    if response.status_code == requests.codes.ok:\n",
    "      print(\"OK\")\n",
    "except:\n",
    "    print(\"伺服器無回應\")\n",
    "\n",
    "data = response.text #<class 'str'>\n",
    "# 用 request 傳送回來的資料不會認得斷行符號\n",
    "print(len(data))\n",
    "data[0:100]"
   ]
  },
  {
   "cell_type": "code",
   "execution_count": 2,
   "metadata": {},
   "outputs": [
    {
     "data": {
      "text/html": [
       "<div>\n",
       "<style scoped>\n",
       "    .dataframe tbody tr th:only-of-type {\n",
       "        vertical-align: middle;\n",
       "    }\n",
       "\n",
       "    .dataframe tbody tr th {\n",
       "        vertical-align: top;\n",
       "    }\n",
       "\n",
       "    .dataframe thead th {\n",
       "        text-align: right;\n",
       "    }\n",
       "</style>\n",
       "<table border=\"1\" class=\"dataframe\">\n",
       "  <thead>\n",
       "    <tr style=\"text-align: right;\">\n",
       "      <th></th>\n",
       "      <th>0</th>\n",
       "      <th>1</th>\n",
       "    </tr>\n",
       "  </thead>\n",
       "  <tbody>\n",
       "    <tr>\n",
       "      <th>0</th>\n",
       "      <td>n00015388_157</td>\n",
       "      <td>http://farm1.static.flickr.com/145/430300483_2...</td>\n",
       "    </tr>\n",
       "    <tr>\n",
       "      <th>1</th>\n",
       "      <td>n00015388_238</td>\n",
       "      <td>http://farm2.static.flickr.com/1005/3352960681...</td>\n",
       "    </tr>\n",
       "    <tr>\n",
       "      <th>2</th>\n",
       "      <td>n00015388_304</td>\n",
       "      <td>http://farm1.static.flickr.com/27/51009336_a96...</td>\n",
       "    </tr>\n",
       "    <tr>\n",
       "      <th>3</th>\n",
       "      <td>n00015388_327</td>\n",
       "      <td>http://farm4.static.flickr.com/3025/2444687979...</td>\n",
       "    </tr>\n",
       "    <tr>\n",
       "      <th>4</th>\n",
       "      <td>n00015388_355</td>\n",
       "      <td>http://img100.imageshack.us/img100/3253/forres...</td>\n",
       "    </tr>\n",
       "  </tbody>\n",
       "</table>\n",
       "</div>"
      ],
      "text/plain": [
       "               0                                                  1\n",
       "0  n00015388_157  http://farm1.static.flickr.com/145/430300483_2...\n",
       "1  n00015388_238  http://farm2.static.flickr.com/1005/3352960681...\n",
       "2  n00015388_304  http://farm1.static.flickr.com/27/51009336_a96...\n",
       "3  n00015388_327  http://farm4.static.flickr.com/3025/2444687979...\n",
       "4  n00015388_355  http://img100.imageshack.us/img100/3253/forres..."
      ]
     },
     "execution_count": 2,
     "metadata": {},
     "output_type": "execute_result"
    }
   ],
   "source": [
    "# 將 txt 轉成 pandas dataframe\n",
    "import pandas as pd\n",
    "import requests\n",
    "import re\n",
    "target_url = 'https://raw.githubusercontent.com/vashineyu/slides_and_others/master/tutorial/examples/imagenet_urls_examples.txt'\n",
    "response = requests.get(target_url)\n",
    "data = response.text\n",
    "data = data.split(\"\\n\")  #python內建的split斷行\n",
    "arrange_data = []\n",
    "\n",
    "# 利用re正規表示式拿掉亂碼，只留下網址。\n",
    "#x = re.compile('[a-z0-9]+_[0-9]+') # 去掉n00433802_4955這類的亂碼 #發現連結一部份被拿掉，所以不好用\n",
    "#x1 = re.compile('\\t')\n",
    "\n",
    "for d in data:\n",
    "    line = d.split(\"\\t\")\n",
    "    arrange_data.append(line)\n",
    "#print(type(arrange_data)) <class 'list'>\n",
    "df = pd.DataFrame(arrange_data)\n",
    "#print(type(df))  <class 'pandas.core.frame.DataFrame'>\n",
    "df.head()"
   ]
  },
  {
   "cell_type": "code",
   "execution_count": 3,
   "metadata": {},
   "outputs": [
    {
     "name": "stdout",
     "output_type": "stream",
     "text": [
      "Total images that we got: 4 \n"
     ]
    },
    {
     "data": {
      "text/plain": [
       "<Figure size 640x480 with 1 Axes>"
      ]
     },
     "metadata": {},
     "output_type": "display_data"
    },
    {
     "data": {
      "text/plain": [
       "<Figure size 640x480 with 1 Axes>"
      ]
     },
     "metadata": {},
     "output_type": "display_data"
    },
    {
     "data": {
      "text/plain": [
       "<Figure size 640x480 with 1 Axes>"
      ]
     },
     "metadata": {},
     "output_type": "display_data"
    },
    {
     "data": {
      "text/plain": [
       "<Figure size 640x480 with 1 Axes>"
      ]
     },
     "metadata": {},
     "output_type": "display_data"
    }
   ],
   "source": [
    "# 讀取圖片，請讀取上面 data frame 中的前 5 張圖片\n",
    "from PIL import Image\n",
    "from io import BytesIO\n",
    "import numpy as np\n",
    "import matplotlib.pyplot as plt\n",
    "\n",
    "def img2arr_fromURLs(url_list, resize = False):\n",
    "    img_list = []\n",
    "    for url in url_list:\n",
    "        response = requests.get(url)\n",
    "        try:\n",
    "            img = Image.open(BytesIO(response.content))\n",
    "            if resize:\n",
    "                img = img.resize((256,256))  # 假如 resize，就先統一到 256 x 256\n",
    "            img = np.array(img)\n",
    "            img_list.append(img)\n",
    "        except:# 如果圖片失聯了就 pass。\n",
    "            #   只有在 response.status_code 為 200 時，才可以取得圖片，若有 404 或其他 status code, 會碰到 Error, 所以\n",
    "            #我們用 Try 語法避開取不到的狀況。\n",
    "            pass\n",
    "    return img_list\n",
    "\n",
    "import requests\n",
    "result = img2arr_fromURLs(df[0:5][1].values)\n",
    "print(\"Total images that we got: %i \" % len(result)) # 如果不等於 5, 代表有些連結失效囉\n",
    "\n",
    "for im_get in result:\n",
    "    plt.imshow(im_get)\n",
    "    plt.show()"
   ]
  },
  {
   "cell_type": "markdown",
   "metadata": {},
   "source": [
    "### Day006 EDA: 欄位的資料類型介紹及處理\n",
    "* Label encoding : 把每個類別 mapping 到某個整數，不會增加新欄位。\n",
    "* One hot encoding : 為每個類別新增一個欄位，用 0/1 表示是否。\n",
    "[初學Python手記#3-資料前處理( Label encoding、 One hot encoding)\n",
    "](https://medium.com/@PatHuang/%E5%88%9D%E5%AD%B8python%E6%89%8B%E8%A8%98-3-%E8%B3%87%E6%96%99%E5%89%8D%E8%99%95%E7%90%86-label-encoding-one-hot-encoding-85c983d63f87)"
   ]
  },
  {
   "cell_type": "code",
   "execution_count": 25,
   "metadata": {},
   "outputs": [
    {
     "name": "stdout",
     "output_type": "stream",
     "text": [
      "(307511, 1)\n"
     ]
    },
    {
     "data": {
      "text/html": [
       "<div>\n",
       "<style scoped>\n",
       "    .dataframe tbody tr th:only-of-type {\n",
       "        vertical-align: middle;\n",
       "    }\n",
       "\n",
       "    .dataframe tbody tr th {\n",
       "        vertical-align: top;\n",
       "    }\n",
       "\n",
       "    .dataframe thead th {\n",
       "        text-align: right;\n",
       "    }\n",
       "</style>\n",
       "<table border=\"1\" class=\"dataframe\">\n",
       "  <thead>\n",
       "    <tr style=\"text-align: right;\">\n",
       "      <th></th>\n",
       "      <th>WEEKDAY_APPR_PROCESS_START</th>\n",
       "    </tr>\n",
       "  </thead>\n",
       "  <tbody>\n",
       "    <tr>\n",
       "      <th>0</th>\n",
       "      <td>WEDNESDAY</td>\n",
       "    </tr>\n",
       "    <tr>\n",
       "      <th>1</th>\n",
       "      <td>MONDAY</td>\n",
       "    </tr>\n",
       "    <tr>\n",
       "      <th>2</th>\n",
       "      <td>MONDAY</td>\n",
       "    </tr>\n",
       "    <tr>\n",
       "      <th>3</th>\n",
       "      <td>WEDNESDAY</td>\n",
       "    </tr>\n",
       "    <tr>\n",
       "      <th>4</th>\n",
       "      <td>THURSDAY</td>\n",
       "    </tr>\n",
       "  </tbody>\n",
       "</table>\n",
       "</div>"
      ],
      "text/plain": [
       "  WEEKDAY_APPR_PROCESS_START\n",
       "0                  WEDNESDAY\n",
       "1                     MONDAY\n",
       "2                     MONDAY\n",
       "3                  WEDNESDAY\n",
       "4                   THURSDAY"
      ]
     },
     "execution_count": 25,
     "metadata": {},
     "output_type": "execute_result"
    }
   ],
   "source": [
    "import os\n",
    "import numpy as np\n",
    "import pandas as pd\n",
    "# 設定 data_path\n",
    "dir_data = './data/'\n",
    "f_app_train = os.path.join(dir_data, 'application_train.csv') #組合多個路徑\n",
    "app_train = pd.read_csv(f_app_train)\n",
    "\n",
    "sub_train = pd.DataFrame(app_train['WEEKDAY_APPR_PROCESS_START'])\n",
    "print(sub_train.shape)\n",
    "sub_train.head()"
   ]
  },
  {
   "cell_type": "code",
   "execution_count": 26,
   "metadata": {},
   "outputs": [
    {
     "name": "stdout",
     "output_type": "stream",
     "text": [
      "0    0\n",
      "1    1\n",
      "2    1\n",
      "3    0\n",
      "4    0\n",
      "Name: WEEKDAY_APPR_PROCESS_START_MONDAY, dtype: uint8\n",
      "0    1\n",
      "1    0\n",
      "2    0\n",
      "3    1\n",
      "4    0\n",
      "Name: WEEKDAY_APPR_PROCESS_START_WEDNESDAY, dtype: uint8\n",
      "0    0\n",
      "1    0\n",
      "2    0\n",
      "3    0\n",
      "4    1\n",
      "Name: WEEKDAY_APPR_PROCESS_START_THURSDAY, dtype: uint8\n"
     ]
    }
   ],
   "source": [
    "# One Hot encoding 方法有兩種\n",
    "'''\n",
    "一. pd.get_dummies() : pandas 中的 one hot encoding 非常方便，一行程式碼就搞定。\n",
    "二. from sklearn.preprocessing import OneHotEncoder\n",
    "''' \n",
    "# pd.get_dummies()\n",
    "x = pd.get_dummies(sub_train)\n",
    "print(x['WEEKDAY_APPR_PROCESS_START_MONDAY'].head())\n",
    "print(x['WEEKDAY_APPR_PROCESS_START_WEDNESDAY'].head())\n",
    "print(x['WEEKDAY_APPR_PROCESS_START_THURSDAY'].head())"
   ]
  },
  {
   "cell_type": "code",
   "execution_count": 27,
   "metadata": {},
   "outputs": [
    {
     "data": {
      "text/html": [
       "<div>\n",
       "<style scoped>\n",
       "    .dataframe tbody tr th:only-of-type {\n",
       "        vertical-align: middle;\n",
       "    }\n",
       "\n",
       "    .dataframe tbody tr th {\n",
       "        vertical-align: top;\n",
       "    }\n",
       "\n",
       "    .dataframe thead th {\n",
       "        text-align: right;\n",
       "    }\n",
       "</style>\n",
       "<table border=\"1\" class=\"dataframe\">\n",
       "  <thead>\n",
       "    <tr style=\"text-align: right;\">\n",
       "      <th></th>\n",
       "      <th>Country</th>\n",
       "      <th>Age</th>\n",
       "      <th>Salary</th>\n",
       "    </tr>\n",
       "  </thead>\n",
       "  <tbody>\n",
       "    <tr>\n",
       "      <th>0</th>\n",
       "      <td>Taiwan</td>\n",
       "      <td>25</td>\n",
       "      <td>20000</td>\n",
       "    </tr>\n",
       "    <tr>\n",
       "      <th>1</th>\n",
       "      <td>Australia</td>\n",
       "      <td>30</td>\n",
       "      <td>32000</td>\n",
       "    </tr>\n",
       "    <tr>\n",
       "      <th>2</th>\n",
       "      <td>Ireland</td>\n",
       "      <td>45</td>\n",
       "      <td>59000</td>\n",
       "    </tr>\n",
       "    <tr>\n",
       "      <th>3</th>\n",
       "      <td>Australia</td>\n",
       "      <td>35</td>\n",
       "      <td>60000</td>\n",
       "    </tr>\n",
       "    <tr>\n",
       "      <th>4</th>\n",
       "      <td>Ireland</td>\n",
       "      <td>22</td>\n",
       "      <td>43000</td>\n",
       "    </tr>\n",
       "    <tr>\n",
       "      <th>5</th>\n",
       "      <td>Taiwan</td>\n",
       "      <td>36</td>\n",
       "      <td>52000</td>\n",
       "    </tr>\n",
       "  </tbody>\n",
       "</table>\n",
       "</div>"
      ],
      "text/plain": [
       "     Country  Age  Salary\n",
       "0     Taiwan   25   20000\n",
       "1  Australia   30   32000\n",
       "2    Ireland   45   59000\n",
       "3  Australia   35   60000\n",
       "4    Ireland   22   43000\n",
       "5     Taiwan   36   52000"
      ]
     },
     "execution_count": 27,
     "metadata": {},
     "output_type": "execute_result"
    }
   ],
   "source": [
    "# Label encoding\n",
    "# 將 Country欄的字串轉換成數字(進行編碼)，這樣才能套入數學模型進行運算。\n",
    "import numpy as np\n",
    "import pandas as pd\n",
    "country=['Taiwan','Australia','Ireland','Australia','Ireland','Taiwan']\n",
    "age=[25,30,45,35,22,36]\n",
    "salary=[20000,32000,59000,60000,43000,52000]\n",
    "dic={'Country':country,'Age':age,'Salary':salary}\n",
    "data=pd.DataFrame(dic)\n",
    "data"
   ]
  },
  {
   "cell_type": "code",
   "execution_count": 28,
   "metadata": {},
   "outputs": [
    {
     "data": {
      "text/html": [
       "<div>\n",
       "<style scoped>\n",
       "    .dataframe tbody tr th:only-of-type {\n",
       "        vertical-align: middle;\n",
       "    }\n",
       "\n",
       "    .dataframe tbody tr th {\n",
       "        vertical-align: top;\n",
       "    }\n",
       "\n",
       "    .dataframe thead th {\n",
       "        text-align: right;\n",
       "    }\n",
       "</style>\n",
       "<table border=\"1\" class=\"dataframe\">\n",
       "  <thead>\n",
       "    <tr style=\"text-align: right;\">\n",
       "      <th></th>\n",
       "      <th>Country</th>\n",
       "      <th>Age</th>\n",
       "      <th>Salary</th>\n",
       "    </tr>\n",
       "  </thead>\n",
       "  <tbody>\n",
       "    <tr>\n",
       "      <th>0</th>\n",
       "      <td>2</td>\n",
       "      <td>25</td>\n",
       "      <td>20000</td>\n",
       "    </tr>\n",
       "    <tr>\n",
       "      <th>1</th>\n",
       "      <td>0</td>\n",
       "      <td>30</td>\n",
       "      <td>32000</td>\n",
       "    </tr>\n",
       "    <tr>\n",
       "      <th>2</th>\n",
       "      <td>1</td>\n",
       "      <td>45</td>\n",
       "      <td>59000</td>\n",
       "    </tr>\n",
       "    <tr>\n",
       "      <th>3</th>\n",
       "      <td>0</td>\n",
       "      <td>35</td>\n",
       "      <td>60000</td>\n",
       "    </tr>\n",
       "    <tr>\n",
       "      <th>4</th>\n",
       "      <td>1</td>\n",
       "      <td>22</td>\n",
       "      <td>43000</td>\n",
       "    </tr>\n",
       "    <tr>\n",
       "      <th>5</th>\n",
       "      <td>2</td>\n",
       "      <td>36</td>\n",
       "      <td>52000</td>\n",
       "    </tr>\n",
       "  </tbody>\n",
       "</table>\n",
       "</div>"
      ],
      "text/plain": [
       "   Country  Age  Salary\n",
       "0        2   25   20000\n",
       "1        0   30   32000\n",
       "2        1   45   59000\n",
       "3        0   35   60000\n",
       "4        1   22   43000\n",
       "5        2   36   52000"
      ]
     },
     "execution_count": 28,
     "metadata": {},
     "output_type": "execute_result"
    }
   ],
   "source": [
    "from sklearn.preprocessing import LabelEncoder\n",
    "labelencoder = LabelEncoder()\n",
    "data_le=pd.DataFrame(dic)\n",
    "data_le['Country'] = labelencoder.fit_transform(data_le['Country'])\n",
    "data_le"
   ]
  },
  {
   "cell_type": "markdown",
   "metadata": {},
   "source": [
    "### Day007 特徵類型\n",
    "> * 資料中最常⾒見見的特徵類型是 \"數值型特徵\" 與 '類別型特徵' ，雖然還有二元特徵、排序型特徵、時間型特徵等多種特徵類型，但仍以前兩兩者為主。\n",
    "* 數值型特徵：最容易易轉成特徵，但需要注意很多細節。\n",
    "* 類別型特徵：通常⼀一種類別對應⼀一種分數，問題在如何對應。\n",
    "* 時間型特徵：特殊之處在於有週期性。\n",
    "* 上述三種特徵，會在之後的課程講述對應的特徵⼯工程\n",
    "- df[int_features].mean() 平均\n",
    "- df[int_features].max()  最大\n",
    "- df[int_features].nunique() 相異值"
   ]
  },
  {
   "cell_type": "code",
   "execution_count": 36,
   "metadata": {},
   "outputs": [
    {
     "data": {
      "text/plain": [
       "(891, 12)"
      ]
     },
     "execution_count": 36,
     "metadata": {},
     "output_type": "execute_result"
    }
   ],
   "source": [
    "# 如何秀出指定欄位(column)的內容，方便做後續的特徵工程處理。\n",
    "# 載入基本套件\n",
    "import pandas as pd\n",
    "import numpy as np\n",
    "\n",
    "# 讀取訓練與測試資料\n",
    "data_path = 'Data007/'\n",
    "df_train = pd.read_csv(data_path + 'titanic_train.csv')\n",
    "df_test = pd.read_csv(data_path + 'titanic_test.csv')\n",
    "df_train.shape"
   ]
  },
  {
   "cell_type": "code",
   "execution_count": 37,
   "metadata": {},
   "outputs": [
    {
     "name": "stdout",
     "output_type": "stream",
     "text": [
      "(1309, 10)\n"
     ]
    },
    {
     "data": {
      "text/html": [
       "<div>\n",
       "<style scoped>\n",
       "    .dataframe tbody tr th:only-of-type {\n",
       "        vertical-align: middle;\n",
       "    }\n",
       "\n",
       "    .dataframe tbody tr th {\n",
       "        vertical-align: top;\n",
       "    }\n",
       "\n",
       "    .dataframe thead th {\n",
       "        text-align: right;\n",
       "    }\n",
       "</style>\n",
       "<table border=\"1\" class=\"dataframe\">\n",
       "  <thead>\n",
       "    <tr style=\"text-align: right;\">\n",
       "      <th></th>\n",
       "      <th>Pclass</th>\n",
       "      <th>Name</th>\n",
       "      <th>Sex</th>\n",
       "      <th>Age</th>\n",
       "      <th>SibSp</th>\n",
       "      <th>Parch</th>\n",
       "      <th>Ticket</th>\n",
       "      <th>Fare</th>\n",
       "      <th>Cabin</th>\n",
       "      <th>Embarked</th>\n",
       "    </tr>\n",
       "  </thead>\n",
       "  <tbody>\n",
       "    <tr>\n",
       "      <th>0</th>\n",
       "      <td>3</td>\n",
       "      <td>Braund, Mr. Owen Harris</td>\n",
       "      <td>male</td>\n",
       "      <td>22.0</td>\n",
       "      <td>1</td>\n",
       "      <td>0</td>\n",
       "      <td>A/5 21171</td>\n",
       "      <td>7.2500</td>\n",
       "      <td>NaN</td>\n",
       "      <td>S</td>\n",
       "    </tr>\n",
       "    <tr>\n",
       "      <th>1</th>\n",
       "      <td>1</td>\n",
       "      <td>Cumings, Mrs. John Bradley (Florence Briggs Th...</td>\n",
       "      <td>female</td>\n",
       "      <td>38.0</td>\n",
       "      <td>1</td>\n",
       "      <td>0</td>\n",
       "      <td>PC 17599</td>\n",
       "      <td>71.2833</td>\n",
       "      <td>C85</td>\n",
       "      <td>C</td>\n",
       "    </tr>\n",
       "    <tr>\n",
       "      <th>2</th>\n",
       "      <td>3</td>\n",
       "      <td>Heikkinen, Miss. Laina</td>\n",
       "      <td>female</td>\n",
       "      <td>26.0</td>\n",
       "      <td>0</td>\n",
       "      <td>0</td>\n",
       "      <td>STON/O2. 3101282</td>\n",
       "      <td>7.9250</td>\n",
       "      <td>NaN</td>\n",
       "      <td>S</td>\n",
       "    </tr>\n",
       "    <tr>\n",
       "      <th>3</th>\n",
       "      <td>1</td>\n",
       "      <td>Futrelle, Mrs. Jacques Heath (Lily May Peel)</td>\n",
       "      <td>female</td>\n",
       "      <td>35.0</td>\n",
       "      <td>1</td>\n",
       "      <td>0</td>\n",
       "      <td>113803</td>\n",
       "      <td>53.1000</td>\n",
       "      <td>C123</td>\n",
       "      <td>S</td>\n",
       "    </tr>\n",
       "    <tr>\n",
       "      <th>4</th>\n",
       "      <td>3</td>\n",
       "      <td>Allen, Mr. William Henry</td>\n",
       "      <td>male</td>\n",
       "      <td>35.0</td>\n",
       "      <td>0</td>\n",
       "      <td>0</td>\n",
       "      <td>373450</td>\n",
       "      <td>8.0500</td>\n",
       "      <td>NaN</td>\n",
       "      <td>S</td>\n",
       "    </tr>\n",
       "  </tbody>\n",
       "</table>\n",
       "</div>"
      ],
      "text/plain": [
       "   Pclass                                               Name     Sex   Age  \\\n",
       "0       3                            Braund, Mr. Owen Harris    male  22.0   \n",
       "1       1  Cumings, Mrs. John Bradley (Florence Briggs Th...  female  38.0   \n",
       "2       3                             Heikkinen, Miss. Laina  female  26.0   \n",
       "3       1       Futrelle, Mrs. Jacques Heath (Lily May Peel)  female  35.0   \n",
       "4       3                           Allen, Mr. William Henry    male  35.0   \n",
       "\n",
       "   SibSp  Parch            Ticket     Fare Cabin Embarked  \n",
       "0      1      0         A/5 21171   7.2500   NaN        S  \n",
       "1      1      0          PC 17599  71.2833   C85        C  \n",
       "2      0      0  STON/O2. 3101282   7.9250   NaN        S  \n",
       "3      1      0            113803  53.1000  C123        S  \n",
       "4      0      0            373450   8.0500   NaN        S  "
      ]
     },
     "execution_count": 37,
     "metadata": {},
     "output_type": "execute_result"
    }
   ],
   "source": [
    "# 重組資料成為訓練 / 預測用格式\n",
    "# 訓練資料需要 train_X, train_Y / 預測輸出需要 ids(識別每個預測值), test_X\n",
    "# 在此先抽離出 train_Y 與 ids, 而先將 train_X, test_X 該有的資料合併成 df, 先作特徵工程\n",
    "train_Y = df_train['Survived']\n",
    "ids = df_test['PassengerId']\n",
    "df_train = df_train.drop(['PassengerId', 'Survived'] , axis=1)\n",
    "df_test = df_test.drop(['PassengerId'] , axis=1)\n",
    "df = pd.concat([df_train,df_test])\n",
    "print(df.shape)\n",
    "df.head()"
   ]
  },
  {
   "cell_type": "code",
   "execution_count": 38,
   "metadata": {},
   "outputs": [
    {
     "data": {
      "text/html": [
       "<div>\n",
       "<style scoped>\n",
       "    .dataframe tbody tr th:only-of-type {\n",
       "        vertical-align: middle;\n",
       "    }\n",
       "\n",
       "    .dataframe tbody tr th {\n",
       "        vertical-align: top;\n",
       "    }\n",
       "\n",
       "    .dataframe thead th {\n",
       "        text-align: right;\n",
       "    }\n",
       "</style>\n",
       "<table border=\"1\" class=\"dataframe\">\n",
       "  <thead>\n",
       "    <tr style=\"text-align: right;\">\n",
       "      <th></th>\n",
       "      <th>Column Type</th>\n",
       "      <th>Count</th>\n",
       "    </tr>\n",
       "  </thead>\n",
       "  <tbody>\n",
       "    <tr>\n",
       "      <th>0</th>\n",
       "      <td>int64</td>\n",
       "      <td>3</td>\n",
       "    </tr>\n",
       "    <tr>\n",
       "      <th>1</th>\n",
       "      <td>float64</td>\n",
       "      <td>2</td>\n",
       "    </tr>\n",
       "    <tr>\n",
       "      <th>2</th>\n",
       "      <td>object</td>\n",
       "      <td>5</td>\n",
       "    </tr>\n",
       "  </tbody>\n",
       "</table>\n",
       "</div>"
      ],
      "text/plain": [
       "  Column Type  Count\n",
       "0       int64      3\n",
       "1     float64      2\n",
       "2      object      5"
      ]
     },
     "execution_count": 38,
     "metadata": {},
     "output_type": "execute_result"
    }
   ],
   "source": [
    "# 秀出資料欄位的類型與數量\n",
    "# df.dtypes : 轉成以欄位為 index, 類別(type)為 value 的 DataFrame\n",
    "# .reset_index() : 預設是將原本的 index 轉成一個新的欄位, 如果不須保留 index, 則通常會寫成 .reset_index(drop=True)\n",
    "# groupby() : 將資料依照自己要的column分組。  aggregate : 計算次數。\n",
    "dtype_df = df.dtypes.reset_index()\n",
    "dtype_df.columns = [\"Count\", \"Column Type\"]\n",
    "dtype_df = dtype_df.groupby(\"Column Type\").aggregate('count').reset_index()\n",
    "dtype_df"
   ]
  },
  {
   "cell_type": "code",
   "execution_count": 39,
   "metadata": {},
   "outputs": [
    {
     "name": "stdout",
     "output_type": "stream",
     "text": [
      "3 Integer Features : ['Pclass', 'SibSp', 'Parch']\n",
      "\n",
      "2 Float Features : ['Age', 'Fare']\n",
      "\n",
      "5 Object Features : ['Name', 'Sex', 'Ticket', 'Cabin', 'Embarked']\n"
     ]
    }
   ],
   "source": [
    "#確定只有 int64, float64, object 三種類型後, 分別將欄位名稱存於三個 list 中\n",
    "int_features = []\n",
    "float_features = []\n",
    "object_features = []\n",
    "# .dtypes(欄位類型), .columns(欄位名稱) 是 DataFrame 提供的兩個方法, 這裡順便展示一下 for 與 zip 搭配的用法\n",
    "for dtype, feature in zip(df.dtypes, df.columns):\n",
    "    if dtype == 'float64':\n",
    "        float_features.append(feature)\n",
    "    elif dtype == 'int64':\n",
    "        int_features.append(feature)\n",
    "    else:\n",
    "        object_features.append(feature)\n",
    "# 這邊採用的寫法稱為 f-string, 是 Python 3.6.2 以後版本才出現的\n",
    "# 如果無法執行, 則需要更新到這個版本之後, 或自行將程式改寫為 str.format 形式\n",
    "# 改寫方式可以參考 https://blog.louie.lu/2017/08/08/outdate-python-string-format-and-fstring/\n",
    "print(f'{len(int_features)} Integer Features : {int_features}\\n')\n",
    "print(f'{len(float_features)} Float Features : {float_features}\\n')\n",
    "print(f'{len(object_features)} Object Features : {object_features}')"
   ]
  },
  {
   "cell_type": "code",
   "execution_count": 40,
   "metadata": {},
   "outputs": [
    {
     "data": {
      "text/html": [
       "<div>\n",
       "<style scoped>\n",
       "    .dataframe tbody tr th:only-of-type {\n",
       "        vertical-align: middle;\n",
       "    }\n",
       "\n",
       "    .dataframe tbody tr th {\n",
       "        vertical-align: top;\n",
       "    }\n",
       "\n",
       "    .dataframe thead th {\n",
       "        text-align: right;\n",
       "    }\n",
       "</style>\n",
       "<table border=\"1\" class=\"dataframe\">\n",
       "  <thead>\n",
       "    <tr style=\"text-align: right;\">\n",
       "      <th></th>\n",
       "      <th>Age</th>\n",
       "      <th>Fare</th>\n",
       "    </tr>\n",
       "  </thead>\n",
       "  <tbody>\n",
       "    <tr>\n",
       "      <th>0</th>\n",
       "      <td>22.0</td>\n",
       "      <td>7.2500</td>\n",
       "    </tr>\n",
       "    <tr>\n",
       "      <th>1</th>\n",
       "      <td>38.0</td>\n",
       "      <td>71.2833</td>\n",
       "    </tr>\n",
       "    <tr>\n",
       "      <th>2</th>\n",
       "      <td>26.0</td>\n",
       "      <td>7.9250</td>\n",
       "    </tr>\n",
       "    <tr>\n",
       "      <th>3</th>\n",
       "      <td>35.0</td>\n",
       "      <td>53.1000</td>\n",
       "    </tr>\n",
       "    <tr>\n",
       "      <th>4</th>\n",
       "      <td>35.0</td>\n",
       "      <td>8.0500</td>\n",
       "    </tr>\n",
       "  </tbody>\n",
       "</table>\n",
       "</div>"
      ],
      "text/plain": [
       "    Age     Fare\n",
       "0  22.0   7.2500\n",
       "1  38.0  71.2833\n",
       "2  26.0   7.9250\n",
       "3  35.0  53.1000\n",
       "4  35.0   8.0500"
      ]
     },
     "execution_count": 40,
     "metadata": {},
     "output_type": "execute_result"
    }
   ],
   "source": [
    "#這樣就可以單獨秀出特定類型的欄位集合, 方便做後續的特徵工程處理\n",
    "df[float_features].head()"
   ]
  },
  {
   "cell_type": "code",
   "execution_count": 60,
   "metadata": {},
   "outputs": [
    {
     "data": {
      "text/plain": [
       "0       True\n",
       "1      False\n",
       "2       True\n",
       "3      False\n",
       "4       True\n",
       "5       True\n",
       "6      False\n",
       "7       True\n",
       "8       True\n",
       "9       True\n",
       "10     False\n",
       "11     False\n",
       "12      True\n",
       "13      True\n",
       "14      True\n",
       "15      True\n",
       "16      True\n",
       "17      True\n",
       "18      True\n",
       "19      True\n",
       "20      True\n",
       "21     False\n",
       "22      True\n",
       "23     False\n",
       "24      True\n",
       "25      True\n",
       "26      True\n",
       "27     False\n",
       "28      True\n",
       "29      True\n",
       "       ...  \n",
       "388     True\n",
       "389     True\n",
       "390    False\n",
       "391    False\n",
       "392     True\n",
       "393     True\n",
       "394     True\n",
       "395    False\n",
       "396     True\n",
       "397    False\n",
       "398     True\n",
       "399     True\n",
       "400    False\n",
       "401     True\n",
       "402     True\n",
       "403     True\n",
       "404    False\n",
       "405    False\n",
       "406     True\n",
       "407    False\n",
       "408     True\n",
       "409     True\n",
       "410     True\n",
       "411    False\n",
       "412     True\n",
       "413     True\n",
       "414    False\n",
       "415     True\n",
       "416     True\n",
       "417     True\n",
       "Name: Cabin, Length: 1309, dtype: bool"
      ]
     },
     "execution_count": 60,
     "metadata": {},
     "output_type": "execute_result"
    }
   ],
   "source": [
    "# 如何簡單的顯示出所有包含nan的列?\n",
    "# any()\n",
    "# isnull = isna\n",
    "pd.isna(df['Cabin'])#指定某一列查看缺失值(nan)。True表示缺失\n",
    "#df.isna().any(axis=1)\n"
   ]
  },
  {
   "cell_type": "markdown",
   "metadata": {},
   "source": [
    "### Day008 EDA資料分佈\n",
    "長方圖"
   ]
  },
  {
   "cell_type": "code",
   "execution_count": 14,
   "metadata": {},
   "outputs": [
    {
     "data": {
      "text/plain": [
       "count    3.075110e+05\n",
       "mean     1.687979e+05\n",
       "std      2.371231e+05\n",
       "min      2.565000e+04\n",
       "25%      1.125000e+05\n",
       "50%      1.471500e+05\n",
       "75%      2.025000e+05\n",
       "max      1.170000e+08\n",
       "Name: AMT_INCOME_TOTAL, dtype: float64"
      ]
     },
     "execution_count": 14,
     "metadata": {},
     "output_type": "execute_result"
    }
   ],
   "source": [
    "# Import 需要的套件\n",
    "import os\n",
    "import numpy as np\n",
    "import pandas as pd\n",
    "\n",
    "# 設定 data_path\n",
    "dir_data = './Data/'\n",
    "\n",
    "f_app_train = os.path.join(dir_data, 'application_train.csv')\n",
    "app_train = pd.read_csv(f_app_train)\n",
    "\n",
    "import matplotlib.pyplot as plt\n",
    "%matplotlib inline \n",
    "# 魔法函数（Magic Functions），可以省略掉plt.show()的步驟。\n",
    "\n",
    "app_train['AMT_INCOME_TOTAL'].describe()"
   ]
  },
  {
   "cell_type": "code",
   "execution_count": 16,
   "metadata": {},
   "outputs": [
    {
     "data": {
      "text/plain": [
       "Text(0.5, 0, 'AMT_INCOME_TOTAL')"
      ]
     },
     "execution_count": 16,
     "metadata": {},
     "output_type": "execute_result"
    },
    {
     "data": {
      "image/png": "[encoded data removed]",
      "text/plain": [
       "<Figure size 432x288 with 1 Axes>"
      ]
     },
     "metadata": {
      "needs_background": "light"
     },
     "output_type": "display_data"
    }
   ],
   "source": [
    "app_train['AMT_INCOME_TOTAL'].hist()\n",
    "plt.xlabel('AMT_INCOME_TOTAL')"
   ]
  },
  {
   "cell_type": "markdown",
   "metadata": {},
   "source": [
    "### 注意到該欄位的最大值和 75% 百分位數的值有異常大的差距，所以直接畫直方圖會看不出所以然來，可以先過濾掉再重新畫圖來看"
   ]
  },
  {
   "cell_type": "code",
   "execution_count": 19,
   "metadata": {},
   "outputs": [
    {
     "data": {
      "text/plain": [
       "Text(0.5, 0, 'AMT_INCOME_TOTAL')"
      ]
     },
     "execution_count": 19,
     "metadata": {},
     "output_type": "execute_result"
    },
    {
     "data": {
      "image/png": "[encoded data removed]",
      "text/plain": [
       "<Figure size 432x288 with 1 Axes>"
      ]
     },
     "metadata": {
      "needs_background": "light"
     },
     "output_type": "display_data"
    }
   ],
   "source": [
    "# 下面這一行看不懂\n",
    "'''\n",
    "app_train['AMT_INCOME_TOTAL'] < app_train['AMT_INCOME_TOTAL'].quantile(0.99)\n",
    "=> 這一段在比較 AMT_INCOME_TOTAL 欄位是否小於 99 分位數，會是一個 Ture/False 的 Series\n",
    "\n",
    "app_train.loc[ ... ]\n",
    "=> 這一段把上面那個 Ture/False 的 Series 當成條件，會選出 AMT_INCOME_TOTAL 欄位是否小於 99 分位數 的資料\n",
    "\n",
    "app_train.loc[ ... ]['AMT_INCOME_TOTAL']\n",
    "=> 從符合條件的資料中，取出 AMT_INCOME_TOTAL 欄位\n",
    "\n",
    "app_train.loc[ ... ]['AMT_INCOME_TOTAL'].hist()\n",
    "=> 畫成長條圖\n",
    "'''\n",
    "app_train.loc[app_train['AMT_INCOME_TOTAL']<app_train['AMT_INCOME_TOTAL'].quantile(0.99)]['AMT_INCOME_TOTAL'].hist()\n",
    "plt.xlabel('AMT_INCOME_TOTAL')"
   ]
  },
  {
   "cell_type": "markdown",
   "metadata": {},
   "source": [
    "### Day009 EDA: Outlier 及處理\n",
    "* Outlier(例外值、異常值)可能出現原因 : 年齡是-1或999，錯誤紀錄、系統性錯誤。\n",
    "* 檢查Outlier的流程與方法 : 盡可能確認每個欄位的意義。透過檢查數值範圍(五值、平均數、標準差)，或是繪製散點圖(scatter)、分布圖(histogram)或其他圖檢查是否有異常。\n",
    "* 對Outlier的處理方法 : 新增欄欄位⽤用以紀錄異異常與否、填補(取代)、視情況以中位數, Min, Max 或平均數填補(有時會⽤用 NA)。\n",
    "[Ways to Detect and Remove the Outliers](https://towardsdatascience.com/ways-to-detect-and-remove-the-outliers-404d16608dba)"
   ]
  },
  {
   "cell_type": "code",
   "execution_count": null,
   "metadata": {},
   "outputs": [],
   "source": [
    "# Import 需要的套件\n",
    "import os\n",
    "import numpy as np\n",
    "import pandas as pd\n",
    "import matplotlib.pyplot as plt\n",
    "\n",
    "%matplotlib inline\n",
    "\n",
    "# 設定 data_path\n",
    "dir_data = './data/'"
   ]
  },
  {
   "cell_type": "markdown",
   "metadata": {},
   "source": [
    "\n"
   ]
  },
  {
   "cell_type": "markdown",
   "metadata": {},
   "source": [
    "\n"
   ]
  },
  {
   "cell_type": "markdown",
   "metadata": {},
   "source": [
    "\n",
    "\n"
   ]
  },
  {
   "cell_type": "markdown",
   "metadata": {},
   "source": [
    "\n"
   ]
  },
  {
   "cell_type": "markdown",
   "metadata": {},
   "source": [
    "# import matplotlib.pyplot as plt 繪圖用法\n",
    "[莫煩python matplotlib 3](https://morvanzhou.github.io/tutorials/data-manipulation/plt/)\n",
    "[Matplotlib 基礎入門](https://www.happycoder.org/2017/10/13/python-data-science-and-machine-learning-matplotlib-tutorial/)"
   ]
  },
  {
   "cell_type": "code",
   "execution_count": 42,
   "metadata": {
    "scrolled": true
   },
   "outputs": [
    {
     "data": {
      "image/png": "[encoded data removed]",
      "text/plain": [
       "<Figure size 432x288 with 1 Axes>"
      ]
     },
     "metadata": {
      "needs_background": "light"
     },
     "output_type": "display_data"
    }
   ],
   "source": [
    "import matplotlib.pyplot as plt\n",
    "import numpy as np\n",
    "x = np.linspace(-1,1,50) #範圍是(-1,1)，個數 50個。\n",
    "y1 = 2*x+1\n",
    "y2 = x**2\n",
    "plt.xlim(-1,2) #x軸座標範圍\n",
    "plt.ylim(-2,3) #y軸座標範圍\n",
    "plt.xlabel('I am x')  #x軸名稱\n",
    "plt.ylabel('I am y')  #y軸名稱\n",
    "plt.xticks(np.linspace(-1,2,5)) #設置x軸刻度\n",
    "plt.yticks([-2,-1,0,1,2,3],[r'$really\\ bad$', r'$bad$', r'$normal$', r'$good$', r'$really\\ good$'])\n",
    "\n",
    "#設置邊框顏色\n",
    "ax = plt.gca()\n",
    "ax.spines['right'].set_color('none') #設定邊框顏色\n",
    "ax.spines['top'].set_color('none')   #設定邊框顏色\n",
    "ax.xaxis.set_ticks_position('bottom') #設定x軸座標的位置top,bottom,both,default,none\n",
    "ax.spines['bottom'].set_position(('data', 0))#.spines設置邊框;.set_position设置边框位置（位置所有属性：outward，axes，data）\n",
    "ax.yaxis.set_ticks_position('left')\n",
    "ax.spines['left'].set_position(('data',0))\n",
    "\n",
    "l1 = plt.plot(x, y1, color='red', linewidth=1.0, linestyle='--', label='x,y1 line')  #繪製x, y1圖\n",
    "l2 = plt.plot(x, y2, label='x,y2 line')  #繪製x, y2圖\n",
    "\n",
    "plt.legend(loc='upper right')#顯示出label\n",
    "#plt.legend(handles=[l1, l2], labels=['l1','l2'], loc='best')#loc有多種參數，'best'表示自動分配最佳位置，其餘如下:\n",
    "''' 'best' : 0,          \n",
    " 'upper right'  : 1,\n",
    " 'upper left'   : 2,\n",
    " 'lower left'   : 3,\n",
    " 'lower right'  : 4,\n",
    " 'right'        : 5,\n",
    " 'center left'  : 6,\n",
    " 'center right' : 7,\n",
    " 'lower center' : 8,\n",
    " 'upper center' : 9,\n",
    " 'center'       : 10,\n",
    "'''\n",
    "plt.show()     #顯示圖"
   ]
  },
  {
   "cell_type": "code",
   "execution_count": 75,
   "metadata": {},
   "outputs": [
    {
     "data": {
      "image/png": "[encoded data removed]",
      "text/plain": [
       "<Figure size 432x288 with 1 Axes>"
      ]
     },
     "metadata": {
      "needs_background": "light"
     },
     "output_type": "display_data"
    }
   ],
   "source": [
    "import matplotlib.pyplot as plt\n",
    "import numpy as np\n",
    "\n",
    "x = np.linspace(-3, 3, 50)\n",
    "y = 2*x + 1\n",
    "\n",
    "#設定座標位置\n",
    "ax = plt.gca()\n",
    "ax.spines['right'].set_color('none') #不顯示右邊的線\n",
    "ax.spines['top'].set_color('none')   #不顯示上面的線\n",
    "ax.xaxis.set_ticks_position('bottom')#x軸標示在下面\n",
    "ax.spines['bottom'].set_position(('data', 0))#底線歸0\n",
    "ax.yaxis.set_ticks_position('left')  #y軸標示在左邊\n",
    "ax.spines['left'].set_position(('data', 0))  #左線歸0\n",
    "\n",
    "#畫虛線 & 點\n",
    "x0 = 1\n",
    "y0 = 2*x0+1\n",
    "plt.plot([x0,x0],[0,y0],'k--',linewidth=2.5) #虛線\n",
    "plt.scatter([x0],[y0], s=50, color='b') #畫dot\n",
    "\n",
    "#添加標註annotate  #其中xytext=(+30, -30),textcoords='offset points'表示位置的描述與xy偏差值\n",
    "plt.annotate(r'$2x+1=%s$' % y0, xy=(x0, y0), xycoords='data', xytext=(+30, -30),\n",
    "             textcoords='offset points', fontsize=16,\n",
    "             arrowprops=dict(arrowstyle='->', connectionstyle=\"arc3,rad=.2\"))\n",
    "\n",
    "#添加注釋text # -3.7, 3是text位置，空格需要用到轉字符\\，fontdict設置字體格式\n",
    "plt.text(-3.7, 3, r'$This\\ is\\ the\\ some\\ text. \\mu\\ \\sigma_i\\ \\alpha_t$',\n",
    "         fontdict={'size': 16, 'color': 'r'} )\n",
    "\n",
    "plt.figure(num=1, figsize=(8, 5)) #圖的大小\n",
    "plt.plot(x, y)\n",
    "plt.show()"
   ]
  },
  {
   "cell_type": "code",
   "execution_count": 77,
   "metadata": {
    "scrolled": true
   },
   "outputs": [
    {
     "data": {
      "image/png": "[encoded data removed]",
      "text/plain": [
       "<Figure size 432x288 with 1 Axes>"
      ]
     },
     "metadata": {
      "needs_background": "light"
     },
     "output_type": "display_data"
    }
   ],
   "source": [
    "# tick能見度 (如果線擋到字的時候)\n",
    "import matplotlib.pyplot as plt\n",
    "import numpy as np\n",
    "\n",
    "x = np.linspace(-3, 3, 50)\n",
    "y = 0.1*x\n",
    "\n",
    "plt.figure() #不知道用途\n",
    "# 在 plt 2.0.2 或更高的版本中, 设置 zorder 给 plot 在 z 轴方向排序\n",
    "plt.plot(x, y, linewidth=10, zorder=1) #zorder???\n",
    "plt.ylim(-2, 2)\n",
    "ax = plt.gca()\n",
    "ax.spines['right'].set_color('none')\n",
    "ax.spines['top'].set_color('none')\n",
    "ax.xaxis.set_ticks_position('bottom')\n",
    "ax.spines['bottom'].set_position(('data', 0))\n",
    "ax.yaxis.set_ticks_position('left')\n",
    "ax.spines['left'].set_position(('data', 0))\n",
    "\n",
    "for label in ax.get_xticklabels() + ax.get_yticklabels():\n",
    "    label.set_fontsize(12)\n",
    "    # 在 plt 2.0.2 或更高的版本中, 设置 zorder 给 plot 在 z 轴方向排序\n",
    "    label.set_bbox(dict(facecolor='white', edgecolor='None', alpha=0.7, zorder=2))\n",
    "plt.show()\n",
    "#label.set_fontsize(12)重新調整字的大小，bbox:調整box的相關參數，facecolor調整box前景色，edgecolor設置邊框，alpha設置透明度。"
   ]
  },
  {
   "cell_type": "code",
   "execution_count": 9,
   "metadata": {
    "scrolled": true
   },
   "outputs": [
    {
     "data": {
      "image/png": "[encoded data removed]",
      "text/plain": [
       "<Figure size 432x288 with 1 Axes>"
      ]
     },
     "metadata": {},
     "output_type": "display_data"
    }
   ],
   "source": [
    "#散點圖 scatter\n",
    "import matplotlib.pyplot as plt\n",
    "import numpy as np\n",
    "\n",
    "n = 1024    # data size\n",
    "X = np.random.normal(0, 1, n) # 每一个点的X值\n",
    "Y = np.random.normal(0, 1, n) # 每一个点的Y值\n",
    "T = np.arctan2(Y,X) # for color value\n",
    "\n",
    "#輸入X,Y作為location, size=75,顏色為T,color map用默認值,透明度為50%。\n",
    "#x軸顯示範圍定位(-1.5, 1.5),並用xtick()函數來隱藏x坐標軸,y同理。\n",
    "plt.scatter(X, Y, s=75, c=T, alpha=.5)\n",
    "\n",
    "plt.xlim(-1.5, 1.5)\n",
    "plt.xticks(())  # ignore xticks\n",
    "plt.ylim(-1.5, 1.5)\n",
    "plt.yticks(())  # ignore yticks\n",
    "\n",
    "plt.show()"
   ]
  },
  {
   "cell_type": "markdown",
   "metadata": {},
   "source": [
    "[zip與for迴圈](https://blog.gtwang.org/programming/python-iterate-through-multiple-lists-in-parallel/)"
   ]
  },
  {
   "cell_type": "code",
   "execution_count": 14,
   "metadata": {},
   "outputs": [
    {
     "name": "stdout",
     "output_type": "stream",
     "text": [
      "A 11\n",
      "B 23\n",
      "C 46\n"
     ]
    }
   ],
   "source": [
    "#在 Python 中若要將兩個 list 以迴圈的方式一次各取一個元素出來處理，可以使用 zip 打包之後配合 for 迴圈來處理：\n",
    "# 第一個 List\n",
    "names = [\"A\", \"B\", \"C\"]\n",
    "\n",
    "# 第二個 List\n",
    "values = [11, 23, 46]\n",
    "\n",
    "# 使用 zip 同時迭代兩個 List\n",
    "for x, y in zip(names, values):\n",
    "  print(x, y)\n",
    "#這裡的 zip(names, values) 會將 names 與 values 的每個元素以一對一的方式配對起來，組成一個新的迭代器，然後交給 for 迴圈進行迭代\n",
    "#，所以每一次迭代時所取的 x 值會來自於 names，而 y 則會來自於 values，結果就會像這樣："
   ]
  },
  {
   "cell_type": "code",
   "execution_count": 13,
   "metadata": {},
   "outputs": [
    {
     "data": {
      "image/png": "[encoded data removed]",
      "text/plain": [
       "<Figure size 432x288 with 1 Axes>"
      ]
     },
     "metadata": {},
     "output_type": "display_data"
    }
   ],
   "source": [
    "# Bar 柱狀圖\n",
    "#向上下分別生成12個數據，X為0~11的整數，Y是相應的\"均勻分布\"的隨機數據。\n",
    "#使用的函數式plt.bar,參數為X和Y\n",
    "import matplotlib.pyplot as plt\n",
    "import numpy as np\n",
    "\n",
    "n = 12\n",
    "X = np.arange(n)\n",
    "Y1 = (1 - X / float(n)) * np.random.uniform(0.5, 1.0, n)\n",
    "Y2 = (1 - X / float(n)) * np.random.uniform(0.5, 1.0, n)\n",
    "\n",
    "#facecolor設定顏色，edgecolor設定邊框顏色為白色\n",
    "plt.bar(X, +Y1, facecolor='#9999ff', edgecolor='white')\n",
    "plt.bar(X, -Y2, facecolor='#ff9999', edgecolor='white')\n",
    "\n",
    "# 使用plt.text分別在柱體上方(下方)加上數值，用 %.2f保留兩位小數，ha='center'橫向中居對齊，va='bottom'縱向底部(頂部)對齊\n",
    "for x, y in zip(X, Y1):\n",
    "    # ha: horizontal alignment\n",
    "    # va: vertical alignment\n",
    "    plt.text(x , y + 0.05, '%.2f' % y, ha='center', va='bottom')\n",
    "for x, y in zip(X, Y2):\n",
    "    # ha: horizontal alignment\n",
    "    # va: vertical alignment\n",
    "    plt.text(x , -y - 0.05, '%.2f' % y, ha='center', va='top')\n",
    "\n",
    "plt.xlim(-1, n)\n",
    "plt.xticks(())# ignore xticks\n",
    "plt.ylim(-1.25, 1.25)\n",
    "plt.yticks(())# ignore xticks\n",
    "\n",
    "plt.show()"
   ]
  },
  {
   "cell_type": "code",
   "execution_count": 6,
   "metadata": {},
   "outputs": [
    {
     "data": {
      "image/png": "[encoded data removed]",
      "text/plain": [
       "<Figure size 432x288 with 1 Axes>"
      ]
     },
     "metadata": {},
     "output_type": "display_data"
    }
   ],
   "source": [
    "# Contours 等高線圖\n",
    "import matplotlib.pyplot as plt\n",
    "import numpy as np\n",
    "\n",
    "def f(x,y):\n",
    "    # the height function 高度值使用一個函數\n",
    "    return (1 - x / 2 + x**5 + y**3) * np.exp(-x**2 -y**2)\n",
    "\n",
    "n = 256\n",
    "x = np.linspace(-3, 3, n)\n",
    "y = np.linspace(-3, 3, n)\n",
    "X,Y = np.meshgrid(x, y) # X,Y是由 x,y產生的矩陣。 詳細: https://www.cnblogs.com/lemonbit/p/7593898.html\n",
    "\n",
    "#顏色填充\n",
    "# use plt.contourf to filling contours\n",
    "# X, Y and value for (X,Y) point，X和Y必須都為二維且形狀與Z相同 (e.g. created via numpy.meshgrid)\n",
    "# 透明度0.75，f(x,y)值對應到color map的暖色組中尋找對應顏色。\n",
    "plt.contourf(X, Y, f(X, Y), 8, alpha=.75, cmap=plt.cm.hot) \n",
    "\n",
    "# 等高線繪製\n",
    "# use plt.contour to add contour lines  # 線條黑色，線條寬度0.5\n",
    "C = plt.contour(X, Y, f(X, Y), 8, colors='black', linewidths=.5)\n",
    "\n",
    "#添加高度數字   inline控制是否將Label畫在線裡面，字體大小為10。\n",
    "plt.clabel(C, inline=True, fontsize=10)\n",
    "plt.xticks(())# ignore xticks\n",
    "plt.yticks(())# ignore xticks\n",
    "\n",
    "plt.show()"
   ]
  },
  {
   "cell_type": "code",
   "execution_count": 13,
   "metadata": {},
   "outputs": [
    {
     "data": {
      "image/png": "[encoded data removed]",
      "text/plain": [
       "<Figure size 432x288 with 2 Axes>"
      ]
     },
     "metadata": {
      "needs_background": "light"
     },
     "output_type": "display_data"
    }
   ],
   "source": [
    "# 隨機矩陣畫圖 :如何使用matplotlib中打印出圖像，下列使用3x3的2D-array來表示點的顏色，每一個點就是一個 pixel。\n",
    "import matplotlib.pyplot as plt\n",
    "import numpy as np\n",
    "\n",
    "a = np.array([0.313660827978, 0.365348418405, 0.423733120134,\n",
    "              0.365348418405, 0.439599930621, 0.525083754405,\n",
    "              0.423733120134, 0.525083754405, 0.651536351379]).reshape(3,3)\n",
    "\n",
    "# interpolation內插法，cmap(顏色圖譜colormap，可去網路找ex:autumn、copper)，origin原點位置為lower(upper為默認)\n",
    "# 官網有關於不同內插法用法 https://matplotlib.org/examples/images_contours_and_fields/interpolation_methods.html \n",
    "plt.imshow(a, interpolation='nearest', cmap='bone', origin='lower')\n",
    "\n",
    "# colorbar\n",
    "# shrink=.92使colorbar長度為原來的92%\n",
    "plt.colorbar(shrink=.92)\n",
    "\n",
    "plt.xticks(())# ignore xticks\n",
    "plt.yticks(())# ignore xticks\n",
    "\n",
    "plt.show()"
   ]
  },
  {
   "cell_type": "code",
   "execution_count": 33,
   "metadata": {},
   "outputs": [
    {
     "data": {
      "image/png": "[encoded data removed]",
      "text/plain": [
       "<Figure size 432x288 with 1 Axes>"
      ]
     },
     "metadata": {
      "needs_background": "light"
     },
     "output_type": "display_data"
    }
   ],
   "source": [
    "# 3D圖\n",
    "import numpy as np\n",
    "import matplotlib.pyplot as plt\n",
    "from mpl_toolkits.mplot3d import Axes3D\n",
    "\n",
    "#先定義一個圖像窗口，在窗口上添加3D坐標軸\n",
    "fig = plt.figure()\n",
    "ax = Axes3D(fig)\n",
    "\n",
    "#X,Y值做成網格，並定義一個高度函數Z\n",
    "X = np.arange(-4, 4, 0.25)\n",
    "Y = np.arange(-4, 4, 0.25)\n",
    "X, Y = np.meshgrid(X, Y)    # x-y 平面的网格\n",
    "R = np.sqrt(X ** 2 + Y ** 2)\n",
    "# height value\n",
    "Z = np.sin(R)\n",
    "\n",
    "# 做出一個三圍曲面，並將一個colormap rainbow填充顏色，之後將三維圖像投影到XY平面上做一個等高線圖。\n",
    "#rstride、cstride分別代表row、column的跨度。\n",
    "ax.plot_surface(X, Y, Z, rstride=1, cstride=1, cmap=plt.get_cmap('rainbow'))\n",
    "\n",
    "\n",
    "# 投影\n",
    "# zdir=x，表示會投影到XZ平面。\n",
    "ax.contourf(X, Y, Z, zdir='x', offset=-4.5, cmap=plt.get_cmap('rainbow'))\n",
    "\n",
    "plt.show()"
   ]
  },
  {
   "cell_type": "code",
   "execution_count": 37,
   "metadata": {},
   "outputs": [
    {
     "data": {
      "image/png": "[encoded data removed]",
      "text/plain": [
       "<Figure size 432x288 with 4 Axes>"
      ]
     },
     "metadata": {
      "needs_background": "light"
     },
     "output_type": "display_data"
    }
   ],
   "source": [
    "# subplot 多合一顯示 :matplotlib\n",
    "import matplotlib.pyplot as plt\n",
    "\n",
    "# 使用plt.figure創建一個圖像窗口。\n",
    "plt.figure()\n",
    "\n",
    "# plt.subplot來創建小圖，放在一張大圖裡面顯示。\n",
    "#表示將整個圖像窗口分為2行2列，當前位置為1，plt.plot([0,1],[0,1])在第一個位置創建一個小圖。\n",
    "plt.subplot(2,2,1)\n",
    "plt.plot([0,1],[0,1])\n",
    "\n",
    "# plt.subplot(2,2,2)，當前位置2，plt.plot([0,1],[0,2])在第二個位置創建小圖。\n",
    "plt.subplot(2,2,2)\n",
    "plt.plot([0,1],[0,2])\n",
    "\n",
    "plt.subplot(2,2,3)\n",
    "plt.plot([0,1],[0,3])\n",
    "\n",
    "plt.subplot(2,2,4)\n",
    "plt.plot([0,1],[0,4])\n",
    "\n",
    "plt.show()"
   ]
  },
  {
   "cell_type": "code",
   "execution_count": 40,
   "metadata": {},
   "outputs": [
    {
     "data": {
      "image/png": "[encoded data removed]",
      "text/plain": [
       "<Figure size 432x288 with 4 Axes>"
      ]
     },
     "metadata": {
      "needs_background": "light"
     },
     "output_type": "display_data"
    }
   ],
   "source": [
    "# 不均勻中間圖 :展示不同大小的圖。\n",
    "plt.subplot(2,1,1) #將整個圖像窗口分為2行1列，當前位置1，\n",
    "plt.plot([0,1],[0,1])\n",
    "\n",
    "# plt.subplot(2,3,4)將整個圖像窗口分為2行3，當前位置為4\n",
    "plt.subplot(2,3,4)\n",
    "plt.plot([0,1],[0,2])\n",
    "#   這裡需要解釋一下為什麼第4個位置放在第2個小圖上。 上一步中使用plt.subplot(2,1,1)将整个图像窗口分为2行1列，\n",
    "#第1个小图占用了第1个位置, 也就是整个第1行. 这一步中使用plt.subplot(2,3,4)将整个图像窗口分为2行3列, 于是整\n",
    "#个图像窗口的第1行就变成了3列, 也就是成了3个位置, 于是第2行的第1个位置是整个图像窗口的第4个位置.\n",
    "\n",
    "plt.subplot(235)\n",
    "plt.plot([0,1],[0,3])\n",
    "\n",
    "plt.subplot(236)\n",
    "plt.plot([0,1],[0,4])\n",
    "\n",
    "plt.show()"
   ]
  },
  {
   "cell_type": "code",
   "execution_count": null,
   "metadata": {},
   "outputs": [],
   "source": []
  },
  {
   "cell_type": "markdown",
   "metadata": {},
   "source": [
    "\n"
   ]
  },
  {
   "cell_type": "markdown",
   "metadata": {},
   "source": [
    "\n"
   ]
  },
  {
   "cell_type": "markdown",
   "metadata": {},
   "source": [
    " \n",
    " \n",
    " \n",
    " \n",
    " "
   ]
  },
  {
   "cell_type": "markdown",
   "metadata": {},
   "source": [
    "\n"
   ]
  },
  {
   "cell_type": "markdown",
   "metadata": {},
   "source": [
    "# python 入門到分析股市 系列\n",
    "參考網址:https://ithelp.ithome.com.tw/users/20111390/ironman/1791"
   ]
  },
  {
   "cell_type": "markdown",
   "metadata": {},
   "source": [
    "Os\n",
    "-\n",
    "os套件是Python中常用的文件和目錄的操作，在os中常用的函式\n",
    "名稱\t說明\n",
    "system()\t執行系統command\n",
    "mkdir(E)\t建立E目錄，如果E目錄已存在會發生錯誤\n",
    "rmdir(E)\t移除E目錄\n",
    "remove(E)\t移除E檔案，如果E是目錄就會出錯\n",
    "getcwd()\t取得目前所在路徑\n",
    "rename(src, dst)\t將 src 改名為 dst"
   ]
  },
  {
   "cell_type": "markdown",
   "metadata": {},
   "source": [
    "os.path有以下常用的函式\n",
    "名稱 | 說明\n",
    "------------- | -------------\n",
    "isfile(E) | E檔案是否存在\n",
    "isdir(E) | E目錄是否存在\n",
    "join(src, dst) | 拼接目錄，只有拼接，不會建立目錄\n",
    "exists | 判斷文件或目錄是否存在\n",
    "getsize | 取得文件大小\n",
    "abspath | 獲得檔案的絕對路徑"
   ]
  },
  {
   "cell_type": "code",
   "execution_count": 6,
   "metadata": {},
   "outputs": [
    {
     "name": "stdout",
     "output_type": "stream",
     "text": [
      "D:\\python\\crawler 此目錄已存在\n"
     ]
    }
   ],
   "source": [
    "import os\n",
    "path = \"D:\\python\\crawler\"\n",
    "if os.path.exists(path):\n",
    "    print(path,\"此目錄已存在\")\n",
    "else: \n",
    "    os.mkdir(path) #建立目錄"
   ]
  },
  {
   "cell_type": "code",
   "execution_count": 12,
   "metadata": {},
   "outputs": [
    {
     "name": "stdout",
     "output_type": "stream",
     "text": [
      "完整路徑名稱---> D:\\python\\crawler\\test.txt\n",
      "D:\\python\\crawler\\test.txt 是否存在---> True\n",
      "D:\\python\\crawler\\test.txt 檔案大小---> 0\n",
      "\n"
     ]
    }
   ],
   "source": [
    "import os\n",
    "file = \"D:\\\\python\\\\crawler\\\\test.txt\" #要用\\\\  要加副檔名\n",
    "print(\"完整路徑名稱--->\",os.path.abspath(file))\n",
    "print(file,\"是否存在--->\",os.path.exists(file))\n",
    "print(file,\"檔案大小--->\",os.path.getsize(file))"
   ]
  },
  {
   "cell_type": "code",
   "execution_count": 17,
   "metadata": {},
   "outputs": [
    {
     "name": "stdout",
     "output_type": "stream",
     "text": [
      "檔案---> D:\\python\\crawler\\test.txt\n",
      "目錄---> D:\\python\\crawler\\test\n",
      "\n",
      "\n"
     ]
    }
   ],
   "source": [
    "import os\n",
    "path = \"D:\\python\\crawler\"\n",
    "for root, dirs, files in os.walk(path):\n",
    "    for x in files:  #列出檔案\n",
    "        print(\"檔案--->\",os.path.join(root, x))\n",
    "    for name in dirs:   #列出資料夾(目錄)\n",
    "        print(\"目錄--->\",os.path.join(root, name))\n",
    "    print()"
   ]
  },
  {
   "cell_type": "markdown",
   "metadata": {},
   "source": [
    "open()\n",
    "-\n",
    "檔案的輸出和輸入\n",
    "語法：open(filename, mode)\n",
    "mode傳入的是字串，第一個字母代表操作，第二個字母代表類型操作的部分\n",
    "r\t讀取\n",
    "w\t寫入。檔案不存在則新增，檔案如果已經存在會被覆蓋\n",
    "X\t寫入。只有當檔案不存在時才可寫入\n",
    "a\t在檔案結尾處寫入\n",
    "\n",
    "類型\n",
    "文字\t說明\n",
    "t\t文字\n",
    "b\t二進位"
   ]
  },
  {
   "cell_type": "code",
   "execution_count": 26,
   "metadata": {},
   "outputs": [
    {
     "name": "stdout",
     "output_type": "stream",
     "text": [
      "Python first   \n",
      "測試中文\n",
      "第三行\n"
     ]
    }
   ],
   "source": [
    "content = '''Python first   \n",
    "測試中文\n",
    "第三行\n",
    "'''\n",
    "# wt寫入模式\n",
    "f = open('D:\\\\python\\\\crawler\\\\test.txt','wt') #寫入模式，檔案如果已經存在會被覆蓋\n",
    "f.write(content)\n",
    "f.close()\n",
    "\n",
    "# r讀取模式\n",
    "f2 = open('D:\\\\python\\\\crawler\\\\test.txt','r')\n",
    "for line in f2:\n",
    "    print(line, end = \"\")\n",
    "f2.close()"
   ]
  },
  {
   "cell_type": "markdown",
   "metadata": {},
   "source": [
    "CSV\n",
    "-\n",
    "純文字的方式儲存檔案資料，已逗號分隔資料"
   ]
  },
  {
   "cell_type": "code",
   "execution_count": 32,
   "metadata": {},
   "outputs": [
    {
     "name": "stdout",
     "output_type": "stream",
     "text": [
      "['股票', '收盤價', '單量']\n",
      "['台積電', '238', '23']\n",
      "['大同', '40', '121']\n",
      "['華新科', '174', '105']\n"
     ]
    }
   ],
   "source": [
    "import csv\n",
    "#newline='' 參數，這是為了讓資料中包含的換行字元可以正確被解析，所以建議在讀取 csv 檔案時都固定加入這個參數。\n",
    "with open('D:\\\\python\\\\crawler\\\\test_csv.csv', 'w', newline='') as csvfile: #沒有檔案則會建立一個\n",
    "    writer = csv.writer(csvfile) #建立CSV檔寫入器\n",
    "    writer.writerow(['股票', '收盤價', '單量'])\n",
    "    writer.writerow(['台積電', 238, 23])\n",
    "    writer.writerow(['大同', 40, 121])\n",
    "    writer.writerow(['華新科', 174, 105])\n",
    "#----列印出寫入內容----\n",
    "with open('D:\\\\python\\\\crawler\\\\test_csv.csv', 'r', newline='') as csvfile:\n",
    "    reader = csv.reader(csvfile)\n",
    "    for x in reader:\n",
    "        print(x)"
   ]
  },
  {
   "cell_type": "markdown",
   "metadata": {},
   "source": [
    "XML\n",
    "-\n",
    "可延伸標記式語言（英語：Extensible Markup Language，簡稱：XML）是一種標記式語言。標記指電腦所能理解的資訊符號，通過此種標記，電腦之間可以處理包含各種資訊的文章等。\n",
    "<stock>\n",
    "  <tsmc>\n",
    "   <close name=\"收盤價\">238</close>\n",
    "   <buy name=\"單量\">23</buy>\n",
    "  </tsmc>\n",
    "</stock>\n",
    "\n",
    "參考網站: https://hackmd.io/@FNiPEDOTRa-Lt4dEdBSMfw/rJYlKYpml?type=view"
   ]
  },
  {
   "cell_type": "code",
   "execution_count": 47,
   "metadata": {},
   "outputs": [
    {
     "name": "stdout",
     "output_type": "stream",
     "text": [
      "收盤價 -----> {'name': '收盤價'}\n",
      "單量 -----> {'name': '單量'}\n",
      "close {'name': '收盤價'}\n",
      "buy {'name': '單量'}\n",
      "238\n",
      "23\n"
     ]
    }
   ],
   "source": [
    "#建立 XML\n",
    "import xml.etree.ElementTree as ET\n",
    "data = ET.Element('stock') #建立節點stock\n",
    "tsmc = ET.SubElement(data, 'tsmc')  # 在stock節點底下建立子節點\n",
    "close = ET.SubElement(tsmc, 'close')\n",
    "buy = ET.SubElement(tsmc, 'buy')\n",
    "close.set('name', '收盤價')  # 設定節點的名稱\n",
    "buy.set('name', '單量')\n",
    "close.text = '238'\n",
    "buy.text = '23'\n",
    "#寫入 XML\n",
    "mydata = ET.tostring(data)\n",
    "myfile = open('data_xml.xml', 'wb')\n",
    "myfile.write(mydata)  \n",
    "myfile.close()\n",
    "#讀取 XML 的方法\n",
    "tree = ET.parse('data_xml.xml')  \n",
    "root = tree.getroot()\n",
    "\n",
    "for elem in root:  \n",
    "    for subelem in elem:\n",
    "        print(subelem.get('name'),\"----->\",subelem.attrib)\n",
    "\n",
    "for child in root:\n",
    "    for x in child:\n",
    "        print(x.tag, x.attrib)\n",
    "\n",
    "print(root[0][0].text) #238\n",
    "print(root[0][1].text) #23"
   ]
  },
  {
   "cell_type": "markdown",
   "metadata": {},
   "source": [
    "# JSON\n",
    "-\n",
    "JSON（JavaScript Object Notation，JavaScript物件表示法）\n",
    "輕量級的資料交換語言，該語言以易於讓人閱讀的文字為基礎，用來傳輸由屬性值或者序列性的值組成的資料物件。\n",
    "{\n",
    "  \"stock\": [\n",
    "    {\n",
    "      \"name\": \"台積電\",\n",
    "      \"close\": \"238\",\n",
    "      \"buy\": \"23\"\n",
    "    },\n",
    "    {\n",
    "      \"name\": \"大同\",\n",
    "      \"close\": \"40\",\n",
    "      \"buy\": \"121\"\n",
    "    },\n",
    "    {\n",
    "      \"name\": \"華新科\",\n",
    "      \"close\": \"174\",\n",
    "      \"buy\": \"105\"\n",
    "    }\n",
    "  ]\n",
    "}\n",
    "\n",
    "json.dumps() json.dump  json.loads()  json.load()差異\n",
    "https://codertw.com/%E7%A8%8B%E5%BC%8F%E8%AA%9E%E8%A8%80/356804/"
   ]
  },
  {
   "cell_type": "code",
   "execution_count": 5,
   "metadata": {},
   "outputs": [
    {
     "name": "stdout",
     "output_type": "stream",
     "text": [
      "股票台積電\n",
      "收盤價238\n",
      "單量23\n",
      "\n",
      "股票大同\n",
      "收盤價40\n",
      "單量121\n",
      "\n",
      "股票華新科\n",
      "收盤價174\n",
      "單量105\n",
      "\n",
      "[{'name': '台積電', 'close': '238', 'buy': '23'}, {'name': '大同', 'close': '40', 'buy': '121'}, {'name': '華新科', 'close': '174', 'buy': '105'}]\n"
     ]
    }
   ],
   "source": [
    "#建立 json\n",
    "import json\n",
    "data = {}\n",
    "data['stock'] = []\n",
    "data['stock'].append({  \n",
    "    'name': '台積電',\n",
    "    'close': '238',\n",
    "    'buy': '23'\n",
    "})\n",
    "data['stock'].append({  \n",
    "    'name': '大同',\n",
    "    'close': '40',\n",
    "    'buy': '121'\n",
    "})\n",
    "data['stock'].append({  \n",
    "    'name': '華新科',\n",
    "    'close': '174',\n",
    "    'buy': '105'\n",
    "})\n",
    "\n",
    "#寫入 json\n",
    "with open('D:\\\\python\\\\crawler\\\\test_json.json', 'w') as outfile:  \n",
    "    json.dump(data, outfile,ensure_ascii=False,indent=2)\n",
    "    \n",
    "#讀取 json\n",
    "with open('D:\\\\python\\\\crawler\\\\test_json.json','r') as json_file:\n",
    "    data=json.load(json_file)\n",
    "    for x in data['stock']:\n",
    "        print('股票' + x['name'])\n",
    "        print('收盤價' + x['close'])\n",
    "        print('單量' + x['buy'])\n",
    "        print('')\n",
    "print(data['stock'])"
   ]
  },
  {
   "cell_type": "markdown",
   "metadata": {},
   "source": [
    "YAML\n",
    "-\n",
    "是一個可讀性高，用來表達資料序列化的格式。YAML參考了其他多種語言，包括：C語言、Python、Perl，並從XML、電子郵件的資料格式（RFC 2822）中獲得靈感。\n",
    "\n",
    "stock:\n",
    "  buy: '121'\n",
    "  close: '238'\n",
    "  name: '台積電'"
   ]
  },
  {
   "cell_type": "code",
   "execution_count": 16,
   "metadata": {},
   "outputs": [
    {
     "name": "stdout",
     "output_type": "stream",
     "text": [
      "取得股票---> {'but': '121', 'close': '238', 'name': '台積電'}\n"
     ]
    }
   ],
   "source": [
    "#建立 YAML\n",
    "import yaml\n",
    "cfg = {\n",
    "    \"stock\": dict(\n",
    "    name = '台積電',\n",
    "    close = '238',\n",
    "    but = '121'\n",
    "    )\n",
    "}\n",
    "\n",
    "#寫入 YAML\n",
    "with open('D:\\\\python\\\\crawler\\\\test_yaml.yaml','w') as outfile:\n",
    "    yaml.dump(cfg, outfile, default_flow_style=False, allow_unicode=True)\n",
    "    \n",
    "#讀取 YAML\n",
    "with open(\"D:\\\\python\\\\crawler\\\\test_yaml.yaml\", 'r') as yml:\n",
    "    contents = yaml.safe_load(yml)\n",
    "    print(\"取得股票--->\",contents['stock'])"
   ]
  },
  {
   "cell_type": "markdown",
   "metadata": {},
   "source": [
    "# 數據統計\n",
    "- Numpy\n",
    "Numberical Python的簡稱，提供一個高效的介面，用來在大量資料緩衝區中進行儲存和操作。某些時候Numpy的陣列就像是Python內建的list型態，但Numpy提供更有效率的儲存和操作。Numpy陣列幾乎是Python整個資料科學生態的核心。\n",
    "\n",
    "- Pandas\n",
    "提供高效率，資料更容易使用的架構，且讓資料更容易分析的開源程式碼。想像Pandas是Numpy陣列的加強版。\n",
    "\n",
    "- SciPy\n",
    "科學計算的另一個核心庫是 SciPy。它基於 NumPy，其功能也因此得到了擴展。SciPy 主數據結構又是一個多維數組，由 Numpy 實現。這個軟件包包含了幫助解決線性代數、概率論、積分計算和許多其他任務的工具。此外，SciPy 還封裝了許多新的 BLAS 和 LAPACK 函數。\n",
    "\n",
    "- StatsModels\n",
    "Statsmodels 是一個 Python 模塊，它為統計數據分析提供了許多機會，例如統計模型估計、執行統計測試等。在它的幫助下，你可以實現許多機器學習方法並探索不同的繪圖可能性。\n",
    "\n",
    "# 視覺化\n",
    "- Matplotlib\n",
    "Matplotlib 是一個用於創建二維圖和圖形的底層庫。藉由它的幫助，你可以構建各種不同的圖標，從直方圖和散點圖到費笛卡爾座標圖。此外，有許多流行的繪圖庫被設計為與matplotlib結合使用。\n",
    "\n",
    "- Seaborn\n",
    "Seaborn 本質上是一個基於 matplotlib 庫的高級 API。它包含更適合處理圖表的默認設置。此外，還有豐富的可視化庫，包括一些複雜類型，如時間串行、聯合分佈圖（jointplots）和小提琴圖（violin diagrams）。"
   ]
  },
  {
   "cell_type": "markdown",
   "metadata": {},
   "source": [
    "Numpy\n",
    "-\n",
    "建立ndarray\n",
    "numpy有很多內建函式可以建立ndarray，現在將相同性質的函式放在一起介紹建立值全部都一樣的陣列。\n",
    "\n",
    "# 建立值全部都一樣的陣列\n",
    "\n",
    "zeros()：產生全部為零的陣列\n",
    "ones()：全部為1的陣列\n",
    "empty()：無初始值的陣列\n",
    "語法：zeros(shape, dtype='dtype',*args)，zeros()可改成ones()或empty()"
   ]
  },
  {
   "cell_type": "code",
   "execution_count": 3,
   "metadata": {},
   "outputs": [
    {
     "name": "stdout",
     "output_type": "stream",
     "text": [
      "numpy_zeros : [0 0 0 0 0 0 0 0 0 0]\n",
      "numpy_ones : [[1. 1. 1. 1. 1.]\n",
      " [1. 1. 1. 1. 1.]\n",
      " [1. 1. 1. 1. 1.]]\n",
      "numpy_empty : [[0. 0.]\n",
      " [0. 0.]\n",
      " [0. 0.]]\n",
      "numpy_full : [[2.2 2.2]\n",
      " [2.2 2.2]\n",
      " [2.2 2.2]\n",
      " [2.2 2.2]]\n"
     ]
    }
   ],
   "source": [
    "import numpy as np\n",
    "numpy_zeros = np.zeros(10, dtype=int) #建立一個內容為0，長度為10的整數陣列\n",
    "numpy_ones = np.ones((3,5), dtype=float) #建立一個內容為1 3x5的浮點數陣列\n",
    "numpy_empty = np.empty((3,2))  #建立一個內容為1 3x2的無初始職陣列\n",
    "numpy_full = np.full((4,2), 2.2) #建立一個內容為2.2 4x2的浮點數陣列\n",
    "print(\"numpy_zeros :\", numpy_zeros)\n",
    "print(\"numpy_ones :\", numpy_ones)\n",
    "print(\"numpy_empty :\", numpy_empty)\n",
    "print(\"numpy_full :\", numpy_full)"
   ]
  },
  {
   "cell_type": "markdown",
   "metadata": {},
   "source": [
    "# 建立等差數列\n",
    "arange(start, stop, step, dtype=None)：step為等差值\n",
    "linspace(start, stop, num, endpoint=True)：num代表陣列的大小"
   ]
  },
  {
   "cell_type": "code",
   "execution_count": 8,
   "metadata": {},
   "outputs": [
    {
     "name": "stdout",
     "output_type": "stream",
     "text": [
      "numpy_arange :  [ 0  2  4  6  8 10 12 14 16 18]\n",
      "numpy_linspace :  [0.   0.25 0.5  0.75 1.  ]\n"
     ]
    }
   ],
   "source": [
    "import numpy as np\n",
    "numpy_arange = np.arange(0,20,2)    #建立一個依序填滿的陣列 0~20間格為2\n",
    "numpy_linspace = np.linspace(0,1,5) #建立一個5個值的陣列，在0到1間平均分布\n",
    "print(\"numpy_arange : \", numpy_arange)\n",
    "print(\"numpy_linspace : \", numpy_linspace)"
   ]
  },
  {
   "cell_type": "markdown",
   "metadata": {},
   "source": [
    "# 建立隨機數列 np.random\n",
    "* 建立0~1的浮點數\n",
    "random.random(size)\n",
    "random.ranf(size)\n",
    "random.sample(size)"
   ]
  },
  {
   "cell_type": "code",
   "execution_count": 13,
   "metadata": {},
   "outputs": [
    {
     "name": "stdout",
     "output_type": "stream",
     "text": [
      "ironman_random---->\n",
      " [[0.07328027 0.61536492 0.29593639]\n",
      " [0.84198502 0.56163696 0.42052628]\n",
      " [0.66454114 0.30536582 0.91329337]]\n",
      "ironman_ranf---->\n",
      " [0.1207977  0.43427394 0.5270635  0.74162884 0.83526283]\n",
      "ironman_sample---->\n",
      " [[0.4862598  0.29648776 0.44932615]\n",
      " [0.91624241 0.61371747 0.78608253]]\n"
     ]
    }
   ],
   "source": [
    "import numpy as np\n",
    "ironman_random = np.random.random((3,3))  #建立一個 3*3 陣列，在0到1間亂數值\n",
    "ironman_ranf = np.random.ranf((5))        #建立一個 5   陣列，在0到1間亂數值\n",
    "ironman_sample = np.random.sample((2,3))  #建立一個 2*3 陣列，在0到1間亂數值\n",
    "\n",
    "print('ironman_random---->\\n',ironman_random)\n",
    "print('ironman_ranf---->\\n', ironman_ranf)\n",
    "print('ironman_sample---->\\n', ironman_sample)"
   ]
  },
  {
   "cell_type": "markdown",
   "metadata": {},
   "source": [
    "# 建立常態分布又稱為高斯分布\n",
    "random.normal(loc='loc', scale='scale', size=None)：loc為平均值、scale為標準差"
   ]
  },
  {
   "cell_type": "code",
   "execution_count": 9,
   "metadata": {},
   "outputs": [
    {
     "name": "stdout",
     "output_type": "stream",
     "text": [
      "ironman_normal---->\n",
      " [[ 0.43207448  0.29417708  0.33923426]\n",
      " [-0.81467528  1.46648381  0.59443173]\n",
      " [-0.84558764 -0.31390438 -0.35762769]]\n"
     ]
    }
   ],
   "source": [
    "import numpy as np\n",
    "ironman_normal = np.random.normal(0,1,(3,3)) #建立一個3*3陣列，內容為常態分佈的亂數值 平均0，標準差1\n",
    "\n",
    "print('ironman_normal---->\\n', ironman_normal)"
   ]
  },
  {
   "cell_type": "markdown",
   "metadata": {},
   "source": [
    "# 建立隨機整數陣列\n",
    "random.randint(low, high, size)"
   ]
  },
  {
   "cell_type": "code",
   "execution_count": 16,
   "metadata": {},
   "outputs": [
    {
     "name": "stdout",
     "output_type": "stream",
     "text": [
      "ironman_randint---->\n",
      " [[7 9 6]\n",
      " [3 1 1]\n",
      " [7 7 6]]\n"
     ]
    }
   ],
   "source": [
    "ironman_randint = np.random.randint(0,10,(3,3)) #建立一個3*3陣列，內容介於0到10的整數\n",
    "\n",
    "print('ironman_randint---->\\n', ironman_randint)"
   ]
  },
  {
   "cell_type": "markdown",
   "metadata": {},
   "source": [
    "# Numpy 陣列屬性\n",
    "剛剛示範了如何建立陣列，現在來看關於陣列，有什麼基本屬性可以使用。\n",
    "\n",
    "陣列屬性\n",
    "ndim()：取得陣列的維度數量\n",
    "shape()：陣列的形狀\n",
    "size()：陣列的數量\n",
    "dtype()：資料型態\n",
    "itemsize()：陣列中元素的大小(位元組為單位)\n",
    "nbytes()：陣列的大小(位元組為單位) 一般來說 nbytes = itemsize * size"
   ]
  },
  {
   "cell_type": "code",
   "execution_count": 19,
   "metadata": {},
   "outputs": [
    {
     "name": "stdout",
     "output_type": "stream",
     "text": [
      "ironman_x1 ndim:      1\n",
      "ironman_x2 ndim:      2\n",
      "ironman_x3 ndim:      3\n"
     ]
    }
   ],
   "source": [
    "# ndim()\n",
    "import numpy as np\n",
    "ironman_x1 = np.random.randint(10, size=6)         #一維陣列\n",
    "ironman_x2 = np.random.randint(10, size=(3,4))     #二維陣列\n",
    "ironman_x3 = np.random.randint(10, size=(2,3,2))   #三維陣列\n",
    "\n",
    "print(\"ironman_x1 ndim:     \", ironman_x1.ndim)\n",
    "print(\"ironman_x2 ndim:     \", ironman_x2.ndim)\n",
    "print(\"ironman_x3 ndim:     \", ironman_x3.ndim)"
   ]
  },
  {
   "cell_type": "code",
   "execution_count": 23,
   "metadata": {},
   "outputs": [
    {
     "name": "stdout",
     "output_type": "stream",
     "text": [
      "ironman_x1----> [9 8 4 1 5 7]\n",
      "ironman_x2---->\n",
      " [[4 0 4 3]\n",
      " [9 6 3 0]\n",
      " [8 6 0 2]]\n",
      "ironman_x3---->\n",
      " [[[6 0 7 7]\n",
      "  [1 3 5 7]\n",
      "  [9 3 0 2]]\n",
      "\n",
      " [[1 4 7 3]\n",
      "  [7 8 7 6]\n",
      "  [2 5 7 0]]]\n"
     ]
    }
   ],
   "source": [
    "# size()\n",
    "#先建立三個陣列各別是一維陣列、二維陣列、三維陣列，再用此三個陣列來顯示屬性。\n",
    "import numpy as np\n",
    "ironman_x1 = np.random.randint(10, size=6)         #一維陣列\n",
    "ironman_x2 = np.random.randint(10, size=(3,4))     #二維陣列\n",
    "ironman_x3 = np.random.randint(10, size=(2,3,4))   #三維陣列\n",
    "\n",
    "print(\"ironman_x1---->\", ironman_x1)\n",
    "print(\"ironman_x2---->\\n\", ironman_x2)\n",
    "print(\"ironman_x3---->\\n\", ironman_x3)"
   ]
  },
  {
   "cell_type": "code",
   "execution_count": 20,
   "metadata": {},
   "outputs": [
    {
     "name": "stdout",
     "output_type": "stream",
     "text": [
      "ironman_x1 shape:      (6,)\n",
      "ironman_x2 shape:      (3, 4)\n",
      "ironman_x3 shape:      (2, 3, 2)\n"
     ]
    }
   ],
   "source": [
    "# shape()\n",
    "import numpy as np\n",
    "print(\"ironman_x1 shape:     \", ironman_x1.shape)\n",
    "print(\"ironman_x2 shape:     \", ironman_x2.shape)\n",
    "print(\"ironman_x3 shape:     \", ironman_x3.shape)"
   ]
  },
  {
   "cell_type": "code",
   "execution_count": 24,
   "metadata": {},
   "outputs": [
    {
     "name": "stdout",
     "output_type": "stream",
     "text": [
      "ironman_x1 size:      6\n",
      "ironman_x2 size:      12\n",
      "ironman_x3 size:      24\n"
     ]
    }
   ],
   "source": [
    "# size()\n",
    "import numpy as np\n",
    "print(\"ironman_x1 size:     \", ironman_x1.size)  # 6 x 1 = 6\n",
    "print(\"ironman_x2 size:     \", ironman_x2.size)  # 3 x 4 = 12\n",
    "print(\"ironman_x3 size:     \", ironman_x3.size)  # 2 x 3 x 4 = 24"
   ]
  },
  {
   "cell_type": "code",
   "execution_count": 25,
   "metadata": {},
   "outputs": [
    {
     "name": "stdout",
     "output_type": "stream",
     "text": [
      "ironman_x1 dtype:      int32\n",
      "ironman_x2 dtype:      int32\n",
      "ironman_x3 dtype:      int32\n"
     ]
    }
   ],
   "source": [
    "# dtype()\n",
    "import numpy as np\n",
    "print(\"ironman_x1 dtype:     \", ironman_x1.dtype)\n",
    "print(\"ironman_x2 dtype:     \", ironman_x2.dtype)\n",
    "print(\"ironman_x3 dtype:     \", ironman_x3.dtype)"
   ]
  },
  {
   "cell_type": "code",
   "execution_count": 26,
   "metadata": {},
   "outputs": [
    {
     "name": "stdout",
     "output_type": "stream",
     "text": [
      "ironman_x1 itemsize:      4\n",
      "ironman_x2 itemsize:      4\n",
      "ironman_x3 itemsize:      4\n"
     ]
    }
   ],
   "source": [
    "# itemsize()  陣列中元素的大小(位元組為單位)\n",
    "import numpy as np\n",
    "print(\"ironman_x1 itemsize:     \", ironman_x1.itemsize)\n",
    "print(\"ironman_x2 itemsize:     \", ironman_x2.itemsize)\n",
    "print(\"ironman_x3 itemsize:     \", ironman_x3.itemsize)"
   ]
  },
  {
   "cell_type": "code",
   "execution_count": 28,
   "metadata": {},
   "outputs": [
    {
     "name": "stdout",
     "output_type": "stream",
     "text": [
      "ironman_x1 nbytes:      24\n",
      "ironman_x2 nbytes:      48\n",
      "ironman_x3 nbytes:      96\n"
     ]
    }
   ],
   "source": [
    "# nbytes()  陣列的大小(位元組為單位) 一般來說 nbytes = itemsize * size\n",
    "import numpy as np\n",
    "print(\"ironman_x1 nbytes:     \", ironman_x1.nbytes)\n",
    "print(\"ironman_x2 nbytes:     \", ironman_x2.nbytes)\n",
    "print(\"ironman_x3 nbytes:     \", ironman_x3.nbytes)"
   ]
  },
  {
   "cell_type": "markdown",
   "metadata": {},
   "source": [
    "# 陣列索引\n",
    "使用陣列的索引來取值和修改值"
   ]
  },
  {
   "cell_type": "code",
   "execution_count": 34,
   "metadata": {},
   "outputs": [
    {
     "name": "stdout",
     "output_type": "stream",
     "text": [
      "ironman_x1---->\n",
      " [6 5 6 4 1 3]\n",
      "ironman_x2---->\n",
      " [[2 6 7 4]\n",
      " [2 4 3 3]\n",
      " [3 6 3 6]]\n",
      "ironman_x3---->\n",
      " [[[4 8]\n",
      "  [1 5]\n",
      "  [3 3]]\n",
      "\n",
      " [[0 1]\n",
      "  [3 6]\n",
      "  [6 6]]]\n",
      "ironman_x1[2]---------> 6\n",
      "ironman_x2[2,2]-------> 3\n",
      "ironman_x3[1,1,1]-----> 6\n",
      "ironman_x1[2]---------> 7\n",
      "ironman_x2[2,2]-------> 4\n",
      "ironman_x3[1,1,1]-----> 3\n"
     ]
    }
   ],
   "source": [
    "import numpy as np\n",
    "ironman_x1 = np.random.randint(10, size=6)         #一維陣列\n",
    "ironman_x2 = np.random.randint(10, size=(3,4))     #二維陣列\n",
    "ironman_x3 = np.random.randint(10, size=(2,3,2))   #三維陣列\n",
    "print(\"ironman_x1---->\\n\", ironman_x1)\n",
    "print(\"ironman_x2---->\\n\", ironman_x2)\n",
    "print(\"ironman_x3---->\\n\", ironman_x3)\n",
    "\n",
    "# 取得陣列值\n",
    "print(\"ironman_x1[2]--------->\", ironman_x1[2])\n",
    "print(\"ironman_x2[2,2]------->\", ironman_x2[2,2])\n",
    "print(\"ironman_x3[1,1,1]----->\", ironman_x3[1,1,1])\n",
    "# 修改陣列值\n",
    "ironman_x1[2] = 7\n",
    "ironman_x2[2,2] = 4\n",
    "ironman_x3[1,1,1] = 3\n",
    "print(\"ironman_x1[2]--------->\", ironman_x1[2])\n",
    "print(\"ironman_x2[2,2]------->\", ironman_x2[2,2])\n",
    "print(\"ironman_x3[1,1,1]----->\", ironman_x3[1,1,1])"
   ]
  },
  {
   "cell_type": "markdown",
   "metadata": {},
   "source": [
    "# 陣列切片\n",
    "可以使用切片的方式來取得元素和修改元素"
   ]
  },
  {
   "cell_type": "code",
   "execution_count": 2,
   "metadata": {},
   "outputs": [
    {
     "name": "stdout",
     "output_type": "stream",
     "text": [
      "ironman_x4-----------> [0 1 2 3 4 5 6 7 8 9]\n",
      "ironman_x4[:5]-------> [0 1 2 3 4]\n",
      "ironman_x4[5:]-------> [5 6 7 8 9]\n",
      "ironman_x4[4:7]------> [4 5 6]\n",
      "ironman_x4[::2]------> [0 2 4 6 8]\n",
      "ironman_x4[1::2]-----> [1 3 5 7 9]\n",
      "ironman_x4[::-1]-----> [9 8 7 6 5 4 3 2 1 0]\n"
     ]
    }
   ],
   "source": [
    "# 一維陣列\n",
    "import numpy as np\n",
    "ironman_x4 = np.arange(10)\n",
    "print('ironman_x4----------->', ironman_x4)\n",
    "print('ironman_x4[:5]------->',ironman_x4[:5])      # 前面5個元素\n",
    "print('ironman_x4[5:]------->',ironman_x4[5:])      # index5 之後的元素\n",
    "print('ironman_x4[4:7]------>',ironman_x4[4:7])     # index 4~(7-1) 的元素\n",
    "print('ironman_x4[::2]------>',ironman_x4[::2])     # 間隔2的所有元素\n",
    "print('ironman_x4[1::2]----->',ironman_x4[1::2])    # index1開始 間隔2的所有元素\n",
    "print('ironman_x4[::-1]----->',ironman_x4[::-1])    # 反轉元素"
   ]
  },
  {
   "cell_type": "code",
   "execution_count": 3,
   "metadata": {},
   "outputs": [
    {
     "name": "stdout",
     "output_type": "stream",
     "text": [
      "ironman_x5-------------->\n",
      " [[1 6 2 6]\n",
      " [2 4 0 2]\n",
      " [0 0 4 4]]\n",
      "ironman_x5[:2, :3]------>\n",
      " [[1 6 2]\n",
      " [2 4 0]]\n",
      "ironman_x5[:3, ::2]----->\n",
      " [[1 2]\n",
      " [2 0]\n",
      " [0 4]]\n",
      "ironman_x5[:,0]--------->\n",
      " [1 2 0]\n",
      "ironman_x5[2,:]--------->\n",
      " [0 0 4 4]\n"
     ]
    }
   ],
   "source": [
    "# 二維陣列\n",
    "import numpy as np\n",
    "ironman_x5 = np.random.randint(10, size=(3,4))     #二維陣列\n",
    "print('ironman_x5-------------->\\n',ironman_x5)\n",
    "print('ironman_x5[:2, :3]------>\\n',ironman_x5[:2, :3])    # 取得  2列     3欄\n",
    "print('ironman_x5[:3, ::2]----->\\n',ironman_x5[:3, ::2])   # 取得  3列     偶數欄\n",
    "print('ironman_x5[:,0]--------->\\n',ironman_x5[:,0])       #取得 所有列     第(0+1)欄\n",
    "print('ironman_x5[2,:]--------->\\n',ironman_x5[2,:])       #取得 第(2+1)列   所有欄"
   ]
  },
  {
   "cell_type": "markdown",
   "metadata": {},
   "source": [
    "# 重塑(reshape)"
   ]
  },
  {
   "cell_type": "code",
   "execution_count": 5,
   "metadata": {},
   "outputs": [
    {
     "name": "stdout",
     "output_type": "stream",
     "text": [
      "x: [1 2 3]\n",
      "x_reshape----->\n",
      " [[1]\n",
      " [2]\n",
      " [3]]\n"
     ]
    }
   ],
   "source": [
    "#示範建立一個一維陣列變成3*1\n",
    "x = np.array([1,2,3])\n",
    "print('x:', x)\n",
    "x_reshape = x.reshape((3,1)) # 透過reshape改變row column\n",
    "print('x_reshape----->\\n', x_reshape)"
   ]
  },
  {
   "cell_type": "markdown",
   "metadata": {},
   "source": [
    "# 串接(concatenate,vstack,hstack)\n",
    "concatenate()：串接\n",
    "vstack()：垂直串接\n",
    "hstack()：水平串接"
   ]
  },
  {
   "cell_type": "code",
   "execution_count": 10,
   "metadata": {},
   "outputs": [
    {
     "name": "stdout",
     "output_type": "stream",
     "text": [
      "concatenate----->\n",
      " [1 2 3 4 5 6]\n",
      "(6,)\n",
      "vstack----->\n",
      " [[1 2 3]\n",
      " [4 5 6]]\n",
      "(2, 3)\n",
      "hstack----->\n",
      " [1 2 3 4 5 6]\n",
      "(6,)\n"
     ]
    }
   ],
   "source": [
    "import numpy as np\n",
    "x = np.array([1,2,3])\n",
    "y = np.array([4,5,6])\n",
    "print('concatenate----->\\n',np.concatenate([x,y]))    # 串接陣列\n",
    "print(np.concatenate([x,y]).shape) # 用shape查看維度\n",
    "print('vstack----->\\n',np.vstack([x,y]))              # 垂直串接\n",
    "print(np.vstack([x,y]).shape)\n",
    "print('hstack----->\\n',np.hstack([x,y]))              # 水平串接\n",
    "print(np.hstack([x,y]).shape)"
   ]
  },
  {
   "cell_type": "markdown",
   "metadata": {},
   "source": [
    "# 分割(split,hsplit,vsplit)\n",
    "split()：分割\n",
    "vsplit()：垂直分割\n",
    "hsplit：水平分割"
   ]
  },
  {
   "cell_type": "code",
   "execution_count": 16,
   "metadata": {},
   "outputs": [
    {
     "name": "stdout",
     "output_type": "stream",
     "text": [
      "z----> [1 2 3 4 5 6 7 8 9]\n",
      "z1----> [1 2 3]\n",
      "z2----> [4 5]\n",
      "z3----> [6 7 8 9]\n"
     ]
    }
   ],
   "source": [
    "# split()：分割\n",
    "z = np.array([1,2,3,4,5,6,7,8,9])\n",
    "print(\"z---->\", z)\n",
    "z1,z2,z3 = np.split(z,[3,5])\n",
    "# 分割3個陣列 [index 0~(3-1) ] [ index 3~(5-1)] [index (5~end)]\n",
    "print(\"z1---->\", z1)\n",
    "print(\"z2---->\", z2)\n",
    "print(\"z3---->\", z3)"
   ]
  },
  {
   "cell_type": "code",
   "execution_count": 17,
   "metadata": {},
   "outputs": [
    {
     "name": "stdout",
     "output_type": "stream",
     "text": [
      "z---->\n",
      " [[1 2 3]\n",
      " [4 5 6]\n",
      " [7 8 9]]\n",
      "vsplit----->\n",
      " [array([[1, 2, 3],\n",
      "       [4, 5, 6]]), array([[7, 8, 9]])]\n"
     ]
    }
   ],
   "source": [
    "# vsplit()：垂直分割\n",
    "z = np.array([[1,2,3],[4,5,6],[7,8,9]])\n",
    "print(\"z---->\\n\", z)\n",
    "print('vsplit----->\\n',np.vsplit(z,[2]))    # 垂直分割"
   ]
  },
  {
   "cell_type": "code",
   "execution_count": 20,
   "metadata": {},
   "outputs": [
    {
     "name": "stdout",
     "output_type": "stream",
     "text": [
      "z---->\n",
      " [[1 2 3]\n",
      " [4 5 6]\n",
      " [7 8 9]]\n",
      "hsplit----->\n",
      " [array([[1, 2],\n",
      "       [4, 5],\n",
      "       [7, 8]]), array([[3],\n",
      "       [6],\n",
      "       [9]])]\n"
     ]
    }
   ],
   "source": [
    "# hsplit：水平分割\n",
    "z = np.array([[1,2,3],[4,5,6],[7,8,9]])\n",
    "print(\"z---->\\n\", z)\n",
    "print('hsplit----->\\n',np.hsplit(z,[2]))    # 水平分割"
   ]
  },
  {
   "cell_type": "markdown",
   "metadata": {},
   "source": [
    "Ufuncs\n",
    "-\n",
    "Numpy陣列中的計算，許多Ufuncs都是在C程式實作，計算速度比較快，接下來介紹一些比較常用的Ufuncs"
   ]
  },
  {
   "cell_type": "markdown",
   "metadata": {},
   "source": [
    "# [Day08]Learning Numpy - Ufuncs、broadcasting、運算子"
   ]
  },
  {
   "cell_type": "code",
   "execution_count": 23,
   "metadata": {},
   "outputs": [
    {
     "data": {
      "text/plain": [
       "array([2, 1, 0, 1, 3])"
      ]
     },
     "execution_count": 23,
     "metadata": {},
     "output_type": "execute_result"
    }
   ],
   "source": [
    "# 絕對值：abs()\n",
    "x = np.array([-2,-1,0,1,-3])\n",
    "abs(x)"
   ]
  },
  {
   "cell_type": "code",
   "execution_count": 26,
   "metadata": {},
   "outputs": [
    {
     "name": "stdout",
     "output_type": "stream",
     "text": [
      "theta----> [0.         1.57079633 3.14159265]\n",
      "sin()----> [0.0000000e+00 1.0000000e+00 1.2246468e-16]\n",
      "cos()----> [ 1.000000e+00  6.123234e-17 -1.000000e+00]\n",
      "tan()----> [ 0.00000000e+00  1.63312394e+16 -1.22464680e-16]\n"
     ]
    }
   ],
   "source": [
    "# 三角函數：abs()、cos()、tan()\n",
    "theta = np.linspace(0, np.pi, 3)  #建立一個角度的陣列  #建立一個3個值的陣列，在0到3.14間平均分布\n",
    "print('theta---->', theta)\n",
    "print(\"sin()---->\", np.sin(theta))\n",
    "print(\"cos()---->\", np.cos(theta))\n",
    "print(\"tan()---->\", np.tan(theta))"
   ]
  },
  {
   "cell_type": "code",
   "execution_count": 30,
   "metadata": {},
   "outputs": [
    {
     "name": "stdout",
     "output_type": "stream",
     "text": [
      "exp()------> [2.71828183e+00 7.38905610e+00 8.10308393e+03 2.20264658e+04\n",
      " 8.88611052e+06]\n",
      "exp2()-----> [2.0000e+00 4.0000e+00 5.1200e+02 1.0240e+03 6.5536e+04]\n",
      "power()----> [       3        9    19683    59049 43046721]\n",
      "log()------> [0.         0.69314718 2.19722458 2.30258509 2.77258872]\n",
      "log2()-----> [0.         1.         3.169925   3.32192809 4.        ]\n",
      "log10()----> [0.         0.30103    0.95424251 1.         1.20411998]\n"
     ]
    }
   ],
   "source": [
    "# 指數和對數：exp()、exp2()、power()、log()、log2()、log10()\n",
    "x = [1,2,9,10, 16]\n",
    "print(\"exp()------>\", np.exp(x))          # e^x\n",
    "print(\"exp2()----->\", np.exp2(x))        # 2^x\n",
    "print(\"power()---->\", np.power(3, x))   # 3^x\n",
    "print(\"log()------>\", np.log(x))          # log自然對數\n",
    "print(\"log2()----->\", np.log2(x))        # 以2為基底的對數\n",
    "print(\"log10()---->\", np.log10(x))      # 以10為基底的對數"
   ]
  },
  {
   "cell_type": "code",
   "execution_count": 34,
   "metadata": {},
   "outputs": [
    {
     "name": "stdout",
     "output_type": "stream",
     "text": [
      "y: [1 2 3 4 5]\n"
     ]
    },
    {
     "data": {
      "text/plain": [
       "array([[ 1,  2,  3,  4,  5],\n",
       "       [ 2,  4,  6,  8, 10],\n",
       "       [ 3,  6,  9, 12, 15],\n",
       "       [ 4,  8, 12, 16, 20],\n",
       "       [ 5, 10, 15, 20, 25]])"
      ]
     },
     "execution_count": 34,
     "metadata": {},
     "output_type": "execute_result"
    }
   ],
   "source": [
    "# 外積：outer()\n",
    "y = np.arange(1,6)\n",
    "print('y:',y)\n",
    "np.multiply.outer(y, y)"
   ]
  },
  {
   "cell_type": "code",
   "execution_count": 40,
   "metadata": {},
   "outputs": [
    {
     "name": "stdout",
     "output_type": "stream",
     "text": [
      "-----------------一維陣列---------------------\n",
      "L :  [0.10203988 0.84541494 0.75370047 0.22521735 0.11664314 0.54743968\n",
      " 0.31230879 0.96181343 0.97907626 0.38041881 0.48972408 0.68640721\n",
      " 0.61303501 0.67933018 0.30710605 0.26362401 0.9617748  0.60873792\n",
      " 0.83179025 0.43045862 0.96095998 0.86349724 0.17804325 0.39759115\n",
      " 0.94001829 0.08454867 0.03704466 0.60597207 0.0265889  0.03789149\n",
      " 0.15937104 0.59094456 0.86588066 0.43715503 0.95613818 0.33912513\n",
      " 0.88957487 0.75973734 0.16037912 0.63965317 0.99205147 0.6798143\n",
      " 0.43153952 0.9078036  0.41124711 0.82915816 0.52076485 0.79125098\n",
      " 0.20140737 0.45220452 0.4143508  0.24975984 0.21721141 0.32124755\n",
      " 0.57436944 0.8049488  0.31317525 0.44812198 0.51072706 0.03408957\n",
      " 0.2089947  0.16384925 0.15799775 0.94461564 0.98861463 0.17995189\n",
      " 0.21195099 0.38099676 0.79835221 0.85191061 0.21621594 0.87370217\n",
      " 0.75243182 0.71847183 0.71167661 0.75852091 0.07984436 0.99044798\n",
      " 0.41784021 0.00515678 0.68624204 0.45760789 0.82908137 0.22425756\n",
      " 0.71946823 0.20717821 0.57252711 0.59742652 0.01463572 0.86975597\n",
      " 0.2202355  0.06361087 0.00168363 0.25392256 0.96662317 0.65930036\n",
      " 0.63137172 0.9475052  0.55744242 0.6344613 ]\n",
      "-----------------多維陣列---------------------\n",
      "[[0.52894147 0.80632342 0.88278102 0.4317707 ]\n",
      " [0.64021134 0.03003642 0.01663397 0.17735837]\n",
      " [0.36244469 0.69206044 0.72973582 0.47163731]]\n",
      "column 加總: [1.5315975  1.52842028 1.62915081 1.08076639]\n",
      "row 加總: [2.64981661 0.8642401  2.25587827]\n"
     ]
    }
   ],
   "source": [
    "print(\"-----------------一維陣列---------------------\")\n",
    "# sum()：陣列做加總，如果想要計算陣列中所有元素的加總，可以使用sum()\n",
    "import numpy as np\n",
    "L = np.random.random(100)  #在0到1間亂數值取100個\n",
    "print('L : ',L)\n",
    "np.sum(L)\n",
    "print(\"-----------------多維陣列---------------------\")\n",
    "# sum()除了可以使用一維陣列，現在用多維陣列\n",
    "import numpy as np\n",
    "m = np.random.random((3,4))\n",
    "print(m)\n",
    "print('column 加總:', m.sum(axis=0)) #column加總\n",
    "print('row 加總:', m.sum(axis=1)) #row加總"
   ]
  },
  {
   "cell_type": "code",
   "execution_count": 3,
   "metadata": {},
   "outputs": [
    {
     "name": "stdout",
     "output_type": "stream",
     "text": [
      "min----> 48\n",
      "max----> 9940\n"
     ]
    }
   ],
   "source": [
    "# min(),max()：陣列中的最大值和最小值 ------>取得陣列中元素的最大值和最小值\n",
    "import numpy as np\n",
    "ironman_int = np.random.randint(0,10000,200) #在整數0~10000之間取值200個\n",
    "print('min---->', np.min(ironman_int))\n",
    "print('max---->', np.max(ironman_int))"
   ]
  },
  {
   "cell_type": "code",
   "execution_count": 4,
   "metadata": {},
   "outputs": [
    {
     "name": "stdout",
     "output_type": "stream",
     "text": [
      "[[0.10060752 0.28070039 0.61875525 0.50163944]\n",
      " [0.38426185 0.97466096 0.37712859 0.03392874]\n",
      " [0.23485737 0.61626651 0.23408368 0.35528421]]\n",
      "column 加總 [0.71972674 1.87162786 1.22996752 0.8908524 ]\n",
      "row 加總 [1.5017026  1.76998014 1.44049177]\n"
     ]
    }
   ],
   "source": [
    "# sum()除了可以使用一維陣列，現在用多維陣列\n",
    "import numpy as np\n",
    "m = np.random.random((3,4))\n",
    "print(m)\n",
    "print('column 加總', m.sum(axis=0)) #column加總\n",
    "print('row 加總', m.sum(axis=1)) #row加總"
   ]
  },
  {
   "cell_type": "code",
   "execution_count": 5,
   "metadata": {},
   "outputs": [
    {
     "name": "stdout",
     "output_type": "stream",
     "text": [
      "min----> 83\n",
      "max----> 9964\n"
     ]
    }
   ],
   "source": [
    "# min(),max()：陣列中的最大值和最小值---------->取得陣列中元素的最大值和最小值\n",
    "import numpy as np\n",
    "ironman_int = np.random.randint(0,10000,200) #在整數0~10000之間取值200個\n",
    "print('min---->', np.min(ironman_int))\n",
    "print('max---->', np.max(ironman_int))"
   ]
  },
  {
   "cell_type": "code",
   "execution_count": 1,
   "metadata": {},
   "outputs": [
    {
     "name": "stdout",
     "output_type": "stream",
     "text": [
      "559 ms ± 7.15 ms per loop (mean ± std. dev. of 7 runs, 1 loop each)\n",
      "4.77 ms ± 274 µs per loop (mean ± std. dev. of 7 runs, 100 loops each)\n"
     ]
    }
   ],
   "source": [
    "# 比較np.min和min ------->之前在第二天的時候有學到也可以使用Python內建的min()來取得陣列的最小值，在這邊比較兩者運算所耗費的時間。\n",
    "import numpy as np\n",
    "big_array = np.random.random(10000000) #在0到1間亂數值取10000000個\n",
    "%timeit min(big_array)\n",
    "%timeit np.min(big_array)"
   ]
  },
  {
   "cell_type": "markdown",
   "metadata": {},
   "source": [
    "np.sum\t所有元素的加總\n",
    "np.prod\t所有元素的乘積\n",
    "np.mean\t所有元素的平均值\n",
    "np.std\t標準差\n",
    "np.var\t變異量\n",
    "np.min\t找出元素的最小值\n",
    "np.max\t找出元素的最大值\n",
    "np.argmin\t找出最小值的索引\n",
    "np.argmax\t找出最大值的索引\n",
    "np.median\t元素的中位數\n",
    "np.any\t當陣列中有任一值是True或是非零值時傳回True\n",
    "np.all\t當陣列中有所有值是True或是非零值時傳回True"
   ]
  },
  {
   "cell_type": "code",
   "execution_count": 2,
   "metadata": {},
   "outputs": [
    {
     "data": {
      "text/plain": [
       "array([5, 6, 7])"
      ]
     },
     "execution_count": 2,
     "metadata": {},
     "output_type": "execute_result"
    }
   ],
   "source": [
    "#broadcasting-------> numpy的陣列具有broadcasting的特性，為了就是當不同shape的陣列可以進行運算。陣列可以做的運算只有(+,-)，當使用乘法運算時兩個ndarray必須相同的shape\n",
    "a = np.array([0,1,2])\n",
    "a + 5"
   ]
  },
  {
   "cell_type": "code",
   "execution_count": 3,
   "metadata": {},
   "outputs": [
    {
     "name": "stdout",
     "output_type": "stream",
     "text": [
      "[0 1 2]\n",
      "[[0]\n",
      " [1]\n",
      " [2]]\n",
      "[[0 1 2]\n",
      " [1 2 3]\n",
      " [2 3 4]]\n"
     ]
    }
   ],
   "source": [
    "a = np.arange(3)\n",
    "b = np.arange(3)[:, np.newaxis]\n",
    "print(a)\n",
    "print(b)\n",
    "print(a+b)"
   ]
  },
  {
   "cell_type": "code",
   "execution_count": 23,
   "metadata": {},
   "outputs": [
    {
     "name": "stdout",
     "output_type": "stream",
     "text": [
      "[False False  True  True  True]\n",
      "3\n",
      "[[9 7 6 4]\n",
      " [5 0 6 5]\n",
      " [6 7 5 9]]\n",
      "[3 1 3]\n"
     ]
    },
    {
     "data": {
      "text/plain": [
       "array([False,  True,  True, False])"
      ]
     },
     "execution_count": 23,
     "metadata": {},
     "output_type": "execute_result"
    }
   ],
   "source": [
    "import numpy as np\n",
    "# 比較運算子(==,!=,<,<=,>,>=) ------->以下建立一個ndarray，並且比較其中元素大於2\n",
    "x = np.array([1,2,3,4,5])\n",
    "print(x>2)\n",
    "\n",
    "# 對於比較結果也可計算，計算大於2的有幾個\n",
    "print(np.count_nonzero(x>2))\n",
    "\n",
    "# 除了使用count_nonzero計算數量，也可使用sum做運算，好處是可以針對欄或列運算，以下範例是每一列大於5的計數。\n",
    "x = np.random.randint(10, size=(3,4))\n",
    "print(x)\n",
    "print(np.sum(x>5,axis = 1)) #axis=0(column)  axis=1(row) #array([3, 2, 2])\n",
    "\n",
    "# 如果想要執行陣列中所有的值是否都小於8，用上述的x當陣列\n",
    "np.all(x<8,axis = 0)"
   ]
  },
  {
   "cell_type": "code",
   "execution_count": 27,
   "metadata": {},
   "outputs": [
    {
     "name": "stdout",
     "output_type": "stream",
     "text": [
      "[[2 8 7 5 9]\n",
      " [4 2 0 4 0]\n",
      " [1 2 2 1 2]\n",
      " [1 9 9 9 1]]\n"
     ]
    },
    {
     "data": {
      "text/plain": [
       "1"
      ]
     },
     "execution_count": 27,
     "metadata": {},
     "output_type": "execute_result"
    }
   ],
   "source": [
    "# 邏輯運算子(&,|,^,~)----> 當計算陣列中的元素需要符合兩個以上條件，ex 陣列中 > 5 且 < 8 的元素計算，就需要透過邏輯運算子來完成。以下範例是算出數值大於5且小於8\n",
    "import numpy as np\n",
    "x = np.random.randint(10, size=(4,5))\n",
    "print(x)\n",
    "np.sum((x > 5) & (x <8))"
   ]
  },
  {
   "cell_type": "code",
   "execution_count": 29,
   "metadata": {},
   "outputs": [
    {
     "name": "stdout",
     "output_type": "stream",
     "text": [
      "[[4 2 0 3 0]\n",
      " [4 4 9 3 5]\n",
      " [6 8 1 3 5]\n",
      " [6 4 8 3 0]]\n"
     ]
    },
    {
     "data": {
      "text/plain": [
       "array([6, 6])"
      ]
     },
     "execution_count": 29,
     "metadata": {},
     "output_type": "execute_result"
    }
   ],
   "source": [
    "# 遮罩: 回傳特定條件的陣列-----> 上述的例子可以學到使用陣列和比較運算子運算後傳回布林的陣列。現在要用回傳的布林運算子來取得想要的元素陣列。以下範例是回傳大於5且小於8\n",
    "import numpy as np\n",
    "x = np.random.randint(10, size=(4,5))\n",
    "print(x)\n",
    "x[(x>5) & (x <8)]"
   ]
  },
  {
   "cell_type": "markdown",
   "metadata": {},
   "source": [
    "# [Day09]Learning Numpy - Fancy、sort、structured array\n",
    "介紹Numpy的\n",
    "\n",
    "1. Fancy索引\n",
    "2. sort\n",
    "3. structured array"
   ]
  },
  {
   "cell_type": "markdown",
   "metadata": {},
   "source": [
    "- Fancy索引-----> 費氏的觀念就是傳遞一個陣列當作index去取得元素。以下面的程式當作例子："
   ]
  },
  {
   "cell_type": "code",
   "execution_count": 34,
   "metadata": {},
   "outputs": [
    {
     "name": "stdout",
     "output_type": "stream",
     "text": [
      "x-----------> [ 2  1 48 32 33 81 96 11 75 27]\n",
      "[2, 32, 48, 96]\n",
      "[[ 2 32]\n",
      " [48 96]]\n"
     ]
    }
   ],
   "source": [
    "# 一維陣列 : 先建立一個一維陣列\n",
    "import numpy as np\n",
    "x = np.random.randint(0,100,size = 10)\n",
    "print('x----------->',x)\n",
    "\n",
    "# 假設要取4個不同的元素\n",
    "print( [x[0],x[3],x[2],x[6]] )\n",
    "\n",
    "# 使用fancy索引取出元素，這邊需要注意的是ironman輸出的結果會是以給予的index陣列為shape而不是以x為shape\n",
    "ironman = np.array([\n",
    "    [0,3],\n",
    "    [2,6]\n",
    "])\n",
    "print( x[ironman] )"
   ]
  },
  {
   "cell_type": "code",
   "execution_count": 46,
   "metadata": {},
   "outputs": [
    {
     "name": "stdout",
     "output_type": "stream",
     "text": [
      "y-------->\n",
      " [[90  7  0 46]\n",
      " [60 42  6 27]\n",
      " [89 75 97 47]]\n",
      "y[row,col]----->\n",
      " [ 0 42 47]\n",
      "========================\n",
      "newRow----->\n",
      " [[0]\n",
      " [1]\n",
      " [2]]\n",
      "y[newRow,col]----->\n",
      " [[ 0  7 46]\n",
      " [ 6 42 27]\n",
      " [97 75 47]]\n"
     ]
    }
   ],
   "source": [
    "# 多維陣列 : 建立一個3*4的陣列，並使用fancy索引取得元素\n",
    "import numpy as np\n",
    "y = np.random.randint(0,100,(3,4))\n",
    "print('y-------->\\n',y)\n",
    "row = np.array([0,1,2])\n",
    "col = np.array([2,1,3])\n",
    "print('y[row,col]----->\\n',y[row,col])\n",
    "\n",
    "print(\"========================\")\n",
    "\n",
    "# fancy的廣播效果\n",
    "newRow = row[:, np.newaxis]\n",
    "print('newRow----->\\n',newRow)\n",
    "print('y[newRow,col]----->\\n',y[newRow,col])"
   ]
  },
  {
   "cell_type": "code",
   "execution_count": 36,
   "metadata": {},
   "outputs": [
    {
     "name": "stdout",
     "output_type": "stream",
     "text": [
      "newRow-----> [[0]\n",
      " [1]\n",
      " [2]]\n",
      "y[newRow,col]-----> [[88  4 99]\n",
      " [79 10 86]\n",
      " [72 90 58]]\n"
     ]
    }
   ],
   "source": [
    "# fancy的廣播效果\n",
    "import numpy as np\n",
    "newRow = row[:, np.newaxis]\n",
    "print('newRow----->',newRow)\n",
    "print('y[newRow,col]----->',y[newRow,col])"
   ]
  },
  {
   "cell_type": "code",
   "execution_count": 47,
   "metadata": {},
   "outputs": [
    {
     "name": "stdout",
     "output_type": "stream",
     "text": [
      "x---------------> [43 38 61 40 22 58 12 17 19 42]\n",
      "i---------------> [2 1 5 7]\n",
      "x---------------> [43 33 33 40 22 33 12 33 19 42]\n"
     ]
    }
   ],
   "source": [
    "# 使用fancy索引修改元素\n",
    "import numpy as np\n",
    "x = np.random.randint(0,100,size = 10)\n",
    "print('x--------------->',x)\n",
    "i = np.array([2,1,5,7])\n",
    "print('i--------------->',i)\n",
    "x[i] = 33\n",
    "print('x--------------->',x)"
   ]
  },
  {
   "cell_type": "markdown",
   "metadata": {},
   "source": [
    "- 陣列排序：sort()\n",
    "將陣列從小到大做排序"
   ]
  },
  {
   "cell_type": "code",
   "execution_count": 48,
   "metadata": {},
   "outputs": [
    {
     "name": "stdout",
     "output_type": "stream",
     "text": [
      "x---------------> [11 38 24 77 78 77 77 95 99 40]\n",
      "x---------------> [11 24 38 40 77 77 77 78 95 99]\n"
     ]
    }
   ],
   "source": [
    "# sort()\n",
    "x = np.random.randint(0,100,size = 10) #隨機產生陣列，沒有排序\n",
    "print('x--------------->',x)\n",
    "x.sort()\n",
    "print('x--------------->',x)"
   ]
  },
  {
   "cell_type": "code",
   "execution_count": 49,
   "metadata": {},
   "outputs": [
    {
     "name": "stdout",
     "output_type": "stream",
     "text": [
      "x---------------> [42 38  5 59  9]\n",
      "np.argsort(x)---------------> [2 4 1 0 3]\n"
     ]
    }
   ],
   "source": [
    "# argsort():傳回被排序過的索引值\n",
    "x = np.random.randint(0,100,size = 5)\n",
    "print('x--------------->',x)\n",
    "print('np.argsort(x)--------------->',np.argsort(x))"
   ]
  },
  {
   "cell_type": "code",
   "execution_count": 50,
   "metadata": {},
   "outputs": [
    {
     "name": "stdout",
     "output_type": "stream",
     "text": [
      "x---------------> [[77 47 20 91]\n",
      " [87 74 34 67]\n",
      " [ 2 45 64 90]\n",
      " [17 29  6 88]]\n"
     ]
    },
    {
     "data": {
      "text/plain": [
       "array([[ 2, 29,  6, 67],\n",
       "       [17, 45, 20, 88],\n",
       "       [77, 47, 34, 90],\n",
       "       [87, 74, 64, 91]])"
      ]
     },
     "execution_count": 50,
     "metadata": {},
     "output_type": "execute_result"
    }
   ],
   "source": [
    "# 針對欄或列做排序 : 剛剛都是示範全部的元素做排序，但Numpy可以針對欄或列做排序，以下示範針對每一欄做排序\n",
    "x = np.random.randint(0,100,(4,4))\n",
    "print('x--------------->',x)\n",
    "np.sort(x,axis=0) #axis=0 (column)"
   ]
  },
  {
   "cell_type": "code",
   "execution_count": 51,
   "metadata": {},
   "outputs": [
    {
     "name": "stdout",
     "output_type": "stream",
     "text": [
      "x---------------> [11 28 14 43 48  9 15  3 46 33]\n"
     ]
    },
    {
     "data": {
      "text/plain": [
       "array([ 3,  9, 11, 14, 15, 28, 33, 43, 46, 48])"
      ]
     },
     "execution_count": 51,
     "metadata": {},
     "output_type": "execute_result"
    }
   ],
   "source": [
    "# 部分排序:Partitioning-----> 以下示範陣列中最小的四個排在左側(順序沒有排序)，其他元素放右側(順序沒有排序)，只是單純選出最小四個元素放在左邊\n",
    "x = np.random.randint(0,50,size=10)\n",
    "print('x--------------->',x)\n",
    "np.partition(x,4)"
   ]
  },
  {
   "cell_type": "markdown",
   "metadata": {},
   "source": [
    "# [Day10]Learning Pandas - Series、DataFrame、Index\n",
    "Pandas物件\n",
    "pandas底下有三大物件Series和DataFrame和Index，主要都是用這三個物件在做運算"
   ]
  },
  {
   "cell_type": "code",
   "execution_count": 58,
   "metadata": {},
   "outputs": [
    {
     "name": "stdout",
     "output_type": "stream",
     "text": [
      "0    0.11\n",
      "1    0.22\n",
      "2    0.33\n",
      "3    0.44\n",
      "dtype: float64\n",
      "=====================\n",
      "ironman.values-------> [0.11 0.22 0.33 0.44]\n",
      "ironman.index-------> RangeIndex(start=0, stop=4, step=1)\n",
      "=====================\n",
      "a    0.11\n",
      "b    0.22\n",
      "c    0.33\n",
      "d    0.44\n",
      "dtype: float64\n",
      "=====================\n",
      "a    11\n",
      "b    22\n",
      "c    33\n",
      "dtype: int64\n"
     ]
    }
   ],
   "source": [
    "#Series(一維陣列) : 跟numpy的陣列不同的是，可以定義自己的index(任何資料型態)，也可想像成是特殊化的Dictionary，以下示範建立一個簡單的Series\n",
    "#從下面的例子可以看出 [0,1,2,3]為Series的index\n",
    "import numpy as np\n",
    "import pandas as pd\n",
    "ironman = pd.Series([0.11,0.22,0.33,0.44])\n",
    "print(ironman)\n",
    "print(\"=====================\")\n",
    "\n",
    "#如果想從Series中單純取得value可以使用values屬性。取得index可以使用index屬性\n",
    "print('ironman.values------->',ironman.values)\n",
    "print('ironman.index------->',ironman.index)\n",
    "print(\"=====================\")\n",
    "\n",
    "#以下範例示範如果想要自己定義Series的index，在這邊使用string。\n",
    "#這邊可以看到index從原本的[0,1,2,3]變成自己定義的['a','b','c','d']\n",
    "ironman = pd.Series([0.11,0.22,0.33,0.44], index=['a','b','c','d'])\n",
    "print(ironman)\n",
    "print(\"=====================\")\n",
    "\n",
    "#剛剛說Series和dict很類似，可以使用dict來建立Series，以下範例顯示從dict->Series\n",
    "dic_ironman = {\n",
    "    'a': 11,\n",
    "    'b': 22,\n",
    "    'c': 33\n",
    "}\n",
    "ironman = pd.Series(dic_ironman)\n",
    "print(ironman)"
   ]
  },
  {
   "cell_type": "code",
   "execution_count": 63,
   "metadata": {},
   "outputs": [
    {
     "name": "stdout",
     "output_type": "stream",
     "text": [
      "           number mayor\n",
      "taipei        200   Kui\n",
      "taichung      300    Ha\n",
      "changhua      400  Chin\n",
      "kaohsiung     150   Lui\n",
      "=====================\n",
      "ironman_df.values------->\n",
      " [[200 'Kui']\n",
      " [300 'Ha']\n",
      " [400 'Chin']\n",
      " [150 'Lui']]\n",
      "ironman_df.index-------> Index(['taipei', 'taichung', 'changhua', 'kaohsiung'], dtype='object')\n",
      "ironman_df.columns-------> Index(['number', 'mayor'], dtype='object')\n",
      "=====================\n"
     ]
    },
    {
     "data": {
      "text/html": [
       "<div>\n",
       "<style scoped>\n",
       "    .dataframe tbody tr th:only-of-type {\n",
       "        vertical-align: middle;\n",
       "    }\n",
       "\n",
       "    .dataframe tbody tr th {\n",
       "        vertical-align: top;\n",
       "    }\n",
       "\n",
       "    .dataframe thead th {\n",
       "        text-align: right;\n",
       "    }\n",
       "</style>\n",
       "<table border=\"1\" class=\"dataframe\">\n",
       "  <thead>\n",
       "    <tr style=\"text-align: right;\">\n",
       "      <th></th>\n",
       "      <th>number</th>\n",
       "    </tr>\n",
       "  </thead>\n",
       "  <tbody>\n",
       "    <tr>\n",
       "      <th>changhua</th>\n",
       "      <td>400</td>\n",
       "    </tr>\n",
       "    <tr>\n",
       "      <th>kaohsiung</th>\n",
       "      <td>150</td>\n",
       "    </tr>\n",
       "    <tr>\n",
       "      <th>taichung</th>\n",
       "      <td>300</td>\n",
       "    </tr>\n",
       "    <tr>\n",
       "      <th>taipei</th>\n",
       "      <td>200</td>\n",
       "    </tr>\n",
       "  </tbody>\n",
       "</table>\n",
       "</div>"
      ],
      "text/plain": [
       "           number\n",
       "changhua      400\n",
       "kaohsiung     150\n",
       "taichung      300\n",
       "taipei        200"
      ]
     },
     "execution_count": 63,
     "metadata": {},
     "output_type": "execute_result"
    }
   ],
   "source": [
    "# DataFrame(多個Series組成) : DataFrame跟Series一樣，可以指定index，但這邊可以想像成DataFrame是多個Series組成。\n",
    "import numpy as np\n",
    "import pandas as pd\n",
    "number = pd.Series({'taipei':200, 'taichung': 300, 'changhua': 400, 'kaohsiung' : 150})\n",
    "mayor = pd.Series({'taipei': 'Kui', 'taichung': 'Ha', 'changhua': 'Chin', 'kaohsiung' : 'Lui'})\n",
    "ironman_df = pd.DataFrame({'number':number, 'mayor':mayor})\n",
    "print(ironman_df)\n",
    "print(\"=====================\")\n",
    "\n",
    "# DataFrame不同於Series只有index和values屬性，DataFrame還有columns屬性\n",
    "print('ironman_df.values------->\\n',ironman_df.values)\n",
    "print('ironman_df.index------->',ironman_df.index)\n",
    "print('ironman_df.columns------->',ironman_df.columns)\n",
    "print(\"=====================\")\n",
    "\n",
    "# 剛剛示範從dict建立Series，而DataFrame既然是由Series組成則代表：\n",
    "#1. Series可以建立DataFrame\n",
    "#2. dict也可以建立DataFrame\n",
    "pd.DataFrame(number, columns=['number']) #從單一Series\n",
    "pd.DataFrame({'number':{'taipei':200, 'taichung': 300, 'changhua': 400, 'kaohsiung' : 150}}) #從dict建立\n",
    "#上述兩個DataFrame輸出結果都一樣，所以只有印出一個"
   ]
  },
  {
   "cell_type": "code",
   "execution_count": 64,
   "metadata": {},
   "outputs": [
    {
     "data": {
      "text/plain": [
       "Float64Index([0.11, 0.22, 0.33, 0.44], dtype='float64')"
      ]
     },
     "execution_count": 64,
     "metadata": {},
     "output_type": "execute_result"
    }
   ],
   "source": [
    "#Index(不可修改的陣列) : 也可想像成(immutable array)或是一個(ordered set)\n",
    "#因為是不可以修改的，所以當執行修改的動作時會出現錯誤\n",
    "import numpy as np\n",
    "import pandas as pd\n",
    "ironman_index = pd.Index([0.11,0.22,0.33,0.44])\n",
    "ironman_index"
   ]
  },
  {
   "cell_type": "markdown",
   "metadata": {},
   "source": [
    "# DataFrame、Series的存取、修改\n",
    "前幾天學習Numpy，其中有學到使用切片、遮罩、fancy的方式存取ndarray，現在要在DataFrame、Series上使用這些方法"
   ]
  },
  {
   "cell_type": "code",
   "execution_count": 6,
   "metadata": {},
   "outputs": [
    {
     "name": "stdout",
     "output_type": "stream",
     "text": [
      "a    0.11\n",
      "b    0.22\n",
      "c    0.33\n",
      "d    0.44\n",
      "dtype: float64\n",
      "a    0.11\n",
      "b    0.22\n",
      "c    0.33\n",
      "dtype: float64\n",
      "=====================\n",
      "a    0.11\n",
      "b    0.22\n",
      "c    0.33\n",
      "dtype: float64\n",
      "=====================\n",
      "c    0.33\n",
      "d    0.44\n",
      "dtype: float64\n",
      "=====================\n",
      "a    0.11\n",
      "d    0.44\n",
      "dtype: float64\n",
      "======沒有使用loc======\n",
      "3    0.22\n",
      "5    0.33\n",
      "dtype: float64\n",
      "======使用loc======\n",
      "1    0.11\n",
      "3    0.22\n",
      "dtype: float64\n"
     ]
    }
   ],
   "source": [
    "import numpy as np\n",
    "import pandas as pd\n",
    "#Series  切片方式\n",
    "ironman = pd.Series([0.11,0.22,0.33,0.44], index=['a','b','c','d'])\n",
    "print( ironman )\n",
    "print( ironman['a':'c'] )\n",
    "print(\"=====================\")\n",
    "\n",
    "#雖然建立Series有設定文字的index，但Series還是有隱含的整數索引，因此可以使用整數來切片\n",
    "print( ironman[0:3] )\n",
    "print(\"=====================\")\n",
    "\n",
    "#遮罩的方式\n",
    "print( ironman[ironman > 0.22] ) #從ironman中取出值大於0.22\n",
    "print(\"=====================\")\n",
    "\n",
    "#fancy的方式\n",
    "#重溫一下fancy就是指傳遞一個陣列當作index去取得元素。\n",
    "print( ironman[['a','d']] )\n",
    "\n",
    "#loc\n",
    "#當用切片取得陣列，index也是數字情況下就要使用loc，以下範例展示有使用loc和沒有的取得陣列結果\n",
    "#1. 沒有使用loc\n",
    "print(\"======沒有使用loc======\")\n",
    "ironman = pd.Series([0.11,0.22,0.33,0.44], index=[1,3,5,7])\n",
    "print( ironman[1:3] )\n",
    "#會發現取出來的結果是隱含的整數索引[1~(3-1)]，而不是index\n",
    "#2. 使用loc\n",
    "print(\"======使用loc======\")\n",
    "print( ironman.loc[1:3] )\n",
    "#這個例子取出來的結果才是使用index"
   ]
  },
  {
   "cell_type": "markdown",
   "metadata": {},
   "source": [
    "# DataFrame\n",
    "以下示範用兩個欄位相除來寫入新的欄"
   ]
  },
  {
   "cell_type": "code",
   "execution_count": null,
   "metadata": {},
   "outputs": [],
   "source": []
  }
 ],
 "metadata": {
  "kernelspec": {
   "display_name": "Python 3",
   "language": "python",
   "name": "python3"
  },
  "language_info": {
   "codemirror_mode": {
    "name": "ipython",
    "version": 3
   },
   "file_extension": ".py",
   "mimetype": "text/x-python",
   "name": "python",
   "nbconvert_exporter": "python",
   "pygments_lexer": "ipython3",
   "version": "3.7.1"
  }
 },
 "nbformat": 4,
 "nbformat_minor": 2
}
