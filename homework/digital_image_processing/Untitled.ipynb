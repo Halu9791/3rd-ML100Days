{
 "cells": [
  {
   "cell_type": "markdown",
   "metadata": {},
   "source": [
    "[Gaussian-Blur](https://github.com/yoyoberenguer/Gaussian-Blur/blob/master/GaussianBlur.py)\n",
    "\n",
    "[cv2_gaussian](https://github.com/ferdyandannes/Standar-Average-Gaussian-Blur-Median-Filter-on-Python/blob/master/Gaussian.py)\n",
    "\n",
    "https://github.com/ilkayDevran/Gaussian_Filtering/tree/456b41df03761546cd61634caaeb7817478dfd47\n",
    "\n",
    "https://github.com/icewaterq/GaussianFilter\n",
    "\n",
    "https://dsp.stackexchange.com/questions/10057/gaussian-blur-standard-deviation-radius-and-kernel-size\n",
    "\n",
    "https://www.youtube.com/watch?v=ZoaEDbivmOE\n",
    "\n",
    "https://medium.com/@chih.sheng.huang821/%E5%8D%B7%E7%A9%8D%E7%A5%9E%E7%B6%93%E7%B6%B2%E8%B7%AF-convolutional-neural-network-cnn-cnn%E9%81%8B%E7%AE%97%E6%B5%81%E7%A8%8B-ecaec240a631\n",
    "\n",
    "http://hwshow-ipc.blogspot.com/2014/12/spatial-filtering.html\n",
    "\n",
    "https://www.pyimagesearch.com/2015/03/23/sliding-windows-for-object-detection-with-python-and-opencv/\n",
    "\n",
    "https://www.bioss.ac.uk/people/chris/ch3.pdf"
   ]
  },
  {
   "cell_type": "code",
   "execution_count": 2,
   "metadata": {},
   "outputs": [
    {
     "name": "stdout",
     "output_type": "stream",
     "text": [
      "pygame 1.9.6\n",
      "Hello from the pygame community. https://www.pygame.org/contribute.html\n"
     ]
    }
   ],
   "source": [
    "import pygame\n",
    "import numpy \n",
    "import time\n",
    "import math\n",
    "\n",
    "__author__ = \"Yoann Berenguer\"\n",
    "__copyright__ = \"Copyright 2007.\"\n",
    "__credits__ = [\"Yoann Berenguer\"]\n",
    "__license__ = \"MIT License\"\n",
    "__version__ = \"1.0.0\"\n",
    "__maintainer__ = \"Yoann Berenguer\"\n",
    "__email__ = \"yoyoberenguer@hotmail.com\"\n",
    "__status__ = \"Demo\"\n",
    "\n",
    "class GaussianBoxBlur9x9_method2:\n",
    "\n",
    "    def __init__(self, surface_, shape_): # 設定一些參數\n",
    "        # kernel 5x5 separable\n",
    "        self.kernel_v = numpy.array(([1, 1, 1, 1, 1, 1, 1, 1, 1]))  # vertical vector\n",
    "        self.kernel_h = numpy.array(([1, 1, 1, 1, 1, 1, 1, 1, 1]))  # horizontal vector\n",
    "        self.kernel_half = 4\n",
    "        # Surface with extra padding\n",
    "        self.surface = surface_  # _用途是為了防止參數和內建的參數相衝\n",
    "        # Shape of the array with extra padding\n",
    "        self.shape = shape_\n",
    "\n",
    "        self.source_array = numpy.zeros((self.shape[0], self.shape[1], 3))\n",
    "        self.kernel_length = len(self.kernel_h)\n",
    "    \n",
    "    # Horizontal\n",
    "    def convolution_h(self):\n",
    "        for y in range(self.kernel_half, self.shape[1] - self.kernel_half) #"
   ]
  },
  {
   "cell_type": "code",
   "execution_count": 28,
   "metadata": {},
   "outputs": [],
   "source": [
    "for i in range(5,-5):\n",
    "    print(i)"
   ]
  },
  {
   "cell_type": "code",
   "execution_count": 29,
   "metadata": {},
   "outputs": [
    {
     "name": "stdout",
     "output_type": "stream",
     "text": [
      "-5\n",
      "-4\n",
      "-3\n",
      "-2\n",
      "-1\n",
      "0\n",
      "1\n",
      "2\n",
      "3\n",
      "4\n"
     ]
    }
   ],
   "source": [
    "for i in range(-5,5):\n",
    "    print(i)"
   ]
  },
  {
   "cell_type": "code",
   "execution_count": 1,
   "metadata": {},
   "outputs": [
    {
     "name": "stdout",
     "output_type": "stream",
     "text": [
      "pygame 1.9.6\n",
      "Hello from the pygame community. https://www.pygame.org/contribute.html\n",
      "3.7698912620544434\n",
      "Quitting\n"
     ]
    }
   ],
   "source": [
    "\n",
    "import pygame\n",
    "import numpy\n",
    "import time\n",
    "import math\n",
    "\n",
    "__author__ = \"Yoann Berenguer\"\n",
    "__copyright__ = \"Copyright 2007.\"\n",
    "__credits__ = [\"Yoann Berenguer\"]\n",
    "__license__ = \"MIT License\"\n",
    "__version__ = \"1.0.0\"\n",
    "__maintainer__ = \"Yoann Berenguer\"\n",
    "__email__ = \"yoyoberenguer@hotmail.com\"\n",
    "__status__ = \"Demo\"\n",
    "\n",
    "\n",
    "class GaussianBoxBlur9x9_method2:\n",
    "\n",
    "    def __init__(self, surface_, shape_):\n",
    "\n",
    "        # kernel 5x5 separable\n",
    "        self.kernel_v = numpy.array(([1, 1, 1, 1, 1, 1, 1, 1, 1]))  # vertical vector\n",
    "        self.kernel_h = numpy.array(([1, 1, 1, 1, 1, 1, 1, 1, 1]))  # horizontal vector\n",
    "        self.kernel_half = 4\n",
    "        # Surface with extra padding\n",
    "        self.surface = surface_\n",
    "        # Shape of the array with extra padding\n",
    "        self.shape = shape_\n",
    "\n",
    "        self.source_array = numpy.zeros((self.shape[0], self.shape[1], 3))\n",
    "        self.kernel_length = len(self.kernel_h)\n",
    "\n",
    "    # Horizontal\n",
    "    def convolution_h(self):\n",
    "\n",
    "        for y in range(self.kernel_half, self.shape[1] - self.kernel_half):\n",
    "            lock = False\n",
    "            r, g, b = 0, 0, 0\n",
    "            for x in range(self.kernel_half, self.shape[0] - self.kernel_half):\n",
    "                if not lock:\n",
    "                    for kernel_offset in range(-self.kernel_half, self.kernel_half + 1):\n",
    "                        try:\n",
    "                            xx = x + kernel_offset\n",
    "                            color = self.surface.get_at((xx, y))\n",
    "                            r += color[0]\n",
    "                            g += color[1]\n",
    "                            b += color[2]\n",
    "                        except IndexError:\n",
    "                            r += 128\n",
    "                            g += 128\n",
    "                            b += 128\n",
    "                        finally:\n",
    "                            lock = True\n",
    "                else:\n",
    "\n",
    "                    c1 = self.surface.get_at((x + kernel_offset, y))\n",
    "                    c2 = self.surface.get_at((x - kernel_offset - 1, y))\n",
    "                    r += c1[0] - c2[0]\n",
    "                    g += c1[1] - c2[1]\n",
    "                    b += c1[2] - c2[2]\n",
    "\n",
    "                self.source_array[x - self.kernel_half][y - self.kernel_half] = (r / self.kernel_length,\n",
    "                                                                                 g / self.kernel_length,\n",
    "                                                                                 b / self.kernel_length)\n",
    "\n",
    "        return self.source_array\n",
    "\n",
    "    # Vertical\n",
    "    def convolution_v(self):\n",
    "\n",
    "        for x in range(self.kernel_half, self.shape[0] - self.kernel_half):\n",
    "            lock = False\n",
    "            r, g, b = 0, 0, 0\n",
    "            for y in range(self.kernel_half, self.shape[1] - self.kernel_half):\n",
    "                if not lock:\n",
    "                    for kernel_offset in range(-self.kernel_half, self.kernel_half + 1):\n",
    "                        try:\n",
    "                            yy = y + kernel_offset\n",
    "                            color = self.surface.get_at((x, yy))\n",
    "                            r += color[0]\n",
    "                            g += color[1]\n",
    "                            b += color[2]\n",
    "                        except IndexError:\n",
    "                            r += 128\n",
    "                            g += 128\n",
    "                            b += 128\n",
    "                        finally:\n",
    "                            lock = True\n",
    "                else:\n",
    "                    c1 = self.surface.get_at((x, y + kernel_offset))\n",
    "                    c2 = self.surface.get_at((x, y - kernel_offset - 1))\n",
    "                    r += c1[0] - c2[0]\n",
    "                    g += c1[1] - c2[1]\n",
    "                    b += c1[2] - c2[2]\n",
    "\n",
    "                self.source_array[x - self.kernel_half][y - self.kernel_half] = (r / self.kernel_length,\n",
    "                                                                                 g / self.kernel_length,\n",
    "                                                                                 b / self.kernel_length)\n",
    "        return self.source_array\n",
    "\n",
    "    def convolutions(self):\n",
    "        vertical_convo = self.convolution_v()\n",
    "        self.surface = pygame.surfarray.make_surface(vertical_convo)\n",
    "        return self.convolution_h()\n",
    "\n",
    "\n",
    "class GaussianBoxBlur9x9_method1:\n",
    "\n",
    "    def __init__(self, surface_, shape_):\n",
    "\n",
    "        # kernel 5x5 separable\n",
    "        self.kernel_v = numpy.array(([1, 1, 1, 1, 1, 1, 1, 1, 1]))  # vertical vector\n",
    "        self.kernel_h = numpy.array(([1, 1, 1, 1, 1, 1, 1, 1, 1]))  # horizontal vector\n",
    "        self.kernel_half = 4\n",
    "        self.surface = surface_\n",
    "        self.shape = shape_\n",
    "        self.source_array = numpy.zeros((self.shape[0], self.shape[1], 3))\n",
    "        self.kernel_length = len(self.kernel_h)\n",
    "        self.array = pygame.surfarray.array3d(surface_)\n",
    "\n",
    "    # Horizontal\n",
    "    def convolution_h(self):\n",
    "        self.source_array = numpy.zeros((self.shape[0], self.shape[1], 3))\n",
    "        \n",
    "        for y in range(0, self.shape[1]):\n",
    "\n",
    "            for x in range(0, self.shape[0]):\n",
    "\n",
    "                r, g, b = 0, 0, 0\n",
    "                for kernel_offset in range(-self.kernel_half, self.kernel_half + 1):\n",
    "                    try:\n",
    "                        xx = x + kernel_offset\n",
    "                        color = self.surface.get_at((xx, y))\n",
    "                        r += color[0]\n",
    "                        g += color[1]\n",
    "                        b += color[2]\n",
    "                    except IndexError:\n",
    "                        r += 128\n",
    "                        g += 128\n",
    "                        b += 128\n",
    "                self.source_array[x][y] = (r / self.kernel_length,\n",
    "                                           g / self.kernel_length,\n",
    "                                           b / self.kernel_length)\n",
    "        return self.source_array\n",
    "\n",
    "    # Vertical\n",
    "    def convolution_v(self):\n",
    "        self.source_array = numpy.zeros((self.shape[0], self.shape[1], 3))\n",
    "\n",
    "        for y in range(0, self.shape[1]):\n",
    "\n",
    "            for x in range(0, self.shape[0]):\n",
    "                r, g, b = 0, 0, 0\n",
    "                for kernel_offset in range(-self.kernel_half, self.kernel_half + 1):\n",
    "                    try:\n",
    "                        yy = y + kernel_offset\n",
    "                        color = self.surface.get_at((x, yy))\n",
    "                        r += color[0]\n",
    "                        g += color[1]\n",
    "                        b += color[2]\n",
    "                    except IndexError:\n",
    "                        r += 128\n",
    "                        g += 128\n",
    "                        b += 128\n",
    "                self.source_array[x][y] = (r / self.kernel_length,\n",
    "                                           g / self.kernel_length,\n",
    "                                           b / self.kernel_length)\n",
    "        return self.source_array\n",
    "\n",
    "    def convolutions(self):\n",
    "        vertical_convo = self.convolution_v()\n",
    "        self.surface = pygame.surfarray.make_surface(vertical_convo)\n",
    "        return self.convolution_h()\n",
    "\n",
    "\n",
    "\n",
    "class GaussianBlur5x5:\n",
    "\n",
    "    def __init__(self, surface_, shape_):\n",
    "\n",
    "        # kernel 5x5 separable\n",
    "        self.kernel_v = numpy.array(([1 / 16, 4 / 16, 6 / 16, 4 / 16, 1 / 16]))  # vertical vector\n",
    "        self.kernel_h = numpy.array(([1 / 16, 4 / 16, 6 / 16, 4 / 16, 1 / 16]))  # horizontal vector\n",
    "\n",
    "        self.kernel_half = 2\n",
    "        self.surface = surface_\n",
    "        self.shape = shape_\n",
    "        self.source_array = numpy.zeros((self.shape[0], self.shape[1], 3))\n",
    "\n",
    "    # Horizontal\n",
    "    def convolution_h(self):\n",
    "\n",
    "        for y in range(0, self.shape[1]):\n",
    "\n",
    "            for x in range(0, self.shape[0]):\n",
    "                r, g, b = 0, 0, 0\n",
    "\n",
    "                for kernel_offset in range(-self.kernel_half, self.kernel_half + 1):\n",
    "                    try:\n",
    "                        xx = x + kernel_offset\n",
    "                        k = self.kernel_h[kernel_offset + self.kernel_half]\n",
    "                        color = self.surface.get_at((xx, y))\n",
    "                        r += color[0] * k\n",
    "                        g += color[1] * k\n",
    "                        b += color[2] * k\n",
    "\n",
    "                    except IndexError:\n",
    "                        k = self.kernel_h[kernel_offset + self.kernel_half]\n",
    "                        r += 128 * k\n",
    "                        g += 128 * k\n",
    "                        b += 128 * k\n",
    "\n",
    "                self.source_array[x][y] = (r, g, b)\n",
    "\n",
    "        return self.source_array\n",
    "\n",
    "    # Vertical\n",
    "    def convolution_v(self):\n",
    "\n",
    "        for y in range(0, self.shape[1]):\n",
    "\n",
    "            for x in range(0, self.shape[0]):\n",
    "                r, g, b = 0, 0, 0\n",
    "                for kernel_offset in range(-self.kernel_half, self.kernel_half + 1):\n",
    "                    try:\n",
    "                        yy = y + kernel_offset\n",
    "                        color = self.surface.get_at((x, yy))\n",
    "                        k = self.kernel_v[kernel_offset + self.kernel_half]\n",
    "                        r += color[0] * k\n",
    "                        g += color[1] * k\n",
    "                        b += color[2] * k\n",
    "\n",
    "                    except IndexError:\n",
    "                        k = self.kernel_v[kernel_offset + self.kernel_half]\n",
    "                        r += 128 * k\n",
    "                        g += 128 * k\n",
    "                        b += 128 * k\n",
    "\n",
    "                self.source_array[x][y] = (r, g, b)\n",
    "\n",
    "        return self.source_array\n",
    "\n",
    "    def convolutions(self):\n",
    "        vertical_convo = self.convolution_v()\n",
    "        self.surface = pygame.surfarray.make_surface(vertical_convo)\n",
    "        return self.convolution_h()\n",
    "\n",
    "\n",
    "if __name__ == '__main__':\n",
    "    numpy.set_printoptions(threshold=numpy.nan)\n",
    "\n",
    "    SIZE = (800, 600)\n",
    "    SCREENRECT = pygame.Rect((0, 0), SIZE)\n",
    "    pygame.init()\n",
    "    SCREEN = pygame.display.set_mode(SCREENRECT.size, pygame.RESIZABLE, 32)\n",
    "    TEXTURE1 = pygame.image.load(\"dog.jpg\").convert()\n",
    "    TEXTURE1 = pygame.transform.smoothscale(TEXTURE1, (SIZE[0], SIZE[1] >> 1))\n",
    "    # Texture re-scale to create extra data (padding) on each sides\n",
    "    PADDING = pygame.transform.smoothscale(TEXTURE1, (SIZE[0] + 8, (SIZE[1] >> 1) + 8))\n",
    "    # 2.5 seconds 800x300\n",
    "    # Gauss = GaussianBoxBlur9x9_method2(PADDING, PADDING.get_size())\n",
    "    # 6 seconds 800x300\n",
    "    Gauss = GaussianBoxBlur9x9_method1(TEXTURE1, TEXTURE1.get_size())\n",
    "    # 8.7 seconds 800x300\n",
    "    # Gauss = GaussianBlur5x5(TEXTURE1, TEXTURE1.get_size())\n",
    "\n",
    "    t = time.time()\n",
    "    # array = Gauss.convolutions()\n",
    "    array = Gauss.convolutions()\n",
    "    print(time.time() - t)\n",
    "\n",
    "    FRAME = 0\n",
    "    clock = pygame.time.Clock()\n",
    "    STOP_GAME = False\n",
    "    PAUSE = False\n",
    "\n",
    "    while not STOP_GAME:\n",
    "\n",
    "        pygame.event.pump()\n",
    "\n",
    "        while PAUSE:\n",
    "            event = pygame.event.wait()\n",
    "            keys = pygame.key.get_pressed()\n",
    "            if keys[pygame.K_PAUSE]:\n",
    "                PAUSE = False\n",
    "                pygame.event.clear()\n",
    "                keys = None\n",
    "            break\n",
    "\n",
    "        for event in pygame.event.get():\n",
    "\n",
    "            keys = pygame.key.get_pressed()\n",
    "\n",
    "            if event.type == pygame.QUIT or keys[pygame.K_ESCAPE]:\n",
    "                print('Quitting')\n",
    "                STOP_GAME = True\n",
    "\n",
    "            elif event.type == pygame.MOUSEMOTION:\n",
    "                MOUSE_POS = event.pos\n",
    "\n",
    "            elif keys[pygame.K_PAUSE]:\n",
    "                PAUSE = True\n",
    "                print('Paused')\n",
    "\n",
    "        surface = pygame.surfarray.make_surface(array)\n",
    "\n",
    "        SCREEN.fill((0, 0, 0, 0))\n",
    "        SCREEN.blit(TEXTURE1, (0, 0))\n",
    "        SCREEN.blit(surface, (0, SIZE[1] // 2))\n",
    "\n",
    "        pygame.display.flip()\n",
    "        TIME_PASSED_SECONDS = clock.tick(120)\n",
    "        FRAME += 1\n",
    "\n",
    "    pygame.quit()\n",
    "\n"
   ]
  },
  {
   "cell_type": "code",
   "execution_count": 3,
   "metadata": {},
   "outputs": [
    {
     "ename": "error",
     "evalue": "cannot convert without pygame.display initialized",
     "output_type": "error",
     "traceback": [
      "\u001b[1;31m---------------------------------------------------------------------------\u001b[0m",
      "\u001b[1;31merror\u001b[0m                                     Traceback (most recent call last)",
      "\u001b[1;32m<ipython-input-3-97cee30371ab>\u001b[0m in \u001b[0;36m<module>\u001b[1;34m\u001b[0m\n\u001b[0;32m      1\u001b[0m \u001b[0mTEXTURE1\u001b[0m \u001b[1;33m=\u001b[0m \u001b[0mpygame\u001b[0m\u001b[1;33m.\u001b[0m\u001b[0mimage\u001b[0m\u001b[1;33m.\u001b[0m\u001b[0mload\u001b[0m\u001b[1;33m(\u001b[0m\u001b[1;34m\"dog.jpg\"\u001b[0m\u001b[1;33m)\u001b[0m\u001b[1;33m\u001b[0m\u001b[1;33m\u001b[0m\u001b[0m\n\u001b[1;32m----> 2\u001b[1;33m \u001b[0mtype\u001b[0m\u001b[1;33m(\u001b[0m\u001b[0mTEXTURE1\u001b[0m\u001b[1;33m.\u001b[0m\u001b[0mconvert\u001b[0m\u001b[1;33m(\u001b[0m\u001b[1;33m)\u001b[0m\u001b[1;33m)\u001b[0m\u001b[1;33m\u001b[0m\u001b[1;33m\u001b[0m\u001b[0m\n\u001b[0m",
      "\u001b[1;31merror\u001b[0m: cannot convert without pygame.display initialized"
     ]
    }
   ],
   "source": [
    "TEXTURE1 = pygame.image.load(\"dog.jpg\")\n",
    "type(TEXTURE1.convert())"
   ]
  },
  {
   "cell_type": "code",
   "execution_count": null,
   "metadata": {},
   "outputs": [],
   "source": [
    "TEXTURE1 = pygame.image.load(\"dog.jpg\").convert()"
   ]
  },
  {
   "cell_type": "code",
   "execution_count": null,
   "metadata": {},
   "outputs": [],
   "source": [
    "TEXTURE1 = pygame.transform.smoothscale(TEXTURE1, (SIZE[0], SIZE[1] >> 1))"
   ]
  },
  {
   "cell_type": "code",
   "execution_count": 4,
   "metadata": {},
   "outputs": [
    {
     "ename": "AttributeError",
     "evalue": "'int' object has no attribute 'convert'",
     "output_type": "error",
     "traceback": [
      "\u001b[1;31m---------------------------------------------------------------------------\u001b[0m",
      "\u001b[1;31mAttributeError\u001b[0m                            Traceback (most recent call last)",
      "\u001b[1;32m<ipython-input-4-237310086d3a>\u001b[0m in \u001b[0;36m<module>\u001b[1;34m\u001b[0m\n\u001b[0;32m      1\u001b[0m \u001b[0ma\u001b[0m\u001b[1;33m=\u001b[0m\u001b[1;36m1\u001b[0m\u001b[1;33m\u001b[0m\u001b[1;33m\u001b[0m\u001b[0m\n\u001b[1;32m----> 2\u001b[1;33m \u001b[0ma\u001b[0m\u001b[1;33m.\u001b[0m\u001b[0mconvert\u001b[0m\u001b[1;33m(\u001b[0m\u001b[1;33m)\u001b[0m\u001b[1;33m\u001b[0m\u001b[1;33m\u001b[0m\u001b[0m\n\u001b[0m",
      "\u001b[1;31mAttributeError\u001b[0m: 'int' object has no attribute 'convert'"
     ]
    }
   ],
   "source": [
    "a=1\n",
    "a.convert()"
   ]
  },
  {
   "cell_type": "code",
   "execution_count": 5,
   "metadata": {},
   "outputs": [
    {
     "data": {
      "text/plain": [
       "(251, 201)"
      ]
     },
     "execution_count": 5,
     "metadata": {},
     "output_type": "execute_result"
    }
   ],
   "source": [
    "TEXTURE1.get_size()"
   ]
  },
  {
   "cell_type": "code",
   "execution_count": 6,
   "metadata": {},
   "outputs": [
    {
     "data": {
      "text/plain": [
       "(251, 201)"
      ]
     },
     "execution_count": 6,
     "metadata": {},
     "output_type": "execute_result"
    }
   ],
   "source": [
    "from PIL import Image, ImageDraw\n",
    "import numpy as np\n",
    "image = Image.open('dog.jpg')\n",
    "image.size"
   ]
  },
  {
   "cell_type": "code",
   "execution_count": 7,
   "metadata": {},
   "outputs": [
    {
     "data": {
      "text/plain": [
       "<Surface(251x201x24 SW)>"
      ]
     },
     "execution_count": 7,
     "metadata": {},
     "output_type": "execute_result"
    }
   ],
   "source": [
    "TEXTURE1"
   ]
  },
  {
   "cell_type": "code",
   "execution_count": 9,
   "metadata": {},
   "outputs": [],
   "source": [
    "a=pygame.image.load(\"dog.jpg\")"
   ]
  },
  {
   "cell_type": "code",
   "execution_count": 11,
   "metadata": {},
   "outputs": [
    {
     "ename": "AttributeError",
     "evalue": "'pygame.Surface' object has no attribute 'display'",
     "output_type": "error",
     "traceback": [
      "\u001b[1;31m---------------------------------------------------------------------------\u001b[0m",
      "\u001b[1;31mAttributeError\u001b[0m                            Traceback (most recent call last)",
      "\u001b[1;32m<ipython-input-11-d73c24620fc9>\u001b[0m in \u001b[0;36m<module>\u001b[1;34m\u001b[0m\n\u001b[1;32m----> 1\u001b[1;33m \u001b[0ma\u001b[0m\u001b[1;33m.\u001b[0m\u001b[0mdisplay\u001b[0m\u001b[1;33m\u001b[0m\u001b[1;33m\u001b[0m\u001b[0m\n\u001b[0m",
      "\u001b[1;31mAttributeError\u001b[0m: 'pygame.Surface' object has no attribute 'display'"
     ]
    }
   ],
   "source": [
    "a.display"
   ]
  },
  {
   "cell_type": "code",
   "execution_count": null,
   "metadata": {},
   "outputs": [],
   "source": []
  }
 ],
 "metadata": {
  "kernelspec": {
   "display_name": "Python 3",
   "language": "python",
   "name": "python3"
  },
  "language_info": {
   "codemirror_mode": {
    "name": "ipython",
    "version": 3
   },
   "file_extension": ".py",
   "mimetype": "text/x-python",
   "name": "python",
   "nbconvert_exporter": "python",
   "pygments_lexer": "ipython3",
   "version": "3.7.1"
  },
  "toc": {
   "base_numbering": 1,
   "nav_menu": {},
   "number_sections": true,
   "sideBar": true,
   "skip_h1_title": false,
   "title_cell": "Table of Contents",
   "title_sidebar": "Contents",
   "toc_cell": false,
   "toc_position": {},
   "toc_section_display": true,
   "toc_window_display": false
  }
 },
 "nbformat": 4,
 "nbformat_minor": 2
}
