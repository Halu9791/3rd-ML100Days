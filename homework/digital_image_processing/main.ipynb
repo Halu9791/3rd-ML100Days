{
 "cells": [
  {
   "cell_type": "markdown",
   "metadata": {},
   "source": [
    "https://github.com/ilkayDevran/Gaussian_Filtering/tree/456b41df03761546cd61634caaeb7817478dfd47"
   ]
  },
  {
   "cell_type": "code",
   "execution_count": 20,
   "metadata": {},
   "outputs": [],
   "source": [
    "#import other\n",
    "%run other.ipynb\n",
    "%run muti_filter.ipynb"
   ]
  },
  {
   "cell_type": "code",
   "execution_count": 21,
   "metadata": {},
   "outputs": [],
   "source": [
    "import numpy as np\n",
    "import time\n",
    "import math\n",
    "import matplotlib.pyplot as plt\n",
    "from PIL import Image, ImageDraw"
   ]
  },
  {
   "cell_type": "code",
   "execution_count": 23,
   "metadata": {},
   "outputs": [],
   "source": [
    "def Main():\n",
    "    # 設定參數\n",
    "    large_mesh = 11\n",
    "    n = 2   #kernel\n",
    "    # 匯入圖片\n",
    "    image_path = 'source/gaussian-noise.jpg'\n",
    "    init_image = other_class.input_image(image_path)\n",
    "    # 把圖片切成大 mesh\n",
    "    input_image = other_class.to_mesh(init_image, large_mesh)\n",
    "    \n",
    "    #------------------------------高斯濾波--------------------------------------------\n",
    "    '''\n",
    "    Variance = 5 (默認為gaussian，通常直接給定Variance越大效果越好)\n",
    "    n : kernel=2*2\n",
    "    卷積方式 : 沒有padding，根據slider window的大小位置決定其他pixel的座標。\n",
    "    '''\n",
    "    input_image_gaussian = filter_class.gaussian_filter(input_image, init_image, 5, n=2)\n",
    "    # mesh轉成array\n",
    "    output_image = other_class.mesh_to_array(input_image_gaussian, init_image, large_mesh)\n",
    "    \n",
    "    #------------------------------中值濾波--------------------------------------------\n",
    "    output_image = filter_class.median_filter(output_image, n = 3)\n",
    "    '''\n",
    "    n : kernel(默認為3)\n",
    "    卷積方式 : 在圖片周圍根據kernel增加padding\n",
    "    '''\n",
    "    \n",
    "    #------------------------------均值濾波--------------------------------------------\n",
    "    output_image = filter_class.average_filter(output_image, n = 3)\n",
    "    '''\n",
    "    n : kernel(默認為3)\n",
    "    卷積方式 : 在圖片周圍根據kernel增加padding\n",
    "    '''\n",
    "    #------------------------------銳化濾波--------------------------------------------\n",
    "    '''\n",
    "    卷積方式 : 在圖片周圍根據kernel增加padding\n",
    "    '''\n",
    "    #output_image = filter_class.Sharpening_filter_laplacian_3x3(output_image)\n",
    "    output_image = filter_class.Sharpening_filter_laplacian_5x5(output_image)\n",
    "    \n",
    "    \n",
    "    # 並將array轉成圖片，並儲存\n",
    "    show_image = Image.fromarray(output_image, 'RGB')\n",
    "    show_image.save('result/new_cat.png')"
   ]
  },
  {
   "cell_type": "code",
   "execution_count": 24,
   "metadata": {},
   "outputs": [
    {
     "name": "stdout",
     "output_type": "stream",
     "text": [
      "x_scale: 22\n",
      "y_scale: 19\n"
     ]
    }
   ],
   "source": [
    "if __name__ == '__main__':\n",
    "    Main()"
   ]
  },
  {
   "cell_type": "code",
   "execution_count": null,
   "metadata": {},
   "outputs": [],
   "source": []
  }
 ],
 "metadata": {
  "kernelspec": {
   "display_name": "Python 3",
   "language": "python",
   "name": "python3"
  },
  "language_info": {
   "codemirror_mode": {
    "name": "ipython",
    "version": 3
   },
   "file_extension": ".py",
   "mimetype": "text/x-python",
   "name": "python",
   "nbconvert_exporter": "python",
   "pygments_lexer": "ipython3",
   "version": "3.7.3"
  },
  "toc": {
   "base_numbering": 1,
   "nav_menu": {},
   "number_sections": true,
   "sideBar": true,
   "skip_h1_title": false,
   "title_cell": "Table of Contents",
   "title_sidebar": "Contents",
   "toc_cell": false,
   "toc_position": {},
   "toc_section_display": true,
   "toc_window_display": false
  }
 },
 "nbformat": 4,
 "nbformat_minor": 2
}
