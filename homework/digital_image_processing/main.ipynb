{
 "cells": [
  {
   "cell_type": "markdown",
   "metadata": {},
   "source": [
    "https://github.com/ilkayDevran/Gaussian_Filtering/tree/456b41df03761546cd61634caaeb7817478dfd47"
   ]
  },
  {
   "cell_type": "code",
   "execution_count": 17,
   "metadata": {},
   "outputs": [],
   "source": [
    "#import other\n",
    "%run other.ipynb\n",
    "%run muti_filter.ipynb"
   ]
  },
  {
   "cell_type": "code",
   "execution_count": 18,
   "metadata": {},
   "outputs": [],
   "source": [
    "import numpy as np\n",
    "import time\n",
    "import math\n",
    "import matplotlib.pyplot as plt\n",
    "from PIL import Image, ImageDraw"
   ]
  },
  {
   "cell_type": "code",
   "execution_count": 23,
   "metadata": {},
   "outputs": [],
   "source": [
    "def Main():\n",
    "    # 匯入圖片，並轉成 array\n",
    "    image_path = 'source/fume_hood.jpg'\n",
    "    init_image = other_class.open_image(image_path)\n",
    "    output_image = np.array(init_image) # array\n",
    "    #------------------------------裁減圖片--------------------------------------------\n",
    "    output_image = other_class.cut_image(init_image,300,1300,0,1080) #w_min, w_max, h_min, h_max\n",
    "    \n",
    "    #------------------------------二值化(輸入array)--------------------------------------------\n",
    "    output_image = filter_class.binarization(output_image, threshold_low=30, threshold_high=205 )\n",
    "    \n",
    "    #------------------------------中值濾波(輸入array)--------------------------------------------\n",
    "    #output_image = filter_class.median_filter(output_image, n = 3)\n",
    "    '''\n",
    "    n : kernel(默認為3)\n",
    "    卷積方式 : 在圖片周圍根據kernel增加padding\n",
    "    '''\n",
    "    \n",
    "    #------------------------------均值濾波(輸入array)--------------------------------------------\n",
    "    #output_image = filter_class.average_filter(output_image, n = 3)\n",
    "    '''\n",
    "    n : kernel(默認為3)\n",
    "    卷積方式 : 在圖片周圍根據kernel增加padding\n",
    "    '''\n",
    "    \n",
    "    #------------------------------二值化(輸入array)--------------------------------------------\n",
    "    #output_image = filter_class.binarization(output_image, threshold_low=30, threshold_high=225 )\n",
    "    #output_image = filter_class.average_filter(output_image, n = 3)\n",
    "    \n",
    "    #------------------------------銳化濾波(輸入array)--------------------------------------------\n",
    "    '''\n",
    "    卷積方式 : 在圖片周圍根據kernel增加padding\n",
    "    '''\n",
    "    #output_image = filter_class.Sharpening_filter_laplacian_3x3(output_image, c=1, level=28)\n",
    "    #output_image = filter_class.Sharpening_filter_laplacian_5x5(output_image)\n",
    "    #------------------------------對比(histogram equalization)--------------------------------------------\n",
    "    output_image = filter_class.contrast_histogram_equalization(output_image)\n",
    "    \n",
    "    \n",
    "    # 並將array轉成圖片，並儲存\n",
    "    show_image = Image.fromarray(output_image, 'RGB')\n",
    "    show_image.save('result/new_cat.jpg')"
   ]
  },
  {
   "cell_type": "code",
   "execution_count": 24,
   "metadata": {},
   "outputs": [
    {
     "name": "stdout",
     "output_type": "stream",
     "text": [
      "影像大小 : (1920, 1080)\n"
     ]
    }
   ],
   "source": [
    "if __name__ == '__main__':\n",
    "    Main()"
   ]
  },
  {
   "cell_type": "code",
   "execution_count": null,
   "metadata": {},
   "outputs": [],
   "source": []
  },
  {
   "cell_type": "code",
   "execution_count": null,
   "metadata": {},
   "outputs": [],
   "source": []
  },
  {
   "cell_type": "code",
   "execution_count": null,
   "metadata": {},
   "outputs": [],
   "source": []
  },
  {
   "cell_type": "code",
   "execution_count": 114,
   "metadata": {},
   "outputs": [],
   "source": [
    "def Main():\n",
    "    # 匯入圖片，並轉成 array\n",
    "    image_path = 'source/gaussian-noise.jpg'\n",
    "    init_image = other_class.open_image(image_path)\n",
    "    output_image = np.array(init_image) # array\n",
    "     \n",
    "    #------------------------------高斯濾波(輸入array)--------------------------------------------\n",
    "    # 把圖片切成大 mesh\n",
    "    large_mesh_size = 11\n",
    "    n = 2   #kernel\n",
    "    output_image = other_class.to_mesh(output_image, large_mesh_size)\n",
    "    '''\n",
    "    Variance = 5 (默認為gaussian，通常直接給定Variance越大效果越好)\n",
    "    n : kernel=2*2\n",
    "    卷積方式 : 沒有padding，根據slider window的大小位置決定其他pixel的座標。\n",
    "    '''\n",
    "    output_image = filter_class.gaussian_filter(output_image, init_image, 5, n=3)\n",
    "    # mesh轉成array\n",
    "    output_image = other_class.mesh_to_array(output_image, init_image, large_mesh_size)\n",
    "    \n",
    "    #------------------------------中值濾波(輸入array)--------------------------------------------\n",
    "    output_image = filter_class.median_filter(output_image, n = 3)\n",
    "    '''\n",
    "    n : kernel(默認為3)\n",
    "    卷積方式 : 在圖片周圍根據kernel增加padding\n",
    "    '''\n",
    "    \n",
    "    #------------------------------均值濾波(輸入array)--------------------------------------------\n",
    "    output_image = filter_class.average_filter(output_image, n = 3)\n",
    "    '''\n",
    "    n : kernel(默認為3)\n",
    "    卷積方式 : 在圖片周圍根據kernel增加padding\n",
    "    '''\n",
    "    \n",
    "    #------------------------------二值化(輸入array)--------------------------------------------\n",
    "    #output_image = filter_class.binarization(output_image, threshold_low=30, threshold_high=225 )\n",
    "    #output_image = filter_class.average_filter(output_image, n = 3)\n",
    "    \n",
    "    #------------------------------銳化濾波(輸入array)--------------------------------------------\n",
    "    '''\n",
    "    卷積方式 : 在圖片周圍根據kernel增加padding\n",
    "    '''\n",
    "    #output_image = filter_class.Sharpening_filter_laplacian_3x3(output_image,c=50)\n",
    "    output_image = filter_class.Sharpening_filter_laplacian_5x5(output_image)\n",
    "    #------------------------------對比(histogram equalization)--------------------------------------------\n",
    "    #output_image = filter_class.contrast_histogram_equalization(output_image)\n",
    "    \n",
    "    \n",
    "    # 並將array轉成圖片，並儲存\n",
    "    show_image = Image.fromarray(output_image, 'RGB')\n",
    "    show_image.save('result/new_cat.jpg')"
   ]
  },
  {
   "cell_type": "code",
   "execution_count": 115,
   "metadata": {},
   "outputs": [
    {
     "name": "stdout",
     "output_type": "stream",
     "text": [
      "x_scale: 22\n",
      "y_scale: 19\n"
     ]
    },
    {
     "ename": "NameError",
     "evalue": "name 'large_mesh' is not defined",
     "output_type": "error",
     "traceback": [
      "\u001b[1;31m---------------------------------------------------------------------------\u001b[0m",
      "\u001b[1;31mNameError\u001b[0m                                 Traceback (most recent call last)",
      "\u001b[1;32m<ipython-input-115-2ebd6d67ac3f>\u001b[0m in \u001b[0;36m<module>\u001b[1;34m\u001b[0m\n\u001b[0;32m      1\u001b[0m \u001b[1;32mif\u001b[0m \u001b[0m__name__\u001b[0m \u001b[1;33m==\u001b[0m \u001b[1;34m'__main__'\u001b[0m\u001b[1;33m:\u001b[0m\u001b[1;33m\u001b[0m\u001b[1;33m\u001b[0m\u001b[0m\n\u001b[1;32m----> 2\u001b[1;33m     \u001b[0mMain\u001b[0m\u001b[1;33m(\u001b[0m\u001b[1;33m)\u001b[0m\u001b[1;33m\u001b[0m\u001b[1;33m\u001b[0m\u001b[0m\n\u001b[0m",
      "\u001b[1;32m<ipython-input-114-dc22e03d7b26>\u001b[0m in \u001b[0;36mMain\u001b[1;34m()\u001b[0m\n\u001b[0;32m     17\u001b[0m     \u001b[0moutput_image\u001b[0m \u001b[1;33m=\u001b[0m \u001b[0mfilter_class\u001b[0m\u001b[1;33m.\u001b[0m\u001b[0mgaussian_filter\u001b[0m\u001b[1;33m(\u001b[0m\u001b[0moutput_image\u001b[0m\u001b[1;33m,\u001b[0m \u001b[0minit_image\u001b[0m\u001b[1;33m,\u001b[0m \u001b[1;36m5\u001b[0m\u001b[1;33m,\u001b[0m \u001b[0mn\u001b[0m\u001b[1;33m=\u001b[0m\u001b[1;36m3\u001b[0m\u001b[1;33m)\u001b[0m\u001b[1;33m\u001b[0m\u001b[1;33m\u001b[0m\u001b[0m\n\u001b[0;32m     18\u001b[0m     \u001b[1;31m# mesh轉成array\u001b[0m\u001b[1;33m\u001b[0m\u001b[1;33m\u001b[0m\u001b[1;33m\u001b[0m\u001b[0m\n\u001b[1;32m---> 19\u001b[1;33m     \u001b[0moutput_image\u001b[0m \u001b[1;33m=\u001b[0m \u001b[0mother_class\u001b[0m\u001b[1;33m.\u001b[0m\u001b[0mmesh_to_array\u001b[0m\u001b[1;33m(\u001b[0m\u001b[0moutput_image\u001b[0m\u001b[1;33m,\u001b[0m \u001b[0minit_image\u001b[0m\u001b[1;33m,\u001b[0m \u001b[0mlarge_mesh\u001b[0m\u001b[1;33m)\u001b[0m\u001b[1;33m\u001b[0m\u001b[1;33m\u001b[0m\u001b[0m\n\u001b[0m\u001b[0;32m     20\u001b[0m \u001b[1;33m\u001b[0m\u001b[0m\n\u001b[0;32m     21\u001b[0m     \u001b[1;31m#------------------------------中值濾波(輸入array)--------------------------------------------\u001b[0m\u001b[1;33m\u001b[0m\u001b[1;33m\u001b[0m\u001b[1;33m\u001b[0m\u001b[0m\n",
      "\u001b[1;31mNameError\u001b[0m: name 'large_mesh' is not defined"
     ]
    }
   ],
   "source": [
    "if __name__ == '__main__':\n",
    "    Main()"
   ]
  },
  {
   "cell_type": "code",
   "execution_count": null,
   "metadata": {},
   "outputs": [],
   "source": []
  }
 ],
 "metadata": {
  "kernelspec": {
   "display_name": "Python 3",
   "language": "python",
   "name": "python3"
  },
  "language_info": {
   "codemirror_mode": {
    "name": "ipython",
    "version": 3
   },
   "file_extension": ".py",
   "mimetype": "text/x-python",
   "name": "python",
   "nbconvert_exporter": "python",
   "pygments_lexer": "ipython3",
   "version": "3.7.3"
  },
  "toc": {
   "base_numbering": 1,
   "nav_menu": {},
   "number_sections": true,
   "sideBar": true,
   "skip_h1_title": false,
   "title_cell": "Table of Contents",
   "title_sidebar": "Contents",
   "toc_cell": false,
   "toc_position": {},
   "toc_section_display": true,
   "toc_window_display": false
  }
 },
 "nbformat": 4,
 "nbformat_minor": 2
}
