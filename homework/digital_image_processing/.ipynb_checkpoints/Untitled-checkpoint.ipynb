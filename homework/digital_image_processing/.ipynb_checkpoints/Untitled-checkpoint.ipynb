{
 "cells": [
  {
   "cell_type": "markdown",
   "metadata": {},
   "source": [
    "[Gaussian-Blur](https://github.com/yoyoberenguer/Gaussian-Blur/blob/master/GaussianBlur.py)\n",
    "\n",
    "[cv2_gaussian](https://github.com/ferdyandannes/Standar-Average-Gaussian-Blur-Median-Filter-on-Python/blob/master/Gaussian.py)\n",
    "\n",
    "https://github.com/ilkayDevran/Gaussian_Filtering/tree/456b41df03761546cd61634caaeb7817478dfd47\n",
    "\n",
    "https://github.com/icewaterq/GaussianFilter\n",
    "\n",
    "https://dsp.stackexchange.com/questions/10057/gaussian-blur-standard-deviation-radius-and-kernel-size\n",
    "\n",
    "https://www.youtube.com/watch?v=ZoaEDbivmOE\n",
    "\n",
    "https://medium.com/@chih.sheng.huang821/%E5%8D%B7%E7%A9%8D%E7%A5%9E%E7%B6%93%E7%B6%B2%E8%B7%AF-convolutional-neural-network-cnn-cnn%E9%81%8B%E7%AE%97%E6%B5%81%E7%A8%8B-ecaec240a631\n",
    "\n",
    "http://hwshow-ipc.blogspot.com/2014/12/spatial-filtering.html\n",
    "\n",
    "https://www.pyimagesearch.com/2015/03/23/sliding-windows-for-object-detection-with-python-and-opencv/\n",
    "\n",
    "https://www.bioss.ac.uk/people/chris/ch3.pdf"
   ]
  },
  {
   "cell_type": "code",
   "execution_count": 2,
   "metadata": {},
   "outputs": [
    {
     "name": "stdout",
     "output_type": "stream",
     "text": [
      "pygame 1.9.6\n",
      "Hello from the pygame community. https://www.pygame.org/contribute.html\n"
     ]
    }
   ],
   "source": [
    "import pygame\n",
    "import numpy \n",
    "import time\n",
    "import math\n",
    "\n",
    "__author__ = \"Yoann Berenguer\"\n",
    "__copyright__ = \"Copyright 2007.\"\n",
    "__credits__ = [\"Yoann Berenguer\"]\n",
    "__license__ = \"MIT License\"\n",
    "__version__ = \"1.0.0\"\n",
    "__maintainer__ = \"Yoann Berenguer\"\n",
    "__email__ = \"yoyoberenguer@hotmail.com\"\n",
    "__status__ = \"Demo\"\n",
    "\n",
    "class GaussianBoxBlur9x9_method2:\n",
    "\n",
    "    def __init__(self, surface_, shape_): # 設定一些參數\n",
    "        # kernel 5x5 separable\n",
    "        self.kernel_v = numpy.array(([1, 1, 1, 1, 1, 1, 1, 1, 1]))  # vertical vector\n",
    "        self.kernel_h = numpy.array(([1, 1, 1, 1, 1, 1, 1, 1, 1]))  # horizontal vector\n",
    "        self.kernel_half = 4\n",
    "        # Surface with extra padding\n",
    "        self.surface = surface_  # _用途是為了防止參數和內建的參數相衝\n",
    "        # Shape of the array with extra padding\n",
    "        self.shape = shape_\n",
    "\n",
    "        self.source_array = numpy.zeros((self.shape[0], self.shape[1], 3))\n",
    "        self.kernel_length = len(self.kernel_h)\n",
    "    \n",
    "    # Horizontal\n",
    "    def convolution_h(self):\n",
    "        for y in range(self.kernel_half, self.shape[1])"
   ]
  },
  {
   "cell_type": "code",
   "execution_count": 3,
   "metadata": {},
   "outputs": [
    {
     "data": {
      "text/plain": [
       "array([0.0625, 0.25  , 0.375 , 0.25  , 0.0625])"
      ]
     },
     "execution_count": 3,
     "metadata": {},
     "output_type": "execute_result"
    }
   ],
   "source": []
  },
  {
   "cell_type": "code",
   "execution_count": null,
   "metadata": {},
   "outputs": [],
   "source": []
  }
 ],
 "metadata": {
  "kernelspec": {
   "display_name": "Python 3",
   "language": "python",
   "name": "python3"
  },
  "language_info": {
   "codemirror_mode": {
    "name": "ipython",
    "version": 3
   },
   "file_extension": ".py",
   "mimetype": "text/x-python",
   "name": "python",
   "nbconvert_exporter": "python",
   "pygments_lexer": "ipython3",
   "version": "3.7.1"
  },
  "toc": {
   "base_numbering": 1,
   "nav_menu": {},
   "number_sections": true,
   "sideBar": true,
   "skip_h1_title": false,
   "title_cell": "Table of Contents",
   "title_sidebar": "Contents",
   "toc_cell": false,
   "toc_position": {},
   "toc_section_display": true,
   "toc_window_display": false
  }
 },
 "nbformat": 4,
 "nbformat_minor": 2
}
