{
 "cells": [
  {
   "cell_type": "markdown",
   "metadata": {},
   "source": [
    "https://github.com/ilkayDevran/Gaussian_Filtering/tree/456b41df03761546cd61634caaeb7817478dfd47"
   ]
  },
  {
   "cell_type": "code",
   "execution_count": 1,
   "metadata": {},
   "outputs": [],
   "source": [
    "#import other\n",
    "%run other.ipynb\n",
    "%run muti_filter.ipynb"
   ]
  },
  {
   "cell_type": "code",
   "execution_count": 2,
   "metadata": {},
   "outputs": [],
   "source": [
    "import numpy as np\n",
    "import time\n",
    "import math\n",
    "import matplotlib.pyplot as plt\n",
    "from PIL import Image, ImageDraw"
   ]
  },
  {
   "cell_type": "code",
   "execution_count": 3,
   "metadata": {},
   "outputs": [],
   "source": [
    "def Main():\n",
    "    # 設定參數\n",
    "    large_mesh = 11\n",
    "    n = 2   #kernel\n",
    "    # 匯入圖片\n",
    "    image_path = 'source/gaussian-noise.jpg'\n",
    "    init_image = other_class.input_image(image_path)\n",
    "    # 把圖片切成大 mesh\n",
    "    input_image = other_class.to_mesh(init_image, large_mesh)\n",
    "    #--------------------------------------------------------------------------\n",
    "    \n",
    "    # 高斯濾波 Variance=2 kernel=2*2\n",
    "    input_image_gaussian = gaussian_filter_class.gaussian_filter(input_image, init_image, 2, n=2)\n",
    "    \n",
    "    #--------------------------------------------------------------------------\n",
    "    # mesh轉成array\n",
    "    output_image = other_class.mesh_to_array(input_image_gaussian, init_image, large_mesh)\n",
    "    # 並將array轉成圖片，並儲存\n",
    "    show_image = Image.fromarray(output_image, 'RGB')\n",
    "    show_image.save('result/new_cat.png')"
   ]
  },
  {
   "cell_type": "code",
   "execution_count": 4,
   "metadata": {},
   "outputs": [
    {
     "name": "stdout",
     "output_type": "stream",
     "text": [
      "x_scale: 22\n",
      "y_scale: 19\n"
     ]
    }
   ],
   "source": [
    "if __name__ == '__main__':\n",
    "    Main()"
   ]
  },
  {
   "cell_type": "code",
   "execution_count": null,
   "metadata": {},
   "outputs": [],
   "source": []
  }
 ],
 "metadata": {
  "kernelspec": {
   "display_name": "Python 3",
   "language": "python",
   "name": "python3"
  },
  "language_info": {
   "codemirror_mode": {
    "name": "ipython",
    "version": 3
   },
   "file_extension": ".py",
   "mimetype": "text/x-python",
   "name": "python",
   "nbconvert_exporter": "python",
   "pygments_lexer": "ipython3",
   "version": "3.7.1"
  },
  "toc": {
   "base_numbering": 1,
   "nav_menu": {},
   "number_sections": true,
   "sideBar": true,
   "skip_h1_title": false,
   "title_cell": "Table of Contents",
   "title_sidebar": "Contents",
   "toc_cell": false,
   "toc_position": {},
   "toc_section_display": true,
   "toc_window_display": false
  }
 },
 "nbformat": 4,
 "nbformat_minor": 2
}
